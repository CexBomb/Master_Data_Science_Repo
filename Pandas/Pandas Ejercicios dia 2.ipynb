{
 "cells": [
  {
   "cell_type": "code",
   "execution_count": 3,
   "metadata": {
    "collapsed": true
   },
   "outputs": [],
   "source": [
    "path_to_zips = '/home/dsc/Data/us_dot/otp/'"
   ]
  },
  {
   "cell_type": "code",
   "execution_count": 2,
   "metadata": {
    "collapsed": false
   },
   "outputs": [
    {
     "name": "stdout",
     "output_type": "stream",
     "text": [
      "opentraveldata\tREADME.md  Untitled.ipynb  us_dot\r\n"
     ]
    }
   ],
   "source": [
    "!ls"
   ]
  },
  {
   "cell_type": "code",
   "execution_count": 5,
   "metadata": {
    "collapsed": false
   },
   "outputs": [
    {
     "name": "stdout",
     "output_type": "stream",
     "text": [
      "total 186M\r\n",
      "-rw-r--r--. 1 dsc dsc 22M nov  8 14:10 On_Time_On_Time_Performance_2015_1.zip\r\n",
      "-rw-r--r--. 1 dsc dsc 21M nov  8 14:10 On_Time_On_Time_Performance_2015_2.zip\r\n",
      "-rw-r--r--. 1 dsc dsc 24M nov  8 14:10 On_Time_On_Time_Performance_2015_3.zip\r\n",
      "-rw-r--r--. 1 dsc dsc 23M nov  8 14:10 On_Time_On_Time_Performance_2015_4.zip\r\n",
      "-rw-r--r--. 1 dsc dsc 24M nov  8 14:10 On_Time_On_Time_Performance_2015_5.zip\r\n",
      "-rw-r--r--. 1 dsc dsc 25M nov  8 14:10 On_Time_On_Time_Performance_2015_6.zip\r\n",
      "-rw-r--r--. 1 dsc dsc 25M nov  8 14:10 On_Time_On_Time_Performance_2015_7.zip\r\n",
      "-rw-r--r--. 1 dsc dsc 25M nov  8 14:10 On_Time_On_Time_Performance_2015_8.zip\r\n"
     ]
    }
   ],
   "source": [
    "!ls -l -h {path_to_zips}"
   ]
  },
  {
   "cell_type": "code",
   "execution_count": 6,
   "metadata": {
    "collapsed": false
   },
   "outputs": [
    {
     "name": "stdout",
     "output_type": "stream",
     "text": [
      "Archive:  /home/dsc/Data/us_dot/otp/On_Time_On_Time_Performance_2015_1.zip\r\n",
      "  Length      Date    Time    Name\r\n",
      "---------  ---------- -----   ----\r\n",
      "211633432  04-16-2015 20:02   On_Time_On_Time_Performance_2015_1.csv\r\n",
      "    12054  04-16-2015 20:02   readme.html\r\n",
      "---------                     -------\r\n",
      "211645486                     2 files\r\n"
     ]
    }
   ],
   "source": [
    "! unzip -l {path_to_zips}On_Time_On_Time_Performance_2015_1.zip"
   ]
  },
  {
   "cell_type": "code",
   "execution_count": 7,
   "metadata": {
    "collapsed": false
   },
   "outputs": [
    {
     "name": "stdout",
     "output_type": "stream",
     "text": [
      "Archive:  /home/dsc/Data/us_dot/otp/On_Time_On_Time_Performance_2015_1.zip\r\n",
      "  inflating: ./readme.html           \r\n"
     ]
    }
   ],
   "source": [
    "! unzip -o {path_to_zips}On_Time_On_Time_Performance_2015_1.zip readme.html -d ."
   ]
  },
  {
   "cell_type": "code",
   "execution_count": 10,
   "metadata": {
    "collapsed": false
   },
   "outputs": [],
   "source": [
    "from IPython.display import IFrame"
   ]
  },
  {
   "cell_type": "code",
   "execution_count": 11,
   "metadata": {
    "collapsed": false
   },
   "outputs": [
    {
     "data": {
      "text/html": [
       "\n",
       "        <iframe\n",
       "            width=\"700\"\n",
       "            height=\"500\"\n",
       "            src=\"readme.html\"\n",
       "            frameborder=\"0\"\n",
       "            allowfullscreen\n",
       "        ></iframe>\n",
       "        "
      ],
      "text/plain": [
       "<IPython.lib.display.IFrame at 0x7fde180d1690>"
      ]
     },
     "execution_count": 11,
     "metadata": {},
     "output_type": "execute_result"
    }
   ],
   "source": [
    "IFrame('readme.html',width=700, height=500)"
   ]
  },
  {
   "cell_type": "code",
   "execution_count": 60,
   "metadata": {
    "collapsed": true
   },
   "outputs": [],
   "source": [
    "import zipfile"
   ]
  },
  {
   "cell_type": "code",
   "execution_count": 61,
   "metadata": {
    "collapsed": false
   },
   "outputs": [],
   "source": [
    "zip_file = zipfile.ZipFile(path_to_zips + 'On_Time_On_Time_Performance_2015_1.zip')"
   ]
  },
  {
   "cell_type": "code",
   "execution_count": 62,
   "metadata": {
    "collapsed": false
   },
   "outputs": [
    {
     "data": {
      "text/plain": [
       "zipfile.ZipFile"
      ]
     },
     "execution_count": 62,
     "metadata": {},
     "output_type": "execute_result"
    }
   ],
   "source": [
    "type(zip_file)"
   ]
  },
  {
   "cell_type": "code",
   "execution_count": 63,
   "metadata": {
    "collapsed": false
   },
   "outputs": [],
   "source": [
    "csv_file = zip_file.open('On_Time_On_Time_Performance_2015_1.csv')"
   ]
  },
  {
   "cell_type": "code",
   "execution_count": 64,
   "metadata": {
    "collapsed": false
   },
   "outputs": [
    {
     "data": {
      "text/plain": [
       "zipfile.ZipExtFile"
      ]
     },
     "execution_count": 64,
     "metadata": {},
     "output_type": "execute_result"
    }
   ],
   "source": [
    "type(csv_file)"
   ]
  },
  {
   "cell_type": "code",
   "execution_count": 65,
   "metadata": {
    "collapsed": true
   },
   "outputs": [],
   "source": [
    "import pandas as pd"
   ]
  },
  {
   "cell_type": "code",
   "execution_count": 66,
   "metadata": {
    "collapsed": false
   },
   "outputs": [],
   "source": [
    "df = pd.read_csv(zip_file.open('On_Time_On_Time_Performance_2015_1.csv'))"
   ]
  },
  {
   "cell_type": "code",
   "execution_count": 67,
   "metadata": {
    "collapsed": false
   },
   "outputs": [
    {
     "data": {
      "text/html": [
       "<div>\n",
       "<table border=\"1\" class=\"dataframe\">\n",
       "  <thead>\n",
       "    <tr style=\"text-align: right;\">\n",
       "      <th></th>\n",
       "      <th>Year</th>\n",
       "      <th>Quarter</th>\n",
       "      <th>Month</th>\n",
       "      <th>DayofMonth</th>\n",
       "      <th>DayOfWeek</th>\n",
       "      <th>FlightDate</th>\n",
       "      <th>UniqueCarrier</th>\n",
       "      <th>AirlineID</th>\n",
       "      <th>Carrier</th>\n",
       "      <th>TailNum</th>\n",
       "      <th>...</th>\n",
       "      <th>Div4TailNum</th>\n",
       "      <th>Div5Airport</th>\n",
       "      <th>Div5AirportID</th>\n",
       "      <th>Div5AirportSeqID</th>\n",
       "      <th>Div5WheelsOn</th>\n",
       "      <th>Div5TotalGTime</th>\n",
       "      <th>Div5LongestGTime</th>\n",
       "      <th>Div5WheelsOff</th>\n",
       "      <th>Div5TailNum</th>\n",
       "      <th>Unnamed: 109</th>\n",
       "    </tr>\n",
       "  </thead>\n",
       "  <tbody>\n",
       "    <tr>\n",
       "      <th>0</th>\n",
       "      <td>2015</td>\n",
       "      <td>1</td>\n",
       "      <td>1</td>\n",
       "      <td>1</td>\n",
       "      <td>4</td>\n",
       "      <td>2015-01-01</td>\n",
       "      <td>AA</td>\n",
       "      <td>19805</td>\n",
       "      <td>AA</td>\n",
       "      <td>N787AA</td>\n",
       "      <td>...</td>\n",
       "      <td>NaN</td>\n",
       "      <td>NaN</td>\n",
       "      <td>NaN</td>\n",
       "      <td>NaN</td>\n",
       "      <td>NaN</td>\n",
       "      <td>NaN</td>\n",
       "      <td>NaN</td>\n",
       "      <td>NaN</td>\n",
       "      <td>NaN</td>\n",
       "      <td>NaN</td>\n",
       "    </tr>\n",
       "    <tr>\n",
       "      <th>1</th>\n",
       "      <td>2015</td>\n",
       "      <td>1</td>\n",
       "      <td>1</td>\n",
       "      <td>2</td>\n",
       "      <td>5</td>\n",
       "      <td>2015-01-02</td>\n",
       "      <td>AA</td>\n",
       "      <td>19805</td>\n",
       "      <td>AA</td>\n",
       "      <td>N795AA</td>\n",
       "      <td>...</td>\n",
       "      <td>NaN</td>\n",
       "      <td>NaN</td>\n",
       "      <td>NaN</td>\n",
       "      <td>NaN</td>\n",
       "      <td>NaN</td>\n",
       "      <td>NaN</td>\n",
       "      <td>NaN</td>\n",
       "      <td>NaN</td>\n",
       "      <td>NaN</td>\n",
       "      <td>NaN</td>\n",
       "    </tr>\n",
       "    <tr>\n",
       "      <th>2</th>\n",
       "      <td>2015</td>\n",
       "      <td>1</td>\n",
       "      <td>1</td>\n",
       "      <td>3</td>\n",
       "      <td>6</td>\n",
       "      <td>2015-01-03</td>\n",
       "      <td>AA</td>\n",
       "      <td>19805</td>\n",
       "      <td>AA</td>\n",
       "      <td>N788AA</td>\n",
       "      <td>...</td>\n",
       "      <td>NaN</td>\n",
       "      <td>NaN</td>\n",
       "      <td>NaN</td>\n",
       "      <td>NaN</td>\n",
       "      <td>NaN</td>\n",
       "      <td>NaN</td>\n",
       "      <td>NaN</td>\n",
       "      <td>NaN</td>\n",
       "      <td>NaN</td>\n",
       "      <td>NaN</td>\n",
       "    </tr>\n",
       "    <tr>\n",
       "      <th>3</th>\n",
       "      <td>2015</td>\n",
       "      <td>1</td>\n",
       "      <td>1</td>\n",
       "      <td>4</td>\n",
       "      <td>7</td>\n",
       "      <td>2015-01-04</td>\n",
       "      <td>AA</td>\n",
       "      <td>19805</td>\n",
       "      <td>AA</td>\n",
       "      <td>N791AA</td>\n",
       "      <td>...</td>\n",
       "      <td>NaN</td>\n",
       "      <td>NaN</td>\n",
       "      <td>NaN</td>\n",
       "      <td>NaN</td>\n",
       "      <td>NaN</td>\n",
       "      <td>NaN</td>\n",
       "      <td>NaN</td>\n",
       "      <td>NaN</td>\n",
       "      <td>NaN</td>\n",
       "      <td>NaN</td>\n",
       "    </tr>\n",
       "    <tr>\n",
       "      <th>4</th>\n",
       "      <td>2015</td>\n",
       "      <td>1</td>\n",
       "      <td>1</td>\n",
       "      <td>5</td>\n",
       "      <td>1</td>\n",
       "      <td>2015-01-05</td>\n",
       "      <td>AA</td>\n",
       "      <td>19805</td>\n",
       "      <td>AA</td>\n",
       "      <td>N783AA</td>\n",
       "      <td>...</td>\n",
       "      <td>NaN</td>\n",
       "      <td>NaN</td>\n",
       "      <td>NaN</td>\n",
       "      <td>NaN</td>\n",
       "      <td>NaN</td>\n",
       "      <td>NaN</td>\n",
       "      <td>NaN</td>\n",
       "      <td>NaN</td>\n",
       "      <td>NaN</td>\n",
       "      <td>NaN</td>\n",
       "    </tr>\n",
       "  </tbody>\n",
       "</table>\n",
       "<p>5 rows × 110 columns</p>\n",
       "</div>"
      ],
      "text/plain": [
       "   Year  Quarter  Month  DayofMonth  DayOfWeek  FlightDate UniqueCarrier  \\\n",
       "0  2015        1      1           1          4  2015-01-01            AA   \n",
       "1  2015        1      1           2          5  2015-01-02            AA   \n",
       "2  2015        1      1           3          6  2015-01-03            AA   \n",
       "3  2015        1      1           4          7  2015-01-04            AA   \n",
       "4  2015        1      1           5          1  2015-01-05            AA   \n",
       "\n",
       "   AirlineID Carrier TailNum      ...       Div4TailNum  Div5Airport  \\\n",
       "0      19805      AA  N787AA      ...               NaN          NaN   \n",
       "1      19805      AA  N795AA      ...               NaN          NaN   \n",
       "2      19805      AA  N788AA      ...               NaN          NaN   \n",
       "3      19805      AA  N791AA      ...               NaN          NaN   \n",
       "4      19805      AA  N783AA      ...               NaN          NaN   \n",
       "\n",
       "   Div5AirportID  Div5AirportSeqID Div5WheelsOn Div5TotalGTime  \\\n",
       "0            NaN               NaN          NaN            NaN   \n",
       "1            NaN               NaN          NaN            NaN   \n",
       "2            NaN               NaN          NaN            NaN   \n",
       "3            NaN               NaN          NaN            NaN   \n",
       "4            NaN               NaN          NaN            NaN   \n",
       "\n",
       "  Div5LongestGTime  Div5WheelsOff Div5TailNum  Unnamed: 109  \n",
       "0              NaN            NaN         NaN           NaN  \n",
       "1              NaN            NaN         NaN           NaN  \n",
       "2              NaN            NaN         NaN           NaN  \n",
       "3              NaN            NaN         NaN           NaN  \n",
       "4              NaN            NaN         NaN           NaN  \n",
       "\n",
       "[5 rows x 110 columns]"
      ]
     },
     "execution_count": 67,
     "metadata": {},
     "output_type": "execute_result"
    }
   ],
   "source": [
    "df.head()"
   ]
  },
  {
   "cell_type": "code",
   "execution_count": 68,
   "metadata": {
    "collapsed": false
   },
   "outputs": [],
   "source": [
    "df = pd.read_csv('/home/dsc/Data/us_dot/otp/On_Time_On_Time_Performance_2015_1.csv')"
   ]
  },
  {
   "cell_type": "code",
   "execution_count": 69,
   "metadata": {
    "collapsed": false
   },
   "outputs": [
    {
     "data": {
      "text/html": [
       "<div>\n",
       "<table border=\"1\" class=\"dataframe\">\n",
       "  <thead>\n",
       "    <tr style=\"text-align: right;\">\n",
       "      <th></th>\n",
       "      <th>Year</th>\n",
       "      <th>Quarter</th>\n",
       "      <th>Month</th>\n",
       "      <th>DayofMonth</th>\n",
       "      <th>DayOfWeek</th>\n",
       "      <th>FlightDate</th>\n",
       "      <th>UniqueCarrier</th>\n",
       "      <th>AirlineID</th>\n",
       "      <th>Carrier</th>\n",
       "      <th>TailNum</th>\n",
       "      <th>...</th>\n",
       "      <th>Div4TailNum</th>\n",
       "      <th>Div5Airport</th>\n",
       "      <th>Div5AirportID</th>\n",
       "      <th>Div5AirportSeqID</th>\n",
       "      <th>Div5WheelsOn</th>\n",
       "      <th>Div5TotalGTime</th>\n",
       "      <th>Div5LongestGTime</th>\n",
       "      <th>Div5WheelsOff</th>\n",
       "      <th>Div5TailNum</th>\n",
       "      <th>Unnamed: 109</th>\n",
       "    </tr>\n",
       "  </thead>\n",
       "  <tbody>\n",
       "    <tr>\n",
       "      <th>0</th>\n",
       "      <td>2015</td>\n",
       "      <td>1</td>\n",
       "      <td>1</td>\n",
       "      <td>1</td>\n",
       "      <td>4</td>\n",
       "      <td>2015-01-01</td>\n",
       "      <td>AA</td>\n",
       "      <td>19805</td>\n",
       "      <td>AA</td>\n",
       "      <td>N787AA</td>\n",
       "      <td>...</td>\n",
       "      <td>NaN</td>\n",
       "      <td>NaN</td>\n",
       "      <td>NaN</td>\n",
       "      <td>NaN</td>\n",
       "      <td>NaN</td>\n",
       "      <td>NaN</td>\n",
       "      <td>NaN</td>\n",
       "      <td>NaN</td>\n",
       "      <td>NaN</td>\n",
       "      <td>NaN</td>\n",
       "    </tr>\n",
       "    <tr>\n",
       "      <th>1</th>\n",
       "      <td>2015</td>\n",
       "      <td>1</td>\n",
       "      <td>1</td>\n",
       "      <td>2</td>\n",
       "      <td>5</td>\n",
       "      <td>2015-01-02</td>\n",
       "      <td>AA</td>\n",
       "      <td>19805</td>\n",
       "      <td>AA</td>\n",
       "      <td>N795AA</td>\n",
       "      <td>...</td>\n",
       "      <td>NaN</td>\n",
       "      <td>NaN</td>\n",
       "      <td>NaN</td>\n",
       "      <td>NaN</td>\n",
       "      <td>NaN</td>\n",
       "      <td>NaN</td>\n",
       "      <td>NaN</td>\n",
       "      <td>NaN</td>\n",
       "      <td>NaN</td>\n",
       "      <td>NaN</td>\n",
       "    </tr>\n",
       "    <tr>\n",
       "      <th>2</th>\n",
       "      <td>2015</td>\n",
       "      <td>1</td>\n",
       "      <td>1</td>\n",
       "      <td>3</td>\n",
       "      <td>6</td>\n",
       "      <td>2015-01-03</td>\n",
       "      <td>AA</td>\n",
       "      <td>19805</td>\n",
       "      <td>AA</td>\n",
       "      <td>N788AA</td>\n",
       "      <td>...</td>\n",
       "      <td>NaN</td>\n",
       "      <td>NaN</td>\n",
       "      <td>NaN</td>\n",
       "      <td>NaN</td>\n",
       "      <td>NaN</td>\n",
       "      <td>NaN</td>\n",
       "      <td>NaN</td>\n",
       "      <td>NaN</td>\n",
       "      <td>NaN</td>\n",
       "      <td>NaN</td>\n",
       "    </tr>\n",
       "    <tr>\n",
       "      <th>3</th>\n",
       "      <td>2015</td>\n",
       "      <td>1</td>\n",
       "      <td>1</td>\n",
       "      <td>4</td>\n",
       "      <td>7</td>\n",
       "      <td>2015-01-04</td>\n",
       "      <td>AA</td>\n",
       "      <td>19805</td>\n",
       "      <td>AA</td>\n",
       "      <td>N791AA</td>\n",
       "      <td>...</td>\n",
       "      <td>NaN</td>\n",
       "      <td>NaN</td>\n",
       "      <td>NaN</td>\n",
       "      <td>NaN</td>\n",
       "      <td>NaN</td>\n",
       "      <td>NaN</td>\n",
       "      <td>NaN</td>\n",
       "      <td>NaN</td>\n",
       "      <td>NaN</td>\n",
       "      <td>NaN</td>\n",
       "    </tr>\n",
       "    <tr>\n",
       "      <th>4</th>\n",
       "      <td>2015</td>\n",
       "      <td>1</td>\n",
       "      <td>1</td>\n",
       "      <td>5</td>\n",
       "      <td>1</td>\n",
       "      <td>2015-01-05</td>\n",
       "      <td>AA</td>\n",
       "      <td>19805</td>\n",
       "      <td>AA</td>\n",
       "      <td>N783AA</td>\n",
       "      <td>...</td>\n",
       "      <td>NaN</td>\n",
       "      <td>NaN</td>\n",
       "      <td>NaN</td>\n",
       "      <td>NaN</td>\n",
       "      <td>NaN</td>\n",
       "      <td>NaN</td>\n",
       "      <td>NaN</td>\n",
       "      <td>NaN</td>\n",
       "      <td>NaN</td>\n",
       "      <td>NaN</td>\n",
       "    </tr>\n",
       "  </tbody>\n",
       "</table>\n",
       "<p>5 rows × 110 columns</p>\n",
       "</div>"
      ],
      "text/plain": [
       "   Year  Quarter  Month  DayofMonth  DayOfWeek  FlightDate UniqueCarrier  \\\n",
       "0  2015        1      1           1          4  2015-01-01            AA   \n",
       "1  2015        1      1           2          5  2015-01-02            AA   \n",
       "2  2015        1      1           3          6  2015-01-03            AA   \n",
       "3  2015        1      1           4          7  2015-01-04            AA   \n",
       "4  2015        1      1           5          1  2015-01-05            AA   \n",
       "\n",
       "   AirlineID Carrier TailNum      ...       Div4TailNum  Div5Airport  \\\n",
       "0      19805      AA  N787AA      ...               NaN          NaN   \n",
       "1      19805      AA  N795AA      ...               NaN          NaN   \n",
       "2      19805      AA  N788AA      ...               NaN          NaN   \n",
       "3      19805      AA  N791AA      ...               NaN          NaN   \n",
       "4      19805      AA  N783AA      ...               NaN          NaN   \n",
       "\n",
       "   Div5AirportID  Div5AirportSeqID Div5WheelsOn Div5TotalGTime  \\\n",
       "0            NaN               NaN          NaN            NaN   \n",
       "1            NaN               NaN          NaN            NaN   \n",
       "2            NaN               NaN          NaN            NaN   \n",
       "3            NaN               NaN          NaN            NaN   \n",
       "4            NaN               NaN          NaN            NaN   \n",
       "\n",
       "  Div5LongestGTime  Div5WheelsOff Div5TailNum  Unnamed: 109  \n",
       "0              NaN            NaN         NaN           NaN  \n",
       "1              NaN            NaN         NaN           NaN  \n",
       "2              NaN            NaN         NaN           NaN  \n",
       "3              NaN            NaN         NaN           NaN  \n",
       "4              NaN            NaN         NaN           NaN  \n",
       "\n",
       "[5 rows x 110 columns]"
      ]
     },
     "execution_count": 69,
     "metadata": {},
     "output_type": "execute_result"
    }
   ],
   "source": [
    "df.head()"
   ]
  },
  {
   "cell_type": "code",
   "execution_count": 70,
   "metadata": {
    "collapsed": false
   },
   "outputs": [
    {
     "data": {
      "text/plain": [
       "469968"
      ]
     },
     "execution_count": 70,
     "metadata": {},
     "output_type": "execute_result"
    }
   ],
   "source": [
    "len(df)"
   ]
  },
  {
   "cell_type": "code",
   "execution_count": 71,
   "metadata": {
    "collapsed": false
   },
   "outputs": [
    {
     "data": {
      "text/plain": [
       "Year                  469968\n",
       "Quarter               469968\n",
       "Month                 469968\n",
       "DayofMonth            469968\n",
       "DayOfWeek             469968\n",
       "FlightDate            469968\n",
       "UniqueCarrier         469968\n",
       "AirlineID             469968\n",
       "Carrier               469968\n",
       "TailNum               467186\n",
       "FlightNum             469968\n",
       "OriginAirportID       469968\n",
       "OriginAirportSeqID    469968\n",
       "OriginCityMarketID    469968\n",
       "Origin                469968\n",
       "OriginCityName        469968\n",
       "OriginState           469968\n",
       "OriginStateFips       469968\n",
       "OriginStateName       469968\n",
       "OriginWac             469968\n",
       "DestAirportID         469968\n",
       "DestAirportSeqID      469968\n",
       "DestCityMarketID      469968\n",
       "Dest                  469968\n",
       "DestCityName          469968\n",
       "DestState             469968\n",
       "DestStateFips         469968\n",
       "DestStateName         469968\n",
       "DestWac               469968\n",
       "CRSDepTime            469968\n",
       "                       ...  \n",
       "Div2WheelsOn              27\n",
       "Div2TotalGTime            27\n",
       "Div2LongestGTime          27\n",
       "Div2WheelsOff              9\n",
       "Div2TailNum                9\n",
       "Div3Airport                2\n",
       "Div3AirportID              2\n",
       "Div3AirportSeqID           2\n",
       "Div3WheelsOn               2\n",
       "Div3TotalGTime             2\n",
       "Div3LongestGTime           2\n",
       "Div3WheelsOff              0\n",
       "Div3TailNum                0\n",
       "Div4Airport                0\n",
       "Div4AirportID              0\n",
       "Div4AirportSeqID           0\n",
       "Div4WheelsOn               0\n",
       "Div4TotalGTime             0\n",
       "Div4LongestGTime           0\n",
       "Div4WheelsOff              0\n",
       "Div4TailNum                0\n",
       "Div5Airport                0\n",
       "Div5AirportID              0\n",
       "Div5AirportSeqID           0\n",
       "Div5WheelsOn               0\n",
       "Div5TotalGTime             0\n",
       "Div5LongestGTime           0\n",
       "Div5WheelsOff              0\n",
       "Div5TailNum                0\n",
       "Unnamed: 109               0\n",
       "dtype: int64"
      ]
     },
     "execution_count": 71,
     "metadata": {},
     "output_type": "execute_result"
    }
   ],
   "source": [
    "df.count()"
   ]
  },
  {
   "cell_type": "code",
   "execution_count": 72,
   "metadata": {
    "collapsed": true
   },
   "outputs": [],
   "source": [
    "escasos = df.count() < 1000"
   ]
  },
  {
   "cell_type": "code",
   "execution_count": 73,
   "metadata": {
    "collapsed": false
   },
   "outputs": [
    {
     "data": {
      "text/plain": [
       "Index([u'DivReachedDest', u'DivActualElapsedTime', u'DivArrDelay',\n",
       "       u'DivDistance', u'Div1WheelsOff', u'Div1TailNum', u'Div2Airport',\n",
       "       u'Div2AirportID', u'Div2AirportSeqID', u'Div2WheelsOn',\n",
       "       u'Div2TotalGTime', u'Div2LongestGTime', u'Div2WheelsOff',\n",
       "       u'Div2TailNum', u'Div3Airport', u'Div3AirportID', u'Div3AirportSeqID',\n",
       "       u'Div3WheelsOn', u'Div3TotalGTime', u'Div3LongestGTime',\n",
       "       u'Div3WheelsOff', u'Div3TailNum', u'Div4Airport', u'Div4AirportID',\n",
       "       u'Div4AirportSeqID', u'Div4WheelsOn', u'Div4TotalGTime',\n",
       "       u'Div4LongestGTime', u'Div4WheelsOff', u'Div4TailNum', u'Div5Airport',\n",
       "       u'Div5AirportID', u'Div5AirportSeqID', u'Div5WheelsOn',\n",
       "       u'Div5TotalGTime', u'Div5LongestGTime', u'Div5WheelsOff',\n",
       "       u'Div5TailNum', u'Unnamed: 109'],\n",
       "      dtype='object')"
      ]
     },
     "execution_count": 73,
     "metadata": {},
     "output_type": "execute_result"
    }
   ],
   "source": [
    "df.columns[escasos]"
   ]
  },
  {
   "cell_type": "code",
   "execution_count": 74,
   "metadata": {
    "collapsed": false
   },
   "outputs": [
    {
     "data": {
      "text/plain": [
       "Index([u'Year', u'Quarter', u'Month', u'DayofMonth', u'DayOfWeek',\n",
       "       u'FlightDate', u'UniqueCarrier', u'AirlineID', u'Carrier', u'TailNum', \n",
       "       ...\n",
       "       u'Div4TailNum', u'Div5Airport', u'Div5AirportID', u'Div5AirportSeqID',\n",
       "       u'Div5WheelsOn', u'Div5TotalGTime', u'Div5LongestGTime',\n",
       "       u'Div5WheelsOff', u'Div5TailNum', u'Unnamed: 109'],\n",
       "      dtype='object', length=110)"
      ]
     },
     "execution_count": 74,
     "metadata": {},
     "output_type": "execute_result"
    }
   ],
   "source": [
    "df.columns"
   ]
  },
  {
   "cell_type": "code",
   "execution_count": 75,
   "metadata": {
    "collapsed": false
   },
   "outputs": [
    {
     "data": {
      "text/plain": [
       "Year                  469968\n",
       "Quarter               469968\n",
       "Month                 469968\n",
       "DayofMonth            469968\n",
       "DayOfWeek             469968\n",
       "FlightDate            469968\n",
       "UniqueCarrier         469968\n",
       "AirlineID             469968\n",
       "Carrier               469968\n",
       "TailNum               467186\n",
       "FlightNum             469968\n",
       "OriginAirportID       469968\n",
       "OriginAirportSeqID    469968\n",
       "OriginCityMarketID    469968\n",
       "Origin                469968\n",
       "OriginCityName        469968\n",
       "OriginState           469968\n",
       "OriginStateFips       469968\n",
       "OriginStateName       469968\n",
       "OriginWac             469968\n",
       "DestAirportID         469968\n",
       "DestAirportSeqID      469968\n",
       "DestCityMarketID      469968\n",
       "Dest                  469968\n",
       "DestCityName          469968\n",
       "DestState             469968\n",
       "DestStateFips         469968\n",
       "DestStateName         469968\n",
       "DestWac               469968\n",
       "CRSDepTime            469968\n",
       "                       ...  \n",
       "Div2WheelsOn              27\n",
       "Div2TotalGTime            27\n",
       "Div2LongestGTime          27\n",
       "Div2WheelsOff              9\n",
       "Div2TailNum                9\n",
       "Div3Airport                2\n",
       "Div3AirportID              2\n",
       "Div3AirportSeqID           2\n",
       "Div3WheelsOn               2\n",
       "Div3TotalGTime             2\n",
       "Div3LongestGTime           2\n",
       "Div3WheelsOff              0\n",
       "Div3TailNum                0\n",
       "Div4Airport                0\n",
       "Div4AirportID              0\n",
       "Div4AirportSeqID           0\n",
       "Div4WheelsOn               0\n",
       "Div4TotalGTime             0\n",
       "Div4LongestGTime           0\n",
       "Div4WheelsOff              0\n",
       "Div4TailNum                0\n",
       "Div5Airport                0\n",
       "Div5AirportID              0\n",
       "Div5AirportSeqID           0\n",
       "Div5WheelsOn               0\n",
       "Div5TotalGTime             0\n",
       "Div5LongestGTime           0\n",
       "Div5WheelsOff              0\n",
       "Div5TailNum                0\n",
       "Unnamed: 109               0\n",
       "dtype: int64"
      ]
     },
     "execution_count": 75,
     "metadata": {},
     "output_type": "execute_result"
    }
   ],
   "source": [
    "cuentas = df.count()\n",
    "cuentas"
   ]
  },
  {
   "cell_type": "code",
   "execution_count": 76,
   "metadata": {
    "collapsed": false
   },
   "outputs": [
    {
     "data": {
      "text/plain": [
       "pandas.core.series.Series"
      ]
     },
     "execution_count": 76,
     "metadata": {},
     "output_type": "execute_result"
    }
   ],
   "source": [
    "type(cuentas)"
   ]
  },
  {
   "cell_type": "code",
   "execution_count": 31,
   "metadata": {
    "collapsed": true
   },
   "outputs": [],
   "source": [
    "abundantes = cuentas[cuentas > 1000]"
   ]
  },
  {
   "cell_type": "code",
   "execution_count": 32,
   "metadata": {
    "collapsed": false
   },
   "outputs": [
    {
     "data": {
      "text/plain": [
       "Index([u'Year', u'Quarter', u'Month', u'DayofMonth', u'DayOfWeek',\n",
       "       u'FlightDate', u'UniqueCarrier', u'AirlineID', u'Carrier', u'TailNum',\n",
       "       u'FlightNum', u'OriginAirportID', u'OriginAirportSeqID',\n",
       "       u'OriginCityMarketID', u'Origin', u'OriginCityName', u'OriginState',\n",
       "       u'OriginStateFips', u'OriginStateName', u'OriginWac', u'DestAirportID',\n",
       "       u'DestAirportSeqID', u'DestCityMarketID', u'Dest', u'DestCityName',\n",
       "       u'DestState', u'DestStateFips', u'DestStateName', u'DestWac',\n",
       "       u'CRSDepTime', u'DepTime', u'DepDelay', u'DepDelayMinutes', u'DepDel15',\n",
       "       u'DepartureDelayGroups', u'DepTimeBlk', u'TaxiOut', u'WheelsOff',\n",
       "       u'WheelsOn', u'TaxiIn', u'CRSArrTime', u'ArrTime', u'ArrDelay',\n",
       "       u'ArrDelayMinutes', u'ArrDel15', u'ArrivalDelayGroups', u'ArrTimeBlk',\n",
       "       u'Cancelled', u'CancellationCode', u'Diverted', u'CRSElapsedTime',\n",
       "       u'ActualElapsedTime', u'AirTime', u'Flights', u'Distance',\n",
       "       u'DistanceGroup', u'CarrierDelay', u'WeatherDelay', u'NASDelay',\n",
       "       u'SecurityDelay', u'LateAircraftDelay', u'FirstDepTime',\n",
       "       u'TotalAddGTime', u'LongestAddGTime', u'DivAirportLandings',\n",
       "       u'Div1Airport', u'Div1AirportID', u'Div1AirportSeqID', u'Div1WheelsOn',\n",
       "       u'Div1TotalGTime', u'Div1LongestGTime'],\n",
       "      dtype='object')"
      ]
     },
     "execution_count": 32,
     "metadata": {},
     "output_type": "execute_result"
    }
   ],
   "source": [
    "abundantes.index"
   ]
  },
  {
   "cell_type": "code",
   "execution_count": 33,
   "metadata": {
    "collapsed": true
   },
   "outputs": [],
   "source": [
    "df = df[abundantes.index]"
   ]
  },
  {
   "cell_type": "code",
   "execution_count": 34,
   "metadata": {
    "collapsed": false
   },
   "outputs": [
    {
     "data": {
      "text/html": [
       "<div>\n",
       "<table border=\"1\" class=\"dataframe\">\n",
       "  <thead>\n",
       "    <tr style=\"text-align: right;\">\n",
       "      <th></th>\n",
       "      <th>Year</th>\n",
       "      <th>Quarter</th>\n",
       "      <th>Month</th>\n",
       "      <th>DayofMonth</th>\n",
       "      <th>DayOfWeek</th>\n",
       "      <th>FlightDate</th>\n",
       "      <th>UniqueCarrier</th>\n",
       "      <th>AirlineID</th>\n",
       "      <th>Carrier</th>\n",
       "      <th>TailNum</th>\n",
       "      <th>...</th>\n",
       "      <th>FirstDepTime</th>\n",
       "      <th>TotalAddGTime</th>\n",
       "      <th>LongestAddGTime</th>\n",
       "      <th>DivAirportLandings</th>\n",
       "      <th>Div1Airport</th>\n",
       "      <th>Div1AirportID</th>\n",
       "      <th>Div1AirportSeqID</th>\n",
       "      <th>Div1WheelsOn</th>\n",
       "      <th>Div1TotalGTime</th>\n",
       "      <th>Div1LongestGTime</th>\n",
       "    </tr>\n",
       "  </thead>\n",
       "  <tbody>\n",
       "    <tr>\n",
       "      <th>0</th>\n",
       "      <td>2015</td>\n",
       "      <td>1</td>\n",
       "      <td>1</td>\n",
       "      <td>1</td>\n",
       "      <td>4</td>\n",
       "      <td>2015-01-01</td>\n",
       "      <td>AA</td>\n",
       "      <td>19805</td>\n",
       "      <td>AA</td>\n",
       "      <td>N787AA</td>\n",
       "      <td>...</td>\n",
       "      <td>NaN</td>\n",
       "      <td>NaN</td>\n",
       "      <td>NaN</td>\n",
       "      <td>0</td>\n",
       "      <td>NaN</td>\n",
       "      <td>NaN</td>\n",
       "      <td>NaN</td>\n",
       "      <td>NaN</td>\n",
       "      <td>NaN</td>\n",
       "      <td>NaN</td>\n",
       "    </tr>\n",
       "    <tr>\n",
       "      <th>1</th>\n",
       "      <td>2015</td>\n",
       "      <td>1</td>\n",
       "      <td>1</td>\n",
       "      <td>2</td>\n",
       "      <td>5</td>\n",
       "      <td>2015-01-02</td>\n",
       "      <td>AA</td>\n",
       "      <td>19805</td>\n",
       "      <td>AA</td>\n",
       "      <td>N795AA</td>\n",
       "      <td>...</td>\n",
       "      <td>NaN</td>\n",
       "      <td>NaN</td>\n",
       "      <td>NaN</td>\n",
       "      <td>0</td>\n",
       "      <td>NaN</td>\n",
       "      <td>NaN</td>\n",
       "      <td>NaN</td>\n",
       "      <td>NaN</td>\n",
       "      <td>NaN</td>\n",
       "      <td>NaN</td>\n",
       "    </tr>\n",
       "    <tr>\n",
       "      <th>2</th>\n",
       "      <td>2015</td>\n",
       "      <td>1</td>\n",
       "      <td>1</td>\n",
       "      <td>3</td>\n",
       "      <td>6</td>\n",
       "      <td>2015-01-03</td>\n",
       "      <td>AA</td>\n",
       "      <td>19805</td>\n",
       "      <td>AA</td>\n",
       "      <td>N788AA</td>\n",
       "      <td>...</td>\n",
       "      <td>NaN</td>\n",
       "      <td>NaN</td>\n",
       "      <td>NaN</td>\n",
       "      <td>0</td>\n",
       "      <td>NaN</td>\n",
       "      <td>NaN</td>\n",
       "      <td>NaN</td>\n",
       "      <td>NaN</td>\n",
       "      <td>NaN</td>\n",
       "      <td>NaN</td>\n",
       "    </tr>\n",
       "    <tr>\n",
       "      <th>3</th>\n",
       "      <td>2015</td>\n",
       "      <td>1</td>\n",
       "      <td>1</td>\n",
       "      <td>4</td>\n",
       "      <td>7</td>\n",
       "      <td>2015-01-04</td>\n",
       "      <td>AA</td>\n",
       "      <td>19805</td>\n",
       "      <td>AA</td>\n",
       "      <td>N791AA</td>\n",
       "      <td>...</td>\n",
       "      <td>NaN</td>\n",
       "      <td>NaN</td>\n",
       "      <td>NaN</td>\n",
       "      <td>0</td>\n",
       "      <td>NaN</td>\n",
       "      <td>NaN</td>\n",
       "      <td>NaN</td>\n",
       "      <td>NaN</td>\n",
       "      <td>NaN</td>\n",
       "      <td>NaN</td>\n",
       "    </tr>\n",
       "    <tr>\n",
       "      <th>4</th>\n",
       "      <td>2015</td>\n",
       "      <td>1</td>\n",
       "      <td>1</td>\n",
       "      <td>5</td>\n",
       "      <td>1</td>\n",
       "      <td>2015-01-05</td>\n",
       "      <td>AA</td>\n",
       "      <td>19805</td>\n",
       "      <td>AA</td>\n",
       "      <td>N783AA</td>\n",
       "      <td>...</td>\n",
       "      <td>NaN</td>\n",
       "      <td>NaN</td>\n",
       "      <td>NaN</td>\n",
       "      <td>0</td>\n",
       "      <td>NaN</td>\n",
       "      <td>NaN</td>\n",
       "      <td>NaN</td>\n",
       "      <td>NaN</td>\n",
       "      <td>NaN</td>\n",
       "      <td>NaN</td>\n",
       "    </tr>\n",
       "  </tbody>\n",
       "</table>\n",
       "<p>5 rows × 71 columns</p>\n",
       "</div>"
      ],
      "text/plain": [
       "   Year  Quarter  Month  DayofMonth  DayOfWeek  FlightDate UniqueCarrier  \\\n",
       "0  2015        1      1           1          4  2015-01-01            AA   \n",
       "1  2015        1      1           2          5  2015-01-02            AA   \n",
       "2  2015        1      1           3          6  2015-01-03            AA   \n",
       "3  2015        1      1           4          7  2015-01-04            AA   \n",
       "4  2015        1      1           5          1  2015-01-05            AA   \n",
       "\n",
       "   AirlineID Carrier TailNum        ...         FirstDepTime  TotalAddGTime  \\\n",
       "0      19805      AA  N787AA        ...                  NaN            NaN   \n",
       "1      19805      AA  N795AA        ...                  NaN            NaN   \n",
       "2      19805      AA  N788AA        ...                  NaN            NaN   \n",
       "3      19805      AA  N791AA        ...                  NaN            NaN   \n",
       "4      19805      AA  N783AA        ...                  NaN            NaN   \n",
       "\n",
       "   LongestAddGTime  DivAirportLandings Div1Airport Div1AirportID  \\\n",
       "0              NaN                   0         NaN           NaN   \n",
       "1              NaN                   0         NaN           NaN   \n",
       "2              NaN                   0         NaN           NaN   \n",
       "3              NaN                   0         NaN           NaN   \n",
       "4              NaN                   0         NaN           NaN   \n",
       "\n",
       "  Div1AirportSeqID  Div1WheelsOn Div1TotalGTime  Div1LongestGTime  \n",
       "0              NaN           NaN            NaN               NaN  \n",
       "1              NaN           NaN            NaN               NaN  \n",
       "2              NaN           NaN            NaN               NaN  \n",
       "3              NaN           NaN            NaN               NaN  \n",
       "4              NaN           NaN            NaN               NaN  \n",
       "\n",
       "[5 rows x 71 columns]"
      ]
     },
     "execution_count": 34,
     "metadata": {},
     "output_type": "execute_result"
    }
   ],
   "source": [
    "df.head()"
   ]
  },
  {
   "cell_type": "code",
   "execution_count": 35,
   "metadata": {
    "collapsed": false
   },
   "outputs": [
    {
     "data": {
      "text/plain": [
       "71"
      ]
     },
     "execution_count": 35,
     "metadata": {},
     "output_type": "execute_result"
    }
   ],
   "source": [
    "len(df.columns)"
   ]
  },
  {
   "cell_type": "code",
   "execution_count": 36,
   "metadata": {
    "collapsed": false
   },
   "outputs": [
    {
     "data": {
      "text/plain": [
       "110"
      ]
     },
     "execution_count": 36,
     "metadata": {},
     "output_type": "execute_result"
    }
   ],
   "source": [
    "len(escasos)"
   ]
  },
  {
   "cell_type": "code",
   "execution_count": 37,
   "metadata": {
    "collapsed": false
   },
   "outputs": [
    {
     "data": {
      "text/html": [
       "<div>\n",
       "<table border=\"1\" class=\"dataframe\">\n",
       "  <thead>\n",
       "    <tr style=\"text-align: right;\">\n",
       "      <th></th>\n",
       "      <th>Year</th>\n",
       "      <th>Quarter</th>\n",
       "      <th>Month</th>\n",
       "      <th>DayofMonth</th>\n",
       "      <th>DayOfWeek</th>\n",
       "      <th>FlightDate</th>\n",
       "      <th>UniqueCarrier</th>\n",
       "      <th>AirlineID</th>\n",
       "      <th>Carrier</th>\n",
       "      <th>TailNum</th>\n",
       "      <th>...</th>\n",
       "      <th>FirstDepTime</th>\n",
       "      <th>TotalAddGTime</th>\n",
       "      <th>LongestAddGTime</th>\n",
       "      <th>DivAirportLandings</th>\n",
       "      <th>Div1Airport</th>\n",
       "      <th>Div1AirportID</th>\n",
       "      <th>Div1AirportSeqID</th>\n",
       "      <th>Div1WheelsOn</th>\n",
       "      <th>Div1TotalGTime</th>\n",
       "      <th>Div1LongestGTime</th>\n",
       "    </tr>\n",
       "  </thead>\n",
       "  <tbody>\n",
       "    <tr>\n",
       "      <th>327043</th>\n",
       "      <td>2015</td>\n",
       "      <td>1</td>\n",
       "      <td>1</td>\n",
       "      <td>2</td>\n",
       "      <td>5</td>\n",
       "      <td>2015-01-02</td>\n",
       "      <td>UA</td>\n",
       "      <td>19977</td>\n",
       "      <td>UA</td>\n",
       "      <td>N27724</td>\n",
       "      <td>...</td>\n",
       "      <td>NaN</td>\n",
       "      <td>NaN</td>\n",
       "      <td>NaN</td>\n",
       "      <td>0</td>\n",
       "      <td>NaN</td>\n",
       "      <td>NaN</td>\n",
       "      <td>NaN</td>\n",
       "      <td>NaN</td>\n",
       "      <td>NaN</td>\n",
       "      <td>NaN</td>\n",
       "    </tr>\n",
       "    <tr>\n",
       "      <th>413980</th>\n",
       "      <td>2015</td>\n",
       "      <td>1</td>\n",
       "      <td>1</td>\n",
       "      <td>4</td>\n",
       "      <td>7</td>\n",
       "      <td>2015-01-04</td>\n",
       "      <td>EV</td>\n",
       "      <td>20366</td>\n",
       "      <td>EV</td>\n",
       "      <td>N839AS</td>\n",
       "      <td>...</td>\n",
       "      <td>NaN</td>\n",
       "      <td>NaN</td>\n",
       "      <td>NaN</td>\n",
       "      <td>0</td>\n",
       "      <td>NaN</td>\n",
       "      <td>NaN</td>\n",
       "      <td>NaN</td>\n",
       "      <td>NaN</td>\n",
       "      <td>NaN</td>\n",
       "      <td>NaN</td>\n",
       "    </tr>\n",
       "    <tr>\n",
       "      <th>83594</th>\n",
       "      <td>2015</td>\n",
       "      <td>1</td>\n",
       "      <td>1</td>\n",
       "      <td>4</td>\n",
       "      <td>7</td>\n",
       "      <td>2015-01-04</td>\n",
       "      <td>DL</td>\n",
       "      <td>19790</td>\n",
       "      <td>DL</td>\n",
       "      <td>N663DN</td>\n",
       "      <td>...</td>\n",
       "      <td>NaN</td>\n",
       "      <td>NaN</td>\n",
       "      <td>NaN</td>\n",
       "      <td>0</td>\n",
       "      <td>NaN</td>\n",
       "      <td>NaN</td>\n",
       "      <td>NaN</td>\n",
       "      <td>NaN</td>\n",
       "      <td>NaN</td>\n",
       "      <td>NaN</td>\n",
       "    </tr>\n",
       "    <tr>\n",
       "      <th>240362</th>\n",
       "      <td>2015</td>\n",
       "      <td>1</td>\n",
       "      <td>1</td>\n",
       "      <td>28</td>\n",
       "      <td>3</td>\n",
       "      <td>2015-01-28</td>\n",
       "      <td>NK</td>\n",
       "      <td>20416</td>\n",
       "      <td>NK</td>\n",
       "      <td>N614NK</td>\n",
       "      <td>...</td>\n",
       "      <td>NaN</td>\n",
       "      <td>NaN</td>\n",
       "      <td>NaN</td>\n",
       "      <td>0</td>\n",
       "      <td>NaN</td>\n",
       "      <td>NaN</td>\n",
       "      <td>NaN</td>\n",
       "      <td>NaN</td>\n",
       "      <td>NaN</td>\n",
       "      <td>NaN</td>\n",
       "    </tr>\n",
       "    <tr>\n",
       "      <th>102539</th>\n",
       "      <td>2015</td>\n",
       "      <td>1</td>\n",
       "      <td>1</td>\n",
       "      <td>13</td>\n",
       "      <td>2</td>\n",
       "      <td>2015-01-13</td>\n",
       "      <td>DL</td>\n",
       "      <td>19790</td>\n",
       "      <td>DL</td>\n",
       "      <td>N964DN</td>\n",
       "      <td>...</td>\n",
       "      <td>NaN</td>\n",
       "      <td>NaN</td>\n",
       "      <td>NaN</td>\n",
       "      <td>0</td>\n",
       "      <td>NaN</td>\n",
       "      <td>NaN</td>\n",
       "      <td>NaN</td>\n",
       "      <td>NaN</td>\n",
       "      <td>NaN</td>\n",
       "      <td>NaN</td>\n",
       "    </tr>\n",
       "  </tbody>\n",
       "</table>\n",
       "<p>5 rows × 71 columns</p>\n",
       "</div>"
      ],
      "text/plain": [
       "        Year  Quarter  Month  DayofMonth  DayOfWeek  FlightDate UniqueCarrier  \\\n",
       "327043  2015        1      1           2          5  2015-01-02            UA   \n",
       "413980  2015        1      1           4          7  2015-01-04            EV   \n",
       "83594   2015        1      1           4          7  2015-01-04            DL   \n",
       "240362  2015        1      1          28          3  2015-01-28            NK   \n",
       "102539  2015        1      1          13          2  2015-01-13            DL   \n",
       "\n",
       "        AirlineID Carrier TailNum        ...         FirstDepTime  \\\n",
       "327043      19977      UA  N27724        ...                  NaN   \n",
       "413980      20366      EV  N839AS        ...                  NaN   \n",
       "83594       19790      DL  N663DN        ...                  NaN   \n",
       "240362      20416      NK  N614NK        ...                  NaN   \n",
       "102539      19790      DL  N964DN        ...                  NaN   \n",
       "\n",
       "        TotalAddGTime  LongestAddGTime  DivAirportLandings Div1Airport  \\\n",
       "327043            NaN              NaN                   0         NaN   \n",
       "413980            NaN              NaN                   0         NaN   \n",
       "83594             NaN              NaN                   0         NaN   \n",
       "240362            NaN              NaN                   0         NaN   \n",
       "102539            NaN              NaN                   0         NaN   \n",
       "\n",
       "       Div1AirportID Div1AirportSeqID  Div1WheelsOn Div1TotalGTime  \\\n",
       "327043           NaN              NaN           NaN            NaN   \n",
       "413980           NaN              NaN           NaN            NaN   \n",
       "83594            NaN              NaN           NaN            NaN   \n",
       "240362           NaN              NaN           NaN            NaN   \n",
       "102539           NaN              NaN           NaN            NaN   \n",
       "\n",
       "        Div1LongestGTime  \n",
       "327043               NaN  \n",
       "413980               NaN  \n",
       "83594                NaN  \n",
       "240362               NaN  \n",
       "102539               NaN  \n",
       "\n",
       "[5 rows x 71 columns]"
      ]
     },
     "execution_count": 37,
     "metadata": {},
     "output_type": "execute_result"
    }
   ],
   "source": [
    "df.sample(5)"
   ]
  },
  {
   "cell_type": "markdown",
   "metadata": {},
   "source": [
    "## Seleccionar columnas que tienen una cadena de texto"
   ]
  },
  {
   "cell_type": "code",
   "execution_count": 38,
   "metadata": {
    "collapsed": false
   },
   "outputs": [
    {
     "data": {
      "text/plain": [
       "array([False, False, False, False, False, False, False, False, False,\n",
       "       False, False,  True,  True,  True,  True,  True,  True,  True,\n",
       "        True,  True, False, False, False, False, False, False, False,\n",
       "       False, False, False, False, False, False, False, False, False,\n",
       "       False, False, False, False, False, False, False, False, False,\n",
       "       False, False, False, False, False, False, False, False, False,\n",
       "       False, False, False, False, False, False, False, False, False,\n",
       "       False, False, False, False, False, False, False, False], dtype=bool)"
      ]
     },
     "execution_count": 38,
     "metadata": {},
     "output_type": "execute_result"
    }
   ],
   "source": [
    "df.columns.str.contains('Origin')"
   ]
  },
  {
   "cell_type": "code",
   "execution_count": 39,
   "metadata": {
    "collapsed": false
   },
   "outputs": [],
   "source": [
    "origin_col_names = df.columns[df.columns.str.contains('Origin')]"
   ]
  },
  {
   "cell_type": "code",
   "execution_count": 40,
   "metadata": {
    "collapsed": false
   },
   "outputs": [
    {
     "data": {
      "text/html": [
       "<div>\n",
       "<table border=\"1\" class=\"dataframe\">\n",
       "  <thead>\n",
       "    <tr style=\"text-align: right;\">\n",
       "      <th></th>\n",
       "      <th>OriginAirportID</th>\n",
       "      <th>OriginAirportSeqID</th>\n",
       "      <th>OriginCityMarketID</th>\n",
       "      <th>Origin</th>\n",
       "      <th>OriginCityName</th>\n",
       "      <th>OriginState</th>\n",
       "      <th>OriginStateFips</th>\n",
       "      <th>OriginStateName</th>\n",
       "      <th>OriginWac</th>\n",
       "    </tr>\n",
       "  </thead>\n",
       "  <tbody>\n",
       "    <tr>\n",
       "      <th>442449</th>\n",
       "      <td>15919</td>\n",
       "      <td>1591902</td>\n",
       "      <td>31834</td>\n",
       "      <td>XNA</td>\n",
       "      <td>Fayetteville, AR</td>\n",
       "      <td>AR</td>\n",
       "      <td>5</td>\n",
       "      <td>Arkansas</td>\n",
       "      <td>71</td>\n",
       "    </tr>\n",
       "    <tr>\n",
       "      <th>254231</th>\n",
       "      <td>11638</td>\n",
       "      <td>1163805</td>\n",
       "      <td>31638</td>\n",
       "      <td>FAT</td>\n",
       "      <td>Fresno, CA</td>\n",
       "      <td>CA</td>\n",
       "      <td>6</td>\n",
       "      <td>California</td>\n",
       "      <td>91</td>\n",
       "    </tr>\n",
       "    <tr>\n",
       "      <th>226024</th>\n",
       "      <td>13232</td>\n",
       "      <td>1323202</td>\n",
       "      <td>30977</td>\n",
       "      <td>MDW</td>\n",
       "      <td>Chicago, IL</td>\n",
       "      <td>IL</td>\n",
       "      <td>17</td>\n",
       "      <td>Illinois</td>\n",
       "      <td>41</td>\n",
       "    </tr>\n",
       "    <tr>\n",
       "      <th>143773</th>\n",
       "      <td>11259</td>\n",
       "      <td>1125903</td>\n",
       "      <td>30194</td>\n",
       "      <td>DAL</td>\n",
       "      <td>Dallas, TX</td>\n",
       "      <td>TX</td>\n",
       "      <td>48</td>\n",
       "      <td>Texas</td>\n",
       "      <td>74</td>\n",
       "    </tr>\n",
       "    <tr>\n",
       "      <th>207069</th>\n",
       "      <td>11292</td>\n",
       "      <td>1129202</td>\n",
       "      <td>30325</td>\n",
       "      <td>DEN</td>\n",
       "      <td>Denver, CO</td>\n",
       "      <td>CO</td>\n",
       "      <td>8</td>\n",
       "      <td>Colorado</td>\n",
       "      <td>82</td>\n",
       "    </tr>\n",
       "  </tbody>\n",
       "</table>\n",
       "</div>"
      ],
      "text/plain": [
       "        OriginAirportID  OriginAirportSeqID  OriginCityMarketID Origin  \\\n",
       "442449            15919             1591902               31834    XNA   \n",
       "254231            11638             1163805               31638    FAT   \n",
       "226024            13232             1323202               30977    MDW   \n",
       "143773            11259             1125903               30194    DAL   \n",
       "207069            11292             1129202               30325    DEN   \n",
       "\n",
       "          OriginCityName OriginState  OriginStateFips OriginStateName  \\\n",
       "442449  Fayetteville, AR          AR                5        Arkansas   \n",
       "254231        Fresno, CA          CA                6      California   \n",
       "226024       Chicago, IL          IL               17        Illinois   \n",
       "143773        Dallas, TX          TX               48           Texas   \n",
       "207069        Denver, CO          CO                8        Colorado   \n",
       "\n",
       "        OriginWac  \n",
       "442449         71  \n",
       "254231         91  \n",
       "226024         41  \n",
       "143773         74  \n",
       "207069         82  "
      ]
     },
     "execution_count": 40,
     "metadata": {},
     "output_type": "execute_result"
    }
   ],
   "source": [
    "df[origin_col_names].sample(5)"
   ]
  },
  {
   "cell_type": "code",
   "execution_count": 41,
   "metadata": {
    "collapsed": false
   },
   "outputs": [
    {
     "data": {
      "text/plain": [
       "Index([u'OriginAirportID', u'OriginAirportSeqID', u'OriginCityMarketID',\n",
       "       u'Origin', u'OriginCityName', u'OriginState', u'OriginStateFips',\n",
       "       u'OriginStateName', u'OriginWac'],\n",
       "      dtype='object')"
      ]
     },
     "execution_count": 41,
     "metadata": {},
     "output_type": "execute_result"
    }
   ],
   "source": [
    "origin_col_names"
   ]
  },
  {
   "cell_type": "code",
   "execution_count": 42,
   "metadata": {
    "collapsed": false
   },
   "outputs": [],
   "source": [
    "cols_to_keep = pd.Index(['Origin','OriginCityName','OriginStateName'])"
   ]
  },
  {
   "cell_type": "code",
   "execution_count": 43,
   "metadata": {
    "collapsed": false
   },
   "outputs": [],
   "source": [
    "cols_to_drop = origin_col_names.difference(cols_to_keep)"
   ]
  },
  {
   "cell_type": "code",
   "execution_count": 44,
   "metadata": {
    "collapsed": false
   },
   "outputs": [
    {
     "data": {
      "text/plain": [
       "Index([u'OriginAirportID', u'OriginAirportSeqID', u'OriginCityMarketID',\n",
       "       u'OriginState', u'OriginStateFips', u'OriginWac'],\n",
       "      dtype='object')"
      ]
     },
     "execution_count": 44,
     "metadata": {},
     "output_type": "execute_result"
    }
   ],
   "source": [
    "cols_to_drop"
   ]
  },
  {
   "cell_type": "code",
   "execution_count": 45,
   "metadata": {
    "collapsed": false
   },
   "outputs": [],
   "source": [
    "df2 = df.drop(cols_to_drop, axis = 1)"
   ]
  },
  {
   "cell_type": "code",
   "execution_count": 46,
   "metadata": {
    "collapsed": false
   },
   "outputs": [
    {
     "data": {
      "text/html": [
       "<div>\n",
       "<table border=\"1\" class=\"dataframe\">\n",
       "  <thead>\n",
       "    <tr style=\"text-align: right;\">\n",
       "      <th></th>\n",
       "      <th>Year</th>\n",
       "      <th>Quarter</th>\n",
       "      <th>Month</th>\n",
       "      <th>DayofMonth</th>\n",
       "      <th>DayOfWeek</th>\n",
       "      <th>FlightDate</th>\n",
       "      <th>UniqueCarrier</th>\n",
       "      <th>AirlineID</th>\n",
       "      <th>Carrier</th>\n",
       "      <th>TailNum</th>\n",
       "      <th>...</th>\n",
       "      <th>FirstDepTime</th>\n",
       "      <th>TotalAddGTime</th>\n",
       "      <th>LongestAddGTime</th>\n",
       "      <th>DivAirportLandings</th>\n",
       "      <th>Div1Airport</th>\n",
       "      <th>Div1AirportID</th>\n",
       "      <th>Div1AirportSeqID</th>\n",
       "      <th>Div1WheelsOn</th>\n",
       "      <th>Div1TotalGTime</th>\n",
       "      <th>Div1LongestGTime</th>\n",
       "    </tr>\n",
       "  </thead>\n",
       "  <tbody>\n",
       "    <tr>\n",
       "      <th>396287</th>\n",
       "      <td>2015</td>\n",
       "      <td>1</td>\n",
       "      <td>1</td>\n",
       "      <td>20</td>\n",
       "      <td>2</td>\n",
       "      <td>2015-01-20</td>\n",
       "      <td>EV</td>\n",
       "      <td>20366</td>\n",
       "      <td>EV</td>\n",
       "      <td>N11150</td>\n",
       "      <td>...</td>\n",
       "      <td>NaN</td>\n",
       "      <td>NaN</td>\n",
       "      <td>NaN</td>\n",
       "      <td>0</td>\n",
       "      <td>NaN</td>\n",
       "      <td>NaN</td>\n",
       "      <td>NaN</td>\n",
       "      <td>NaN</td>\n",
       "      <td>NaN</td>\n",
       "      <td>NaN</td>\n",
       "    </tr>\n",
       "    <tr>\n",
       "      <th>323098</th>\n",
       "      <td>2015</td>\n",
       "      <td>1</td>\n",
       "      <td>1</td>\n",
       "      <td>5</td>\n",
       "      <td>1</td>\n",
       "      <td>2015-01-05</td>\n",
       "      <td>UA</td>\n",
       "      <td>19977</td>\n",
       "      <td>UA</td>\n",
       "      <td>N447UA</td>\n",
       "      <td>...</td>\n",
       "      <td>NaN</td>\n",
       "      <td>NaN</td>\n",
       "      <td>NaN</td>\n",
       "      <td>0</td>\n",
       "      <td>NaN</td>\n",
       "      <td>NaN</td>\n",
       "      <td>NaN</td>\n",
       "      <td>NaN</td>\n",
       "      <td>NaN</td>\n",
       "      <td>NaN</td>\n",
       "    </tr>\n",
       "    <tr>\n",
       "      <th>262572</th>\n",
       "      <td>2015</td>\n",
       "      <td>1</td>\n",
       "      <td>1</td>\n",
       "      <td>6</td>\n",
       "      <td>2</td>\n",
       "      <td>2015-01-06</td>\n",
       "      <td>OO</td>\n",
       "      <td>20304</td>\n",
       "      <td>OO</td>\n",
       "      <td>N608SK</td>\n",
       "      <td>...</td>\n",
       "      <td>NaN</td>\n",
       "      <td>NaN</td>\n",
       "      <td>NaN</td>\n",
       "      <td>0</td>\n",
       "      <td>NaN</td>\n",
       "      <td>NaN</td>\n",
       "      <td>NaN</td>\n",
       "      <td>NaN</td>\n",
       "      <td>NaN</td>\n",
       "      <td>NaN</td>\n",
       "    </tr>\n",
       "    <tr>\n",
       "      <th>321783</th>\n",
       "      <td>2015</td>\n",
       "      <td>1</td>\n",
       "      <td>1</td>\n",
       "      <td>8</td>\n",
       "      <td>4</td>\n",
       "      <td>2015-01-08</td>\n",
       "      <td>UA</td>\n",
       "      <td>19977</td>\n",
       "      <td>UA</td>\n",
       "      <td>N75425</td>\n",
       "      <td>...</td>\n",
       "      <td>NaN</td>\n",
       "      <td>NaN</td>\n",
       "      <td>NaN</td>\n",
       "      <td>0</td>\n",
       "      <td>NaN</td>\n",
       "      <td>NaN</td>\n",
       "      <td>NaN</td>\n",
       "      <td>NaN</td>\n",
       "      <td>NaN</td>\n",
       "      <td>NaN</td>\n",
       "    </tr>\n",
       "    <tr>\n",
       "      <th>78381</th>\n",
       "      <td>2015</td>\n",
       "      <td>1</td>\n",
       "      <td>1</td>\n",
       "      <td>3</td>\n",
       "      <td>6</td>\n",
       "      <td>2015-01-03</td>\n",
       "      <td>DL</td>\n",
       "      <td>19790</td>\n",
       "      <td>DL</td>\n",
       "      <td>N940DN</td>\n",
       "      <td>...</td>\n",
       "      <td>NaN</td>\n",
       "      <td>NaN</td>\n",
       "      <td>NaN</td>\n",
       "      <td>0</td>\n",
       "      <td>NaN</td>\n",
       "      <td>NaN</td>\n",
       "      <td>NaN</td>\n",
       "      <td>NaN</td>\n",
       "      <td>NaN</td>\n",
       "      <td>NaN</td>\n",
       "    </tr>\n",
       "  </tbody>\n",
       "</table>\n",
       "<p>5 rows × 65 columns</p>\n",
       "</div>"
      ],
      "text/plain": [
       "        Year  Quarter  Month  DayofMonth  DayOfWeek  FlightDate UniqueCarrier  \\\n",
       "396287  2015        1      1          20          2  2015-01-20            EV   \n",
       "323098  2015        1      1           5          1  2015-01-05            UA   \n",
       "262572  2015        1      1           6          2  2015-01-06            OO   \n",
       "321783  2015        1      1           8          4  2015-01-08            UA   \n",
       "78381   2015        1      1           3          6  2015-01-03            DL   \n",
       "\n",
       "        AirlineID Carrier TailNum       ...         FirstDepTime  \\\n",
       "396287      20366      EV  N11150       ...                  NaN   \n",
       "323098      19977      UA  N447UA       ...                  NaN   \n",
       "262572      20304      OO  N608SK       ...                  NaN   \n",
       "321783      19977      UA  N75425       ...                  NaN   \n",
       "78381       19790      DL  N940DN       ...                  NaN   \n",
       "\n",
       "       TotalAddGTime LongestAddGTime DivAirportLandings  Div1Airport  \\\n",
       "396287           NaN             NaN                  0          NaN   \n",
       "323098           NaN             NaN                  0          NaN   \n",
       "262572           NaN             NaN                  0          NaN   \n",
       "321783           NaN             NaN                  0          NaN   \n",
       "78381            NaN             NaN                  0          NaN   \n",
       "\n",
       "        Div1AirportID  Div1AirportSeqID Div1WheelsOn Div1TotalGTime  \\\n",
       "396287            NaN               NaN          NaN            NaN   \n",
       "323098            NaN               NaN          NaN            NaN   \n",
       "262572            NaN               NaN          NaN            NaN   \n",
       "321783            NaN               NaN          NaN            NaN   \n",
       "78381             NaN               NaN          NaN            NaN   \n",
       "\n",
       "       Div1LongestGTime  \n",
       "396287              NaN  \n",
       "323098              NaN  \n",
       "262572              NaN  \n",
       "321783              NaN  \n",
       "78381               NaN  \n",
       "\n",
       "[5 rows x 65 columns]"
      ]
     },
     "execution_count": 46,
     "metadata": {},
     "output_type": "execute_result"
    }
   ],
   "source": [
    "df2.sample(5)"
   ]
  },
  {
   "cell_type": "code",
   "execution_count": 47,
   "metadata": {
    "collapsed": false
   },
   "outputs": [
    {
     "data": {
      "text/plain": [
       "Index([u'Year', u'Quarter', u'Month', u'DayofMonth', u'DayOfWeek',\n",
       "       u'FlightDate', u'UniqueCarrier', u'AirlineID', u'Carrier', u'TailNum',\n",
       "       u'FlightNum', u'Origin', u'OriginCityName', u'OriginStateName',\n",
       "       u'DestAirportID', u'DestAirportSeqID', u'DestCityMarketID', u'Dest',\n",
       "       u'DestCityName', u'DestState', u'DestStateFips', u'DestStateName',\n",
       "       u'DestWac', u'CRSDepTime', u'DepTime', u'DepDelay', u'DepDelayMinutes',\n",
       "       u'DepDel15', u'DepartureDelayGroups', u'DepTimeBlk', u'TaxiOut',\n",
       "       u'WheelsOff', u'WheelsOn', u'TaxiIn', u'CRSArrTime', u'ArrTime',\n",
       "       u'ArrDelay', u'ArrDelayMinutes', u'ArrDel15', u'ArrivalDelayGroups',\n",
       "       u'ArrTimeBlk', u'Cancelled', u'CancellationCode', u'Diverted',\n",
       "       u'CRSElapsedTime', u'ActualElapsedTime', u'AirTime', u'Flights',\n",
       "       u'Distance', u'DistanceGroup', u'CarrierDelay', u'WeatherDelay',\n",
       "       u'NASDelay', u'SecurityDelay', u'LateAircraftDelay', u'FirstDepTime',\n",
       "       u'TotalAddGTime', u'LongestAddGTime', u'DivAirportLandings',\n",
       "       u'Div1Airport', u'Div1AirportID', u'Div1AirportSeqID', u'Div1WheelsOn',\n",
       "       u'Div1TotalGTime', u'Div1LongestGTime'],\n",
       "      dtype='object')"
      ]
     },
     "execution_count": 47,
     "metadata": {},
     "output_type": "execute_result"
    }
   ],
   "source": [
    "df2.columns"
   ]
  },
  {
   "cell_type": "code",
   "execution_count": 48,
   "metadata": {
    "collapsed": false
   },
   "outputs": [
    {
     "data": {
      "text/plain": [
       "145448     562\n",
       "329915    1864\n",
       "143645    2411\n",
       "115624    1967\n",
       "99730     1490\n",
       "Name: FlightNum, dtype: int64"
      ]
     },
     "execution_count": 48,
     "metadata": {},
     "output_type": "execute_result"
    }
   ],
   "source": [
    "df2['FlightNum'].sample(5)"
   ]
  },
  {
   "cell_type": "code",
   "execution_count": 49,
   "metadata": {
    "collapsed": false
   },
   "outputs": [
    {
     "data": {
      "text/plain": [
       "214996    1228\n",
       "112998    1158\n",
       "119474    1105\n",
       "449901     555\n",
       "67196      915\n",
       "Name: DepTime, dtype: float64"
      ]
     },
     "execution_count": 49,
     "metadata": {},
     "output_type": "execute_result"
    }
   ],
   "source": [
    "df2['DepTime'].sample(5)"
   ]
  },
  {
   "cell_type": "code",
   "execution_count": null,
   "metadata": {
    "collapsed": true
   },
   "outputs": [],
   "source": [
    "### Transformamos lo anterior en horas"
   ]
  },
  {
   "cell_type": "code",
   "execution_count": 50,
   "metadata": {
    "collapsed": false
   },
   "outputs": [
    {
     "data": {
      "text/plain": [
       "5"
      ]
     },
     "execution_count": 50,
     "metadata": {},
     "output_type": "execute_result"
    }
   ],
   "source": [
    "int(528.0 / 100)"
   ]
  },
  {
   "cell_type": "code",
   "execution_count": 51,
   "metadata": {
    "collapsed": true
   },
   "outputs": [],
   "source": [
    "def hora(number):\n",
    "    return int(number / 100)"
   ]
  },
  {
   "cell_type": "code",
   "execution_count": 52,
   "metadata": {
    "collapsed": true
   },
   "outputs": [
    {
     "data": {
      "text/plain": [
       "0          8\n",
       "1          8\n",
       "2          8\n",
       "3          8\n",
       "4          8\n",
       "5          8\n",
       "6          8\n",
       "7          8\n",
       "8          9\n",
       "9          9\n",
       "10         8\n",
       "11         8\n",
       "12         8\n",
       "13         8\n",
       "14         8\n",
       "15         9\n",
       "16         8\n",
       "17         9\n",
       "18         8\n",
       "19         8\n",
       "20         8\n",
       "21         8\n",
       "22         8\n",
       "23        10\n",
       "24         9\n",
       "25         8\n",
       "26         0\n",
       "27         0\n",
       "28         8\n",
       "29         8\n",
       "          ..\n",
       "469938     5\n",
       "469939     5\n",
       "469940     5\n",
       "469941     5\n",
       "469942     5\n",
       "469943     5\n",
       "469944     5\n",
       "469945     5\n",
       "469946     5\n",
       "469947     5\n",
       "469948     6\n",
       "469949     5\n",
       "469950     5\n",
       "469951     5\n",
       "469952     5\n",
       "469953     5\n",
       "469954     5\n",
       "469955     5\n",
       "469956     5\n",
       "469957     5\n",
       "469958     5\n",
       "469959     5\n",
       "469960     5\n",
       "469961     5\n",
       "469962     5\n",
       "469963     6\n",
       "469964     5\n",
       "469965     5\n",
       "469966     6\n",
       "469967     7\n",
       "Name: DepTime, dtype: int64"
      ]
     },
     "execution_count": 52,
     "metadata": {},
     "output_type": "execute_result"
    }
   ],
   "source": [
    "df2['DepTime'].fillna(0.0).map(hora)"
   ]
  },
  {
   "cell_type": "code",
   "execution_count": 53,
   "metadata": {
    "collapsed": true
   },
   "outputs": [],
   "source": [
    "df2['DepHour'] = df2['DepTime'].fillna(0.0).map(hora)"
   ]
  },
  {
   "cell_type": "code",
   "execution_count": 54,
   "metadata": {
    "collapsed": false
   },
   "outputs": [
    {
     "data": {
      "text/html": [
       "<div>\n",
       "<table border=\"1\" class=\"dataframe\">\n",
       "  <thead>\n",
       "    <tr style=\"text-align: right;\">\n",
       "      <th></th>\n",
       "      <th>Year</th>\n",
       "      <th>Quarter</th>\n",
       "      <th>Month</th>\n",
       "      <th>DayofMonth</th>\n",
       "      <th>DayOfWeek</th>\n",
       "      <th>FlightDate</th>\n",
       "      <th>UniqueCarrier</th>\n",
       "      <th>AirlineID</th>\n",
       "      <th>Carrier</th>\n",
       "      <th>TailNum</th>\n",
       "      <th>...</th>\n",
       "      <th>TotalAddGTime</th>\n",
       "      <th>LongestAddGTime</th>\n",
       "      <th>DivAirportLandings</th>\n",
       "      <th>Div1Airport</th>\n",
       "      <th>Div1AirportID</th>\n",
       "      <th>Div1AirportSeqID</th>\n",
       "      <th>Div1WheelsOn</th>\n",
       "      <th>Div1TotalGTime</th>\n",
       "      <th>Div1LongestGTime</th>\n",
       "      <th>DepHour</th>\n",
       "    </tr>\n",
       "  </thead>\n",
       "  <tbody>\n",
       "    <tr>\n",
       "      <th>160146</th>\n",
       "      <td>2015</td>\n",
       "      <td>1</td>\n",
       "      <td>1</td>\n",
       "      <td>10</td>\n",
       "      <td>6</td>\n",
       "      <td>2015-01-10</td>\n",
       "      <td>WN</td>\n",
       "      <td>19393</td>\n",
       "      <td>WN</td>\n",
       "      <td>N346SW</td>\n",
       "      <td>...</td>\n",
       "      <td>NaN</td>\n",
       "      <td>NaN</td>\n",
       "      <td>0</td>\n",
       "      <td>NaN</td>\n",
       "      <td>NaN</td>\n",
       "      <td>NaN</td>\n",
       "      <td>NaN</td>\n",
       "      <td>NaN</td>\n",
       "      <td>NaN</td>\n",
       "      <td>18</td>\n",
       "    </tr>\n",
       "    <tr>\n",
       "      <th>330586</th>\n",
       "      <td>2015</td>\n",
       "      <td>1</td>\n",
       "      <td>1</td>\n",
       "      <td>5</td>\n",
       "      <td>1</td>\n",
       "      <td>2015-01-05</td>\n",
       "      <td>US</td>\n",
       "      <td>20355</td>\n",
       "      <td>US</td>\n",
       "      <td>N572UW</td>\n",
       "      <td>...</td>\n",
       "      <td>NaN</td>\n",
       "      <td>NaN</td>\n",
       "      <td>0</td>\n",
       "      <td>NaN</td>\n",
       "      <td>NaN</td>\n",
       "      <td>NaN</td>\n",
       "      <td>NaN</td>\n",
       "      <td>NaN</td>\n",
       "      <td>NaN</td>\n",
       "      <td>19</td>\n",
       "    </tr>\n",
       "    <tr>\n",
       "      <th>331714</th>\n",
       "      <td>2015</td>\n",
       "      <td>1</td>\n",
       "      <td>1</td>\n",
       "      <td>4</td>\n",
       "      <td>7</td>\n",
       "      <td>2015-01-04</td>\n",
       "      <td>US</td>\n",
       "      <td>20355</td>\n",
       "      <td>US</td>\n",
       "      <td>N555AY</td>\n",
       "      <td>...</td>\n",
       "      <td>NaN</td>\n",
       "      <td>NaN</td>\n",
       "      <td>0</td>\n",
       "      <td>NaN</td>\n",
       "      <td>NaN</td>\n",
       "      <td>NaN</td>\n",
       "      <td>NaN</td>\n",
       "      <td>NaN</td>\n",
       "      <td>NaN</td>\n",
       "      <td>7</td>\n",
       "    </tr>\n",
       "    <tr>\n",
       "      <th>378982</th>\n",
       "      <td>2015</td>\n",
       "      <td>1</td>\n",
       "      <td>1</td>\n",
       "      <td>28</td>\n",
       "      <td>3</td>\n",
       "      <td>2015-01-28</td>\n",
       "      <td>EV</td>\n",
       "      <td>20366</td>\n",
       "      <td>EV</td>\n",
       "      <td>N14916</td>\n",
       "      <td>...</td>\n",
       "      <td>NaN</td>\n",
       "      <td>NaN</td>\n",
       "      <td>0</td>\n",
       "      <td>NaN</td>\n",
       "      <td>NaN</td>\n",
       "      <td>NaN</td>\n",
       "      <td>NaN</td>\n",
       "      <td>NaN</td>\n",
       "      <td>NaN</td>\n",
       "      <td>10</td>\n",
       "    </tr>\n",
       "    <tr>\n",
       "      <th>272664</th>\n",
       "      <td>2015</td>\n",
       "      <td>1</td>\n",
       "      <td>1</td>\n",
       "      <td>4</td>\n",
       "      <td>7</td>\n",
       "      <td>2015-01-04</td>\n",
       "      <td>OO</td>\n",
       "      <td>20304</td>\n",
       "      <td>OO</td>\n",
       "      <td>N117SY</td>\n",
       "      <td>...</td>\n",
       "      <td>NaN</td>\n",
       "      <td>NaN</td>\n",
       "      <td>0</td>\n",
       "      <td>NaN</td>\n",
       "      <td>NaN</td>\n",
       "      <td>NaN</td>\n",
       "      <td>NaN</td>\n",
       "      <td>NaN</td>\n",
       "      <td>NaN</td>\n",
       "      <td>18</td>\n",
       "    </tr>\n",
       "  </tbody>\n",
       "</table>\n",
       "<p>5 rows × 66 columns</p>\n",
       "</div>"
      ],
      "text/plain": [
       "        Year  Quarter  Month  DayofMonth  DayOfWeek  FlightDate UniqueCarrier  \\\n",
       "160146  2015        1      1          10          6  2015-01-10            WN   \n",
       "330586  2015        1      1           5          1  2015-01-05            US   \n",
       "331714  2015        1      1           4          7  2015-01-04            US   \n",
       "378982  2015        1      1          28          3  2015-01-28            EV   \n",
       "272664  2015        1      1           4          7  2015-01-04            OO   \n",
       "\n",
       "        AirlineID Carrier TailNum   ...    TotalAddGTime LongestAddGTime  \\\n",
       "160146      19393      WN  N346SW   ...              NaN             NaN   \n",
       "330586      20355      US  N572UW   ...              NaN             NaN   \n",
       "331714      20355      US  N555AY   ...              NaN             NaN   \n",
       "378982      20366      EV  N14916   ...              NaN             NaN   \n",
       "272664      20304      OO  N117SY   ...              NaN             NaN   \n",
       "\n",
       "       DivAirportLandings Div1Airport  Div1AirportID  Div1AirportSeqID  \\\n",
       "160146                  0         NaN            NaN               NaN   \n",
       "330586                  0         NaN            NaN               NaN   \n",
       "331714                  0         NaN            NaN               NaN   \n",
       "378982                  0         NaN            NaN               NaN   \n",
       "272664                  0         NaN            NaN               NaN   \n",
       "\n",
       "        Div1WheelsOn Div1TotalGTime Div1LongestGTime DepHour  \n",
       "160146           NaN            NaN              NaN      18  \n",
       "330586           NaN            NaN              NaN      19  \n",
       "331714           NaN            NaN              NaN       7  \n",
       "378982           NaN            NaN              NaN      10  \n",
       "272664           NaN            NaN              NaN      18  \n",
       "\n",
       "[5 rows x 66 columns]"
      ]
     },
     "execution_count": 54,
     "metadata": {},
     "output_type": "execute_result"
    }
   ],
   "source": [
    "df2.sample(5)"
   ]
  },
  {
   "cell_type": "code",
   "execution_count": 55,
   "metadata": {
    "collapsed": false
   },
   "outputs": [
    {
     "data": {
      "text/html": [
       "<div>\n",
       "<table border=\"1\" class=\"dataframe\">\n",
       "  <thead>\n",
       "    <tr style=\"text-align: right;\">\n",
       "      <th></th>\n",
       "      <th>DepTime</th>\n",
       "      <th>DepHour</th>\n",
       "    </tr>\n",
       "  </thead>\n",
       "  <tbody>\n",
       "    <tr>\n",
       "      <th>354673</th>\n",
       "      <td>949</td>\n",
       "      <td>9</td>\n",
       "    </tr>\n",
       "    <tr>\n",
       "      <th>117172</th>\n",
       "      <td>1740</td>\n",
       "      <td>17</td>\n",
       "    </tr>\n",
       "    <tr>\n",
       "      <th>127975</th>\n",
       "      <td>756</td>\n",
       "      <td>7</td>\n",
       "    </tr>\n",
       "    <tr>\n",
       "      <th>408481</th>\n",
       "      <td>728</td>\n",
       "      <td>7</td>\n",
       "    </tr>\n",
       "    <tr>\n",
       "      <th>4749</th>\n",
       "      <td>1327</td>\n",
       "      <td>13</td>\n",
       "    </tr>\n",
       "    <tr>\n",
       "      <th>75028</th>\n",
       "      <td>1219</td>\n",
       "      <td>12</td>\n",
       "    </tr>\n",
       "    <tr>\n",
       "      <th>61883</th>\n",
       "      <td>1500</td>\n",
       "      <td>15</td>\n",
       "    </tr>\n",
       "    <tr>\n",
       "      <th>439850</th>\n",
       "      <td>2243</td>\n",
       "      <td>22</td>\n",
       "    </tr>\n",
       "    <tr>\n",
       "      <th>397967</th>\n",
       "      <td>917</td>\n",
       "      <td>9</td>\n",
       "    </tr>\n",
       "    <tr>\n",
       "      <th>345106</th>\n",
       "      <td>757</td>\n",
       "      <td>7</td>\n",
       "    </tr>\n",
       "  </tbody>\n",
       "</table>\n",
       "</div>"
      ],
      "text/plain": [
       "        DepTime  DepHour\n",
       "354673      949        9\n",
       "117172     1740       17\n",
       "127975      756        7\n",
       "408481      728        7\n",
       "4749       1327       13\n",
       "75028      1219       12\n",
       "61883      1500       15\n",
       "439850     2243       22\n",
       "397967      917        9\n",
       "345106      757        7"
      ]
     },
     "execution_count": 55,
     "metadata": {},
     "output_type": "execute_result"
    }
   ],
   "source": [
    "df2[['DepTime','DepHour']].sample(10)"
   ]
  },
  {
   "cell_type": "code",
   "execution_count": 56,
   "metadata": {
    "collapsed": false
   },
   "outputs": [
    {
     "data": {
      "text/plain": [
       "235775   NaN\n",
       "463011    -4\n",
       "465148    -4\n",
       "61370     -7\n",
       "400049    -3\n",
       "Name: DepDelay, dtype: float64"
      ]
     },
     "execution_count": 56,
     "metadata": {},
     "output_type": "execute_result"
    }
   ],
   "source": [
    "df2['DepDelay'].sample(5)"
   ]
  },
  {
   "cell_type": "code",
   "execution_count": 57,
   "metadata": {
    "collapsed": true
   },
   "outputs": [],
   "source": [
    "delays = df2['DepDelay'].copy()"
   ]
  },
  {
   "cell_type": "code",
   "execution_count": 58,
   "metadata": {
    "collapsed": false
   },
   "outputs": [
    {
     "data": {
      "text/plain": [
       "0    -5\n",
       "1   -10\n",
       "2    -7\n",
       "3    -7\n",
       "4    -7\n",
       "Name: DepDelay, dtype: float64"
      ]
     },
     "execution_count": 58,
     "metadata": {},
     "output_type": "execute_result"
    }
   ],
   "source": [
    "delays.head()"
   ]
  },
  {
   "cell_type": "code",
   "execution_count": 59,
   "metadata": {
    "collapsed": true
   },
   "outputs": [],
   "source": [
    "nonetype = delays.sort(ascending = False)"
   ]
  },
  {
   "cell_type": "code",
   "execution_count": 109,
   "metadata": {
    "collapsed": false
   },
   "outputs": [
    {
     "data": {
      "text/plain": [
       "21523     1988\n",
       "11524     1604\n",
       "18198     1551\n",
       "108152    1457\n",
       "26001     1450\n",
       "Name: DepDelay, dtype: float64"
      ]
     },
     "execution_count": 109,
     "metadata": {},
     "output_type": "execute_result"
    }
   ],
   "source": [
    "delays.head()"
   ]
  },
  {
   "cell_type": "code",
   "execution_count": 111,
   "metadata": {
    "collapsed": true
   },
   "outputs": [],
   "source": [
    "biggest_delays = delays.head()"
   ]
  },
  {
   "cell_type": "code",
   "execution_count": 112,
   "metadata": {
    "collapsed": false
   },
   "outputs": [],
   "source": [
    "biggest_delayed_flights = df2.ix[biggest_delays.index]"
   ]
  },
  {
   "cell_type": "code",
   "execution_count": 114,
   "metadata": {
    "collapsed": false
   },
   "outputs": [
    {
     "data": {
      "text/plain": [
       "21523     AA\n",
       "11524     AA\n",
       "18198     AA\n",
       "108152    AA\n",
       "26001     AA\n",
       "Name: Carrier, dtype: object"
      ]
     },
     "execution_count": 114,
     "metadata": {},
     "output_type": "execute_result"
    }
   ],
   "source": [
    "biggest_delayed_flights['Carrier']"
   ]
  },
  {
   "cell_type": "code",
   "execution_count": 115,
   "metadata": {
    "collapsed": true
   },
   "outputs": [],
   "source": [
    "grouped_by_plane = df2.groupby('TailNum')"
   ]
  },
  {
   "cell_type": "code",
   "execution_count": 118,
   "metadata": {
    "collapsed": false
   },
   "outputs": [],
   "source": [
    "delays_by_plane = grouped_by_plane['DepDelay'].mean()"
   ]
  },
  {
   "cell_type": "code",
   "execution_count": 119,
   "metadata": {
    "collapsed": true
   },
   "outputs": [],
   "source": [
    "mean_delays = delays_by_plane.copy()"
   ]
  },
  {
   "cell_type": "code",
   "execution_count": 120,
   "metadata": {
    "collapsed": true
   },
   "outputs": [],
   "source": [
    "mean_delays.sort(ascending = False)"
   ]
  },
  {
   "cell_type": "code",
   "execution_count": 121,
   "metadata": {
    "collapsed": false
   },
   "outputs": [
    {
     "data": {
      "text/plain": [
       "TailNum\n",
       "N79011    232.0\n",
       "N228UA    217.5\n",
       "N707DN    204.0\n",
       "N651UA    167.0\n",
       "N776UA    159.0\n",
       "Name: DepDelay, dtype: float64"
      ]
     },
     "execution_count": 121,
     "metadata": {},
     "output_type": "execute_result"
    }
   ],
   "source": [
    "mean_delays.head()"
   ]
  },
  {
   "cell_type": "code",
   "execution_count": 122,
   "metadata": {
    "collapsed": true
   },
   "outputs": [],
   "source": [
    "means_count = grouped_by_plane['DepDelay'].agg(['mean', 'count'])"
   ]
  },
  {
   "cell_type": "code",
   "execution_count": 124,
   "metadata": {
    "collapsed": false
   },
   "outputs": [
    {
     "data": {
      "text/html": [
       "<div>\n",
       "<table border=\"1\" class=\"dataframe\">\n",
       "  <thead>\n",
       "    <tr style=\"text-align: right;\">\n",
       "      <th></th>\n",
       "      <th>mean</th>\n",
       "      <th>count</th>\n",
       "    </tr>\n",
       "    <tr>\n",
       "      <th>TailNum</th>\n",
       "      <th></th>\n",
       "      <th></th>\n",
       "    </tr>\n",
       "  </thead>\n",
       "  <tbody>\n",
       "    <tr>\n",
       "      <th>N001AA</th>\n",
       "      <td>6.852459</td>\n",
       "      <td>61</td>\n",
       "    </tr>\n",
       "    <tr>\n",
       "      <th>N002AA</th>\n",
       "      <td>6.118644</td>\n",
       "      <td>59</td>\n",
       "    </tr>\n",
       "    <tr>\n",
       "      <th>N003AA</th>\n",
       "      <td>21.866667</td>\n",
       "      <td>60</td>\n",
       "    </tr>\n",
       "    <tr>\n",
       "      <th>N004AA</th>\n",
       "      <td>6.300000</td>\n",
       "      <td>70</td>\n",
       "    </tr>\n",
       "    <tr>\n",
       "      <th>N005AA</th>\n",
       "      <td>14.676471</td>\n",
       "      <td>68</td>\n",
       "    </tr>\n",
       "  </tbody>\n",
       "</table>\n",
       "</div>"
      ],
      "text/plain": [
       "              mean  count\n",
       "TailNum                  \n",
       "N001AA    6.852459     61\n",
       "N002AA    6.118644     59\n",
       "N003AA   21.866667     60\n",
       "N004AA    6.300000     70\n",
       "N005AA   14.676471     68"
      ]
     },
     "execution_count": 124,
     "metadata": {},
     "output_type": "execute_result"
    }
   ],
   "source": [
    "means_count.head(5)"
   ]
  },
  {
   "cell_type": "code",
   "execution_count": 128,
   "metadata": {
    "collapsed": false
   },
   "outputs": [],
   "source": [
    "sorted_mc = means_count.sort('mean',ascending=False)"
   ]
  },
  {
   "cell_type": "code",
   "execution_count": 131,
   "metadata": {
    "collapsed": false
   },
   "outputs": [
    {
     "data": {
      "text/html": [
       "<div>\n",
       "<table border=\"1\" class=\"dataframe\">\n",
       "  <thead>\n",
       "    <tr style=\"text-align: right;\">\n",
       "      <th></th>\n",
       "      <th>mean</th>\n",
       "      <th>count</th>\n",
       "    </tr>\n",
       "    <tr>\n",
       "      <th>TailNum</th>\n",
       "      <th></th>\n",
       "      <th></th>\n",
       "    </tr>\n",
       "  </thead>\n",
       "  <tbody>\n",
       "    <tr>\n",
       "      <th>N398AA</th>\n",
       "      <td>118.733333</td>\n",
       "      <td>15</td>\n",
       "    </tr>\n",
       "    <tr>\n",
       "      <th>N76065</th>\n",
       "      <td>117.416667</td>\n",
       "      <td>12</td>\n",
       "    </tr>\n",
       "    <tr>\n",
       "      <th>N5FSAA</th>\n",
       "      <td>105.800000</td>\n",
       "      <td>15</td>\n",
       "    </tr>\n",
       "    <tr>\n",
       "      <th>N557AA</th>\n",
       "      <td>85.434783</td>\n",
       "      <td>23</td>\n",
       "    </tr>\n",
       "    <tr>\n",
       "      <th>N17104</th>\n",
       "      <td>69.833333</td>\n",
       "      <td>12</td>\n",
       "    </tr>\n",
       "    <tr>\n",
       "      <th>N12125</th>\n",
       "      <td>67.235294</td>\n",
       "      <td>34</td>\n",
       "    </tr>\n",
       "    <tr>\n",
       "      <th>N189DN</th>\n",
       "      <td>65.800000</td>\n",
       "      <td>20</td>\n",
       "    </tr>\n",
       "    <tr>\n",
       "      <th>N619AS</th>\n",
       "      <td>62.125000</td>\n",
       "      <td>16</td>\n",
       "    </tr>\n",
       "    <tr>\n",
       "      <th>N639AA</th>\n",
       "      <td>60.312500</td>\n",
       "      <td>16</td>\n",
       "    </tr>\n",
       "    <tr>\n",
       "      <th>N502MQ</th>\n",
       "      <td>59.769231</td>\n",
       "      <td>52</td>\n",
       "    </tr>\n",
       "    <tr>\n",
       "      <th>N17128</th>\n",
       "      <td>52.666667</td>\n",
       "      <td>36</td>\n",
       "    </tr>\n",
       "    <tr>\n",
       "      <th>N387AA</th>\n",
       "      <td>52.500000</td>\n",
       "      <td>28</td>\n",
       "    </tr>\n",
       "    <tr>\n",
       "      <th>N345AA</th>\n",
       "      <td>50.941176</td>\n",
       "      <td>17</td>\n",
       "    </tr>\n",
       "    <tr>\n",
       "      <th>N41140</th>\n",
       "      <td>50.512195</td>\n",
       "      <td>41</td>\n",
       "    </tr>\n",
       "    <tr>\n",
       "      <th>N370AA</th>\n",
       "      <td>50.000000</td>\n",
       "      <td>11</td>\n",
       "    </tr>\n",
       "    <tr>\n",
       "      <th>N5FPAA</th>\n",
       "      <td>49.666667</td>\n",
       "      <td>15</td>\n",
       "    </tr>\n",
       "    <tr>\n",
       "      <th>N367AA</th>\n",
       "      <td>49.444444</td>\n",
       "      <td>27</td>\n",
       "    </tr>\n",
       "    <tr>\n",
       "      <th>N33103</th>\n",
       "      <td>47.481481</td>\n",
       "      <td>27</td>\n",
       "    </tr>\n",
       "    <tr>\n",
       "      <th>N79279</th>\n",
       "      <td>47.208333</td>\n",
       "      <td>24</td>\n",
       "    </tr>\n",
       "    <tr>\n",
       "      <th>N3767</th>\n",
       "      <td>46.800000</td>\n",
       "      <td>40</td>\n",
       "    </tr>\n",
       "    <tr>\n",
       "      <th>N908EV</th>\n",
       "      <td>46.250000</td>\n",
       "      <td>28</td>\n",
       "    </tr>\n",
       "    <tr>\n",
       "      <th>N68452</th>\n",
       "      <td>45.535211</td>\n",
       "      <td>71</td>\n",
       "    </tr>\n",
       "    <tr>\n",
       "      <th>N874AS</th>\n",
       "      <td>45.454545</td>\n",
       "      <td>77</td>\n",
       "    </tr>\n",
       "    <tr>\n",
       "      <th>N5FMAA</th>\n",
       "      <td>43.850000</td>\n",
       "      <td>20</td>\n",
       "    </tr>\n",
       "    <tr>\n",
       "      <th>N469AA</th>\n",
       "      <td>43.526316</td>\n",
       "      <td>76</td>\n",
       "    </tr>\n",
       "    <tr>\n",
       "      <th>N809MQ</th>\n",
       "      <td>43.032258</td>\n",
       "      <td>31</td>\n",
       "    </tr>\n",
       "    <tr>\n",
       "      <th>N607AS</th>\n",
       "      <td>41.833333</td>\n",
       "      <td>12</td>\n",
       "    </tr>\n",
       "    <tr>\n",
       "      <th>N210FR</th>\n",
       "      <td>40.728972</td>\n",
       "      <td>107</td>\n",
       "    </tr>\n",
       "    <tr>\n",
       "      <th>N227FR</th>\n",
       "      <td>39.593985</td>\n",
       "      <td>133</td>\n",
       "    </tr>\n",
       "    <tr>\n",
       "      <th>N110SY</th>\n",
       "      <td>39.433962</td>\n",
       "      <td>106</td>\n",
       "    </tr>\n",
       "    <tr>\n",
       "      <th>...</th>\n",
       "      <td>...</td>\n",
       "      <td>...</td>\n",
       "    </tr>\n",
       "    <tr>\n",
       "      <th>N564UW</th>\n",
       "      <td>-2.311321</td>\n",
       "      <td>106</td>\n",
       "    </tr>\n",
       "    <tr>\n",
       "      <th>N16151</th>\n",
       "      <td>-2.363636</td>\n",
       "      <td>11</td>\n",
       "    </tr>\n",
       "    <tr>\n",
       "      <th>N762AS</th>\n",
       "      <td>-2.438356</td>\n",
       "      <td>73</td>\n",
       "    </tr>\n",
       "    <tr>\n",
       "      <th>N535AS</th>\n",
       "      <td>-2.439560</td>\n",
       "      <td>91</td>\n",
       "    </tr>\n",
       "    <tr>\n",
       "      <th>N609AS</th>\n",
       "      <td>-2.598291</td>\n",
       "      <td>117</td>\n",
       "    </tr>\n",
       "    <tr>\n",
       "      <th>N577AS</th>\n",
       "      <td>-2.602410</td>\n",
       "      <td>83</td>\n",
       "    </tr>\n",
       "    <tr>\n",
       "      <th>N5FJAA</th>\n",
       "      <td>-2.666667</td>\n",
       "      <td>12</td>\n",
       "    </tr>\n",
       "    <tr>\n",
       "      <th>N455SW</th>\n",
       "      <td>-2.688235</td>\n",
       "      <td>170</td>\n",
       "    </tr>\n",
       "    <tr>\n",
       "      <th>N395HA</th>\n",
       "      <td>-2.702128</td>\n",
       "      <td>47</td>\n",
       "    </tr>\n",
       "    <tr>\n",
       "      <th>N397AA</th>\n",
       "      <td>-2.833333</td>\n",
       "      <td>18</td>\n",
       "    </tr>\n",
       "    <tr>\n",
       "      <th>N692CA</th>\n",
       "      <td>-2.909091</td>\n",
       "      <td>11</td>\n",
       "    </tr>\n",
       "    <tr>\n",
       "      <th>N3AFAA</th>\n",
       "      <td>-2.928571</td>\n",
       "      <td>14</td>\n",
       "    </tr>\n",
       "    <tr>\n",
       "      <th>N587AS</th>\n",
       "      <td>-2.986486</td>\n",
       "      <td>74</td>\n",
       "    </tr>\n",
       "    <tr>\n",
       "      <th>N383HA</th>\n",
       "      <td>-3.000000</td>\n",
       "      <td>45</td>\n",
       "    </tr>\n",
       "    <tr>\n",
       "      <th>N644AS</th>\n",
       "      <td>-3.112903</td>\n",
       "      <td>124</td>\n",
       "    </tr>\n",
       "    <tr>\n",
       "      <th>N318AS</th>\n",
       "      <td>-3.223301</td>\n",
       "      <td>103</td>\n",
       "    </tr>\n",
       "    <tr>\n",
       "      <th>N779AS</th>\n",
       "      <td>-3.234043</td>\n",
       "      <td>94</td>\n",
       "    </tr>\n",
       "    <tr>\n",
       "      <th>N463SW</th>\n",
       "      <td>-3.244094</td>\n",
       "      <td>127</td>\n",
       "    </tr>\n",
       "    <tr>\n",
       "      <th>N496CA</th>\n",
       "      <td>-3.285714</td>\n",
       "      <td>70</td>\n",
       "    </tr>\n",
       "    <tr>\n",
       "      <th>N796AS</th>\n",
       "      <td>-3.356589</td>\n",
       "      <td>129</td>\n",
       "    </tr>\n",
       "    <tr>\n",
       "      <th>N374HA</th>\n",
       "      <td>-3.500000</td>\n",
       "      <td>54</td>\n",
       "    </tr>\n",
       "    <tr>\n",
       "      <th>N612AS</th>\n",
       "      <td>-3.508475</td>\n",
       "      <td>118</td>\n",
       "    </tr>\n",
       "    <tr>\n",
       "      <th>N183JB</th>\n",
       "      <td>-3.684211</td>\n",
       "      <td>19</td>\n",
       "    </tr>\n",
       "    <tr>\n",
       "      <th>N431SW</th>\n",
       "      <td>-3.778689</td>\n",
       "      <td>122</td>\n",
       "    </tr>\n",
       "    <tr>\n",
       "      <th>N611AS</th>\n",
       "      <td>-3.837398</td>\n",
       "      <td>123</td>\n",
       "    </tr>\n",
       "    <tr>\n",
       "      <th>N659BR</th>\n",
       "      <td>-4.097561</td>\n",
       "      <td>164</td>\n",
       "    </tr>\n",
       "    <tr>\n",
       "      <th>N627AS</th>\n",
       "      <td>-4.407767</td>\n",
       "      <td>103</td>\n",
       "    </tr>\n",
       "    <tr>\n",
       "      <th>N618AS</th>\n",
       "      <td>-4.526786</td>\n",
       "      <td>112</td>\n",
       "    </tr>\n",
       "    <tr>\n",
       "      <th>N299SW</th>\n",
       "      <td>-5.769231</td>\n",
       "      <td>39</td>\n",
       "    </tr>\n",
       "    <tr>\n",
       "      <th>N781CA</th>\n",
       "      <td>-5.821918</td>\n",
       "      <td>146</td>\n",
       "    </tr>\n",
       "  </tbody>\n",
       "</table>\n",
       "<p>4166 rows × 2 columns</p>\n",
       "</div>"
      ],
      "text/plain": [
       "               mean  count\n",
       "TailNum                   \n",
       "N398AA   118.733333     15\n",
       "N76065   117.416667     12\n",
       "N5FSAA   105.800000     15\n",
       "N557AA    85.434783     23\n",
       "N17104    69.833333     12\n",
       "N12125    67.235294     34\n",
       "N189DN    65.800000     20\n",
       "N619AS    62.125000     16\n",
       "N639AA    60.312500     16\n",
       "N502MQ    59.769231     52\n",
       "N17128    52.666667     36\n",
       "N387AA    52.500000     28\n",
       "N345AA    50.941176     17\n",
       "N41140    50.512195     41\n",
       "N370AA    50.000000     11\n",
       "N5FPAA    49.666667     15\n",
       "N367AA    49.444444     27\n",
       "N33103    47.481481     27\n",
       "N79279    47.208333     24\n",
       "N3767     46.800000     40\n",
       "N908EV    46.250000     28\n",
       "N68452    45.535211     71\n",
       "N874AS    45.454545     77\n",
       "N5FMAA    43.850000     20\n",
       "N469AA    43.526316     76\n",
       "N809MQ    43.032258     31\n",
       "N607AS    41.833333     12\n",
       "N210FR    40.728972    107\n",
       "N227FR    39.593985    133\n",
       "N110SY    39.433962    106\n",
       "...             ...    ...\n",
       "N564UW    -2.311321    106\n",
       "N16151    -2.363636     11\n",
       "N762AS    -2.438356     73\n",
       "N535AS    -2.439560     91\n",
       "N609AS    -2.598291    117\n",
       "N577AS    -2.602410     83\n",
       "N5FJAA    -2.666667     12\n",
       "N455SW    -2.688235    170\n",
       "N395HA    -2.702128     47\n",
       "N397AA    -2.833333     18\n",
       "N692CA    -2.909091     11\n",
       "N3AFAA    -2.928571     14\n",
       "N587AS    -2.986486     74\n",
       "N383HA    -3.000000     45\n",
       "N644AS    -3.112903    124\n",
       "N318AS    -3.223301    103\n",
       "N779AS    -3.234043     94\n",
       "N463SW    -3.244094    127\n",
       "N496CA    -3.285714     70\n",
       "N796AS    -3.356589    129\n",
       "N374HA    -3.500000     54\n",
       "N612AS    -3.508475    118\n",
       "N183JB    -3.684211     19\n",
       "N431SW    -3.778689    122\n",
       "N611AS    -3.837398    123\n",
       "N659BR    -4.097561    164\n",
       "N627AS    -4.407767    103\n",
       "N618AS    -4.526786    112\n",
       "N299SW    -5.769231     39\n",
       "N781CA    -5.821918    146\n",
       "\n",
       "[4166 rows x 2 columns]"
      ]
     },
     "execution_count": 131,
     "metadata": {},
     "output_type": "execute_result"
    }
   ],
   "source": [
    "sorted_mc[sorted_mc['count']>10]"
   ]
  }
 ],
 "metadata": {
  "kernelspec": {
   "display_name": "Python 2",
   "language": "python",
   "name": "python2"
  },
  "language_info": {
   "codemirror_mode": {
    "name": "ipython",
    "version": 2
   },
   "file_extension": ".py",
   "mimetype": "text/x-python",
   "name": "python",
   "nbconvert_exporter": "python",
   "pygments_lexer": "ipython2",
   "version": "2.7.10"
  }
 },
 "nbformat": 4,
 "nbformat_minor": 0
}
