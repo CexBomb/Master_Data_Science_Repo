{
 "cells": [
  {
   "cell_type": "code",
   "execution_count": 17,
   "metadata": {
    "collapsed": true
   },
   "outputs": [],
   "source": [
    "import pandas as pd"
   ]
  },
  {
   "cell_type": "code",
   "execution_count": 48,
   "metadata": {
    "collapsed": true
   },
   "outputs": [],
   "source": [
    "df = pd.read_csv('bookings.csv.bz2', nrows=1e5, sep='^')"
   ]
  },
  {
   "cell_type": "code",
   "execution_count": 49,
   "metadata": {
    "collapsed": false
   },
   "outputs": [
    {
     "data": {
      "text/plain": [
       "100000"
      ]
     },
     "execution_count": 49,
     "metadata": {},
     "output_type": "execute_result"
    }
   ],
   "source": [
    "len(df)"
   ]
  },
  {
   "cell_type": "code",
   "execution_count": 20,
   "metadata": {
    "collapsed": false
   },
   "outputs": [
    {
     "data": {
      "text/html": [
       "<div>\n",
       "<table border=\"1\" class=\"dataframe\">\n",
       "  <thead>\n",
       "    <tr style=\"text-align: right;\">\n",
       "      <th></th>\n",
       "      <th>act_date</th>\n",
       "      <th>source</th>\n",
       "      <th>pos_ctry</th>\n",
       "      <th>pos_iata</th>\n",
       "      <th>pos_oid</th>\n",
       "      <th>rloc</th>\n",
       "      <th>cre_date</th>\n",
       "      <th>duration</th>\n",
       "      <th>distance</th>\n",
       "      <th>dep_port</th>\n",
       "      <th>...</th>\n",
       "      <th>route</th>\n",
       "      <th>carrier</th>\n",
       "      <th>bkg_class</th>\n",
       "      <th>cab_class</th>\n",
       "      <th>brd_time</th>\n",
       "      <th>off_time</th>\n",
       "      <th>pax</th>\n",
       "      <th>year</th>\n",
       "      <th>month</th>\n",
       "      <th>oid</th>\n",
       "    </tr>\n",
       "  </thead>\n",
       "  <tbody>\n",
       "    <tr>\n",
       "      <th>71821</th>\n",
       "      <td>2013-03-15 00:00:00</td>\n",
       "      <td>1G</td>\n",
       "      <td>GB</td>\n",
       "      <td>8cec3b4884bffe8f476109fe9f76135e</td>\n",
       "      <td>24141995f88440b6c2e177ff580dd4fe</td>\n",
       "      <td>d3fb4914d281e05e390b9a2f05c04190</td>\n",
       "      <td>2013-03-15 00:00:00</td>\n",
       "      <td>51750</td>\n",
       "      <td>0</td>\n",
       "      <td>LHR</td>\n",
       "      <td>...</td>\n",
       "      <td>LAXSYD</td>\n",
       "      <td>BP</td>\n",
       "      <td>S</td>\n",
       "      <td>Y</td>\n",
       "      <td>2013-09-28 22:10:00</td>\n",
       "      <td>2013-09-30 06:08:50</td>\n",
       "      <td>2</td>\n",
       "      <td>2013</td>\n",
       "      <td>3</td>\n",
       "      <td>NULL</td>\n",
       "    </tr>\n",
       "    <tr>\n",
       "      <th>21181</th>\n",
       "      <td>2013-01-25 00:00:00</td>\n",
       "      <td>1V</td>\n",
       "      <td>US</td>\n",
       "      <td>73d2bd747515516040ec806a72ff7fb2</td>\n",
       "      <td>0ea791cd1d8b35e744dc1a3f0e2191a0</td>\n",
       "      <td>81373d4ec5eee9b254a54d75318d884d</td>\n",
       "      <td>2013-01-23 00:00:00</td>\n",
       "      <td>1371</td>\n",
       "      <td>0</td>\n",
       "      <td>ORD</td>\n",
       "      <td>...</td>\n",
       "      <td>LGAORD</td>\n",
       "      <td>KK</td>\n",
       "      <td>K</td>\n",
       "      <td>Y</td>\n",
       "      <td>2013-01-25 18:20:00</td>\n",
       "      <td>2013-01-25 19:31:02</td>\n",
       "      <td>1</td>\n",
       "      <td>2013</td>\n",
       "      <td>1</td>\n",
       "      <td>NULL</td>\n",
       "    </tr>\n",
       "    <tr>\n",
       "      <th>81838</th>\n",
       "      <td>2013-03-21 00:00:00</td>\n",
       "      <td>1S</td>\n",
       "      <td>US</td>\n",
       "      <td>7e22f22aff7bd6231f3362bcfe4bc267</td>\n",
       "      <td>511e02785b75341fc3d0e6857e650426</td>\n",
       "      <td>b67f961eeaddbc9b8e45946caee4b884</td>\n",
       "      <td>2013-03-21 00:00:00</td>\n",
       "      <td>10676</td>\n",
       "      <td>0</td>\n",
       "      <td>DAY</td>\n",
       "      <td>...</td>\n",
       "      <td>DAYCLTFPO</td>\n",
       "      <td>FD</td>\n",
       "      <td>L</td>\n",
       "      <td>Y</td>\n",
       "      <td>2013-06-20 09:23:00</td>\n",
       "      <td>2013-06-20 13:42:33</td>\n",
       "      <td>3</td>\n",
       "      <td>2013</td>\n",
       "      <td>3</td>\n",
       "      <td>NULL</td>\n",
       "    </tr>\n",
       "    <tr>\n",
       "      <th>84143</th>\n",
       "      <td>2013-01-24 00:00:00</td>\n",
       "      <td>1S</td>\n",
       "      <td>IT</td>\n",
       "      <td>9222ab44126311c65b4965519830863d</td>\n",
       "      <td>fe2d33137a16f8699c5dbd92c37df6ab</td>\n",
       "      <td>d4a663af660b67b9914204bf209ab726</td>\n",
       "      <td>2013-01-24 00:00:00</td>\n",
       "      <td>26289</td>\n",
       "      <td>0</td>\n",
       "      <td>FCO</td>\n",
       "      <td>...</td>\n",
       "      <td>FCOLHRLAX</td>\n",
       "      <td>LK</td>\n",
       "      <td>T</td>\n",
       "      <td>Y</td>\n",
       "      <td>2013-08-06 08:15:00</td>\n",
       "      <td>2013-08-06 15:10:54</td>\n",
       "      <td>4</td>\n",
       "      <td>2013</td>\n",
       "      <td>1</td>\n",
       "      <td>NULL</td>\n",
       "    </tr>\n",
       "    <tr>\n",
       "      <th>82977</th>\n",
       "      <td>2013-05-02 00:00:00</td>\n",
       "      <td>1S</td>\n",
       "      <td>US</td>\n",
       "      <td>d0805f11c396525bbb3116f47fb8e7ba</td>\n",
       "      <td>12fee284d636bd4ca3374c55c5507ce9</td>\n",
       "      <td>a85e742401218ea087adcf44c99ea73a</td>\n",
       "      <td>2013-05-02 00:00:00</td>\n",
       "      <td>31899</td>\n",
       "      <td>0</td>\n",
       "      <td>CLT</td>\n",
       "      <td>...</td>\n",
       "      <td>CLTATLCDGKBP</td>\n",
       "      <td>KP</td>\n",
       "      <td>Q</td>\n",
       "      <td>Y</td>\n",
       "      <td>2013-09-21 17:00:00</td>\n",
       "      <td>2013-09-22 17:31:22</td>\n",
       "      <td>2</td>\n",
       "      <td>2013</td>\n",
       "      <td>5</td>\n",
       "      <td>NULL</td>\n",
       "    </tr>\n",
       "  </tbody>\n",
       "</table>\n",
       "<p>5 rows × 38 columns</p>\n",
       "</div>"
      ],
      "text/plain": [
       "       act_date             source  pos_ctry  \\\n",
       "71821  2013-03-15 00:00:00  1G      GB         \n",
       "21181  2013-01-25 00:00:00  1V      US         \n",
       "81838  2013-03-21 00:00:00  1S      US         \n",
       "84143  2013-01-24 00:00:00  1S      IT         \n",
       "82977  2013-05-02 00:00:00  1S      US         \n",
       "\n",
       "                               pos_iata                         pos_oid    \\\n",
       "71821  8cec3b4884bffe8f476109fe9f76135e  24141995f88440b6c2e177ff580dd4fe   \n",
       "21181  73d2bd747515516040ec806a72ff7fb2  0ea791cd1d8b35e744dc1a3f0e2191a0   \n",
       "81838  7e22f22aff7bd6231f3362bcfe4bc267  511e02785b75341fc3d0e6857e650426   \n",
       "84143  9222ab44126311c65b4965519830863d  fe2d33137a16f8699c5dbd92c37df6ab   \n",
       "82977  d0805f11c396525bbb3116f47fb8e7ba  12fee284d636bd4ca3374c55c5507ce9   \n",
       "\n",
       "                         rloc            cre_date             duration  \\\n",
       "71821  d3fb4914d281e05e390b9a2f05c04190  2013-03-15 00:00:00     51750   \n",
       "21181  81373d4ec5eee9b254a54d75318d884d  2013-01-23 00:00:00      1371   \n",
       "81838  b67f961eeaddbc9b8e45946caee4b884  2013-03-21 00:00:00     10676   \n",
       "84143  d4a663af660b67b9914204bf209ab726  2013-01-24 00:00:00     26289   \n",
       "82977  a85e742401218ea087adcf44c99ea73a  2013-05-02 00:00:00     31899   \n",
       "\n",
       "       distance  dep_port    ...      route           carrier  bkg_class  \\\n",
       "71821         0  LHR         ...      LAXSYD               BP  S           \n",
       "21181         0  ORD         ...         LGAORD            KK  K           \n",
       "81838         0  DAY         ...      DAYCLTFPO            FD  L           \n",
       "84143         0  FCO         ...         FCOLHRLAX         LK  T           \n",
       "82977         0  CLT         ...      CLTATLCDGKBP         KP  Q           \n",
       "\n",
       "       cab_class  brd_time             off_time            pax  year month  \\\n",
       "71821  Y          2013-09-28 22:10:00  2013-09-30 06:08:50   2  2013     3   \n",
       "21181  Y          2013-01-25 18:20:00  2013-01-25 19:31:02   1  2013     1   \n",
       "81838  Y          2013-06-20 09:23:00  2013-06-20 13:42:33   3  2013     3   \n",
       "84143  Y          2013-08-06 08:15:00  2013-08-06 15:10:54   4  2013     1   \n",
       "82977  Y          2013-09-21 17:00:00  2013-09-22 17:31:22   2  2013     5   \n",
       "\n",
       "       oid        \n",
       "71821  NULL       \n",
       "21181  NULL       \n",
       "81838  NULL       \n",
       "84143  NULL       \n",
       "82977  NULL       \n",
       "\n",
       "[5 rows x 38 columns]"
      ]
     },
     "execution_count": 20,
     "metadata": {},
     "output_type": "execute_result"
    }
   ],
   "source": [
    "df.sample(5)"
   ]
  },
  {
   "cell_type": "code",
   "execution_count": 50,
   "metadata": {
    "collapsed": false
   },
   "outputs": [],
   "source": [
    "dfarr = df.groupby('arr_port')"
   ]
  },
  {
   "cell_type": "code",
   "execution_count": 54,
   "metadata": {
    "collapsed": true
   },
   "outputs": [],
   "source": [
    "s= dfarr.pax.sum()"
   ]
  },
  {
   "cell_type": "code",
   "execution_count": null,
   "metadata": {
    "collapsed": true
   },
   "outputs": [],
   "source": []
  },
  {
   "cell_type": "code",
   "execution_count": 30,
   "metadata": {
    "collapsed": false
   },
   "outputs": [],
   "source": [
    "paxdf = dfarr['pax'].sum()"
   ]
  },
  {
   "cell_type": "code",
   "execution_count": 35,
   "metadata": {
    "collapsed": false
   },
   "outputs": [
    {
     "data": {
      "text/plain": [
       "arr_port\n",
       "LHR         1006\n",
       "MCO          861\n",
       "JFK          795\n",
       "LAX          761\n",
       "BKK          747\n",
       "Name: pax, dtype: int64"
      ]
     },
     "execution_count": 35,
     "metadata": {},
     "output_type": "execute_result"
    }
   ],
   "source": [
    "paxdf.sort_values(ascending=False).head()"
   ]
  },
  {
   "cell_type": "code",
   "execution_count": 34,
   "metadata": {
    "collapsed": true
   },
   "outputs": [],
   "source": [
    "df2 = pd.read_csv('bookings.csv.bz2', sep='^', usecols=['arr_port','pax'])"
   ]
  },
  {
   "cell_type": "code",
   "execution_count": 38,
   "metadata": {
    "collapsed": false
   },
   "outputs": [
    {
     "data": {
      "text/html": [
       "<div>\n",
       "<table border=\"1\" class=\"dataframe\">\n",
       "  <thead>\n",
       "    <tr style=\"text-align: right;\">\n",
       "      <th></th>\n",
       "      <th>arr_port</th>\n",
       "      <th>pax</th>\n",
       "    </tr>\n",
       "  </thead>\n",
       "  <tbody>\n",
       "    <tr>\n",
       "      <th>0</th>\n",
       "      <td>LHR</td>\n",
       "      <td>-1</td>\n",
       "    </tr>\n",
       "    <tr>\n",
       "      <th>1</th>\n",
       "      <td>CLT</td>\n",
       "      <td>1</td>\n",
       "    </tr>\n",
       "    <tr>\n",
       "      <th>2</th>\n",
       "      <td>CLT</td>\n",
       "      <td>1</td>\n",
       "    </tr>\n",
       "    <tr>\n",
       "      <th>3</th>\n",
       "      <td>SVO</td>\n",
       "      <td>1</td>\n",
       "    </tr>\n",
       "    <tr>\n",
       "      <th>4</th>\n",
       "      <td>SVO</td>\n",
       "      <td>1</td>\n",
       "    </tr>\n",
       "  </tbody>\n",
       "</table>\n",
       "</div>"
      ],
      "text/plain": [
       "   arr_port  pax\n",
       "0  LHR        -1\n",
       "1  CLT         1\n",
       "2  CLT         1\n",
       "3  SVO         1\n",
       "4  SVO         1"
      ]
     },
     "execution_count": 38,
     "metadata": {},
     "output_type": "execute_result"
    }
   ],
   "source": [
    "df2.head()"
   ]
  },
  {
   "cell_type": "code",
   "execution_count": 41,
   "metadata": {
    "collapsed": false
   },
   "outputs": [],
   "source": [
    "dfarr = df2.groupby('arr_port')"
   ]
  },
  {
   "cell_type": "code",
   "execution_count": 44,
   "metadata": {
    "collapsed": true
   },
   "outputs": [],
   "source": [
    "paxdf = dfarr['pax'].sum()"
   ]
  },
  {
   "cell_type": "code",
   "execution_count": 47,
   "metadata": {
    "collapsed": false
   },
   "outputs": [
    {
     "data": {
      "text/plain": [
       "arr_port\n",
       "LHR         88809\n",
       "MCO         70930\n",
       "LAX         70530\n",
       "LAS         69630\n",
       "JFK         66270\n",
       "CDG         64490\n",
       "BKK         59460\n",
       "MIA         58150\n",
       "SFO         58000\n",
       "DXB         55590\n",
       "Name: pax, dtype: float64"
      ]
     },
     "execution_count": 47,
     "metadata": {},
     "output_type": "execute_result"
    }
   ],
   "source": [
    "paxdf.sort_values(ascending=False).head(10)"
   ]
  },
  {
   "cell_type": "code",
   "execution_count": null,
   "metadata": {
    "collapsed": true
   },
   "outputs": [],
   "source": []
  }
 ],
 "metadata": {
  "kernelspec": {
   "display_name": "Python 2",
   "language": "python",
   "name": "python2"
  },
  "language_info": {
   "codemirror_mode": {
    "name": "ipython",
    "version": 2
   },
   "file_extension": ".py",
   "mimetype": "text/x-python",
   "name": "python",
   "nbconvert_exporter": "python",
   "pygments_lexer": "ipython2",
   "version": "2.7.10"
  }
 },
 "nbformat": 4,
 "nbformat_minor": 0
}
