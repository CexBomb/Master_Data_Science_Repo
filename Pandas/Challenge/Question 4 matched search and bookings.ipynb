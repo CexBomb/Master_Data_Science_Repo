{
 "cells": [
  {
   "cell_type": "code",
   "execution_count": 1,
   "metadata": {
    "collapsed": false
   },
   "outputs": [
    {
     "name": "stdout",
     "output_type": "stream",
     "text": [
      "Populating the interactive namespace from numpy and matplotlib\n"
     ]
    }
   ],
   "source": [
    "import pandas as pd\n",
    "%pylab inline"
   ]
  },
  {
   "cell_type": "code",
   "execution_count": 66,
   "metadata": {
    "collapsed": false
   },
   "outputs": [],
   "source": [
    "b = pd.read_csv('/home/dsc/Downloads/Basecamp Download/bookings.csv.bz2', \n",
    "                sep='^', \n",
    "                nrows=1e5,\n",
    "                usecols=['brd_time           ','brd_port','off_port'],\n",
    "                parse_dates = ['brd_time           ']\n",
    "               )"
   ]
  },
  {
   "cell_type": "code",
   "execution_count": 67,
   "metadata": {
    "collapsed": false
   },
   "outputs": [
    {
     "data": {
      "text/plain": [
       "Index([u'brd_port', u'off_port', u'brd_time           '], dtype='object')"
      ]
     },
     "execution_count": 67,
     "metadata": {},
     "output_type": "execute_result"
    }
   ],
   "source": [
    "b.columns"
   ]
  },
  {
   "cell_type": "code",
   "execution_count": 68,
   "metadata": {
    "collapsed": true
   },
   "outputs": [],
   "source": [
    "b['date']=b['brd_time           ']"
   ]
  },
  {
   "cell_type": "code",
   "execution_count": 69,
   "metadata": {
    "collapsed": false
   },
   "outputs": [],
   "source": [
    "b = b.drop('brd_time           ', axis=1)"
   ]
  },
  {
   "cell_type": "code",
   "execution_count": 70,
   "metadata": {
    "collapsed": false
   },
   "outputs": [
    {
     "data": {
      "text/html": [
       "<div>\n",
       "<table border=\"1\" class=\"dataframe\">\n",
       "  <thead>\n",
       "    <tr style=\"text-align: right;\">\n",
       "      <th></th>\n",
       "      <th>brd_port</th>\n",
       "      <th>off_port</th>\n",
       "      <th>date</th>\n",
       "    </tr>\n",
       "  </thead>\n",
       "  <tbody>\n",
       "    <tr>\n",
       "      <th>72475</th>\n",
       "      <td>WAW</td>\n",
       "      <td>WRO</td>\n",
       "      <td>2013-04-02 19:20:00</td>\n",
       "    </tr>\n",
       "    <tr>\n",
       "      <th>87490</th>\n",
       "      <td>ORD</td>\n",
       "      <td>MIA</td>\n",
       "      <td>2013-01-10 09:00:00</td>\n",
       "    </tr>\n",
       "    <tr>\n",
       "      <th>56078</th>\n",
       "      <td>KBV</td>\n",
       "      <td>BKK</td>\n",
       "      <td>2013-06-14 10:10:00</td>\n",
       "    </tr>\n",
       "    <tr>\n",
       "      <th>2463</th>\n",
       "      <td>YYZ</td>\n",
       "      <td>PHX</td>\n",
       "      <td>2013-03-10 11:30:00</td>\n",
       "    </tr>\n",
       "    <tr>\n",
       "      <th>78969</th>\n",
       "      <td>IAH</td>\n",
       "      <td>LIR</td>\n",
       "      <td>2013-02-03 09:00:00</td>\n",
       "    </tr>\n",
       "  </tbody>\n",
       "</table>\n",
       "</div>"
      ],
      "text/plain": [
       "       brd_port  off_port                date\n",
       "72475  WAW       WRO      2013-04-02 19:20:00\n",
       "87490  ORD       MIA      2013-01-10 09:00:00\n",
       "56078  KBV       BKK      2013-06-14 10:10:00\n",
       "2463   YYZ       PHX      2013-03-10 11:30:00\n",
       "78969  IAH       LIR      2013-02-03 09:00:00"
      ]
     },
     "execution_count": 70,
     "metadata": {},
     "output_type": "execute_result"
    }
   ],
   "source": [
    "b.sample(5)"
   ]
  },
  {
   "cell_type": "code",
   "execution_count": 71,
   "metadata": {
    "collapsed": false
   },
   "outputs": [],
   "source": [
    "s = pd.read_csv('/home/dsc/Downloads/Basecamp Download/searches.csv.bz2',\n",
    "                usecols=['Origin','Destination','Seg1Date'],\n",
    "                sep = '^',\n",
    "                parse_dates=['Seg1Date'],\n",
    "                nrows = 1e5)"
   ]
  },
  {
   "cell_type": "code",
   "execution_count": 72,
   "metadata": {
    "collapsed": false
   },
   "outputs": [
    {
     "data": {
      "text/html": [
       "<div>\n",
       "<table border=\"1\" class=\"dataframe\">\n",
       "  <thead>\n",
       "    <tr style=\"text-align: right;\">\n",
       "      <th></th>\n",
       "      <th>Origin</th>\n",
       "      <th>Destination</th>\n",
       "      <th>Seg1Date</th>\n",
       "    </tr>\n",
       "  </thead>\n",
       "  <tbody>\n",
       "    <tr>\n",
       "      <th>45660</th>\n",
       "      <td>KRK</td>\n",
       "      <td>LWO</td>\n",
       "      <td>2013-05-31</td>\n",
       "    </tr>\n",
       "    <tr>\n",
       "      <th>2377</th>\n",
       "      <td>CPH</td>\n",
       "      <td>LON</td>\n",
       "      <td>2013-03-01</td>\n",
       "    </tr>\n",
       "    <tr>\n",
       "      <th>30588</th>\n",
       "      <td>BOG</td>\n",
       "      <td>FLL</td>\n",
       "      <td>2013-03-25</td>\n",
       "    </tr>\n",
       "    <tr>\n",
       "      <th>53846</th>\n",
       "      <td>SYD</td>\n",
       "      <td>PEK</td>\n",
       "      <td>2013-09-06</td>\n",
       "    </tr>\n",
       "    <tr>\n",
       "      <th>24555</th>\n",
       "      <td>YEA</td>\n",
       "      <td>JED</td>\n",
       "      <td>2013-02-15</td>\n",
       "    </tr>\n",
       "  </tbody>\n",
       "</table>\n",
       "</div>"
      ],
      "text/plain": [
       "      Origin Destination   Seg1Date\n",
       "45660    KRK         LWO 2013-05-31\n",
       "2377     CPH         LON 2013-03-01\n",
       "30588    BOG         FLL 2013-03-25\n",
       "53846    SYD         PEK 2013-09-06\n",
       "24555    YEA         JED 2013-02-15"
      ]
     },
     "execution_count": 72,
     "metadata": {},
     "output_type": "execute_result"
    }
   ],
   "source": [
    "s.sample(5)"
   ]
  },
  {
   "cell_type": "code",
   "execution_count": 73,
   "metadata": {
    "collapsed": false
   },
   "outputs": [],
   "source": [
    "b['dateNoTime']=b.date.apply(lambda t: t.date())"
   ]
  },
  {
   "cell_type": "code",
   "execution_count": 74,
   "metadata": {
    "collapsed": true
   },
   "outputs": [],
   "source": [
    "s['dateNoTime']=s.Seg1Date.apply(lambda t: t.date())"
   ]
  },
  {
   "cell_type": "code",
   "execution_count": 84,
   "metadata": {
    "collapsed": false
   },
   "outputs": [],
   "source": [
    "m = pd.merge(s.dropna(),b.dropna(),\n",
    "             how = 'left', \n",
    "             left_on=['Origin','Destination', 'dateNoTime'], \n",
    "             right_on=['brd_port','off_port','dateNoTime']\n",
    "            )"
   ]
  },
  {
   "cell_type": "code",
   "execution_count": 85,
   "metadata": {
    "collapsed": false
   },
   "outputs": [],
   "source": [
    "m['match'] = m.brd_port.apply(lambda b: not pd.isnull(b))"
   ]
  },
  {
   "cell_type": "code",
   "execution_count": 86,
   "metadata": {
    "collapsed": false
   },
   "outputs": [
    {
     "data": {
      "text/html": [
       "<div>\n",
       "<table border=\"1\" class=\"dataframe\">\n",
       "  <thead>\n",
       "    <tr style=\"text-align: right;\">\n",
       "      <th></th>\n",
       "      <th>Origin</th>\n",
       "      <th>Destination</th>\n",
       "      <th>Seg1Date</th>\n",
       "      <th>dateNoTime</th>\n",
       "      <th>brd_port</th>\n",
       "      <th>off_port</th>\n",
       "      <th>match</th>\n",
       "    </tr>\n",
       "  </thead>\n",
       "  <tbody>\n",
       "    <tr>\n",
       "      <th>90400</th>\n",
       "      <td>WAS</td>\n",
       "      <td>CVG</td>\n",
       "      <td>2013-05-16</td>\n",
       "      <td>2013-05-16</td>\n",
       "      <td>NaN</td>\n",
       "      <td>NaN</td>\n",
       "      <td>False</td>\n",
       "    </tr>\n",
       "  </tbody>\n",
       "</table>\n",
       "</div>"
      ],
      "text/plain": [
       "      Origin Destination   Seg1Date  dateNoTime brd_port off_port  match\n",
       "90400    WAS         CVG 2013-05-16  2013-05-16      NaN      NaN  False"
      ]
     },
     "execution_count": 86,
     "metadata": {},
     "output_type": "execute_result"
    }
   ],
   "source": [
    "m.sample()"
   ]
  },
  {
   "cell_type": "code",
   "execution_count": 87,
   "metadata": {
    "collapsed": false
   },
   "outputs": [
    {
     "data": {
      "text/html": [
       "<div>\n",
       "<table border=\"1\" class=\"dataframe\">\n",
       "  <thead>\n",
       "    <tr style=\"text-align: right;\">\n",
       "      <th></th>\n",
       "      <th>Origin</th>\n",
       "      <th>Destination</th>\n",
       "      <th>Seg1Date</th>\n",
       "      <th>dateNoTime</th>\n",
       "      <th>brd_port</th>\n",
       "      <th>off_port</th>\n",
       "    </tr>\n",
       "    <tr>\n",
       "      <th>match</th>\n",
       "      <th></th>\n",
       "      <th></th>\n",
       "      <th></th>\n",
       "      <th></th>\n",
       "      <th></th>\n",
       "      <th></th>\n",
       "    </tr>\n",
       "  </thead>\n",
       "  <tbody>\n",
       "    <tr>\n",
       "      <th>False</th>\n",
       "      <td>99605</td>\n",
       "      <td>99605</td>\n",
       "      <td>99605</td>\n",
       "      <td>99605</td>\n",
       "      <td>0</td>\n",
       "      <td>0</td>\n",
       "    </tr>\n",
       "  </tbody>\n",
       "</table>\n",
       "</div>"
      ],
      "text/plain": [
       "       Origin  Destination  Seg1Date  dateNoTime  brd_port  off_port\n",
       "match                                                               \n",
       "False   99605        99605     99605       99605         0         0"
      ]
     },
     "execution_count": 87,
     "metadata": {},
     "output_type": "execute_result"
    }
   ],
   "source": [
    "m.groupby('match').count()"
   ]
  },
  {
   "cell_type": "code",
   "execution_count": null,
   "metadata": {
    "collapsed": true
   },
   "outputs": [],
   "source": []
  }
 ],
 "metadata": {
  "kernelspec": {
   "display_name": "Python 2",
   "language": "python",
   "name": "python2"
  },
  "language_info": {
   "codemirror_mode": {
    "name": "ipython",
    "version": 2
   },
   "file_extension": ".py",
   "mimetype": "text/x-python",
   "name": "python",
   "nbconvert_exporter": "python",
   "pygments_lexer": "ipython2",
   "version": "2.7.10"
  }
 },
 "nbformat": 4,
 "nbformat_minor": 0
}
