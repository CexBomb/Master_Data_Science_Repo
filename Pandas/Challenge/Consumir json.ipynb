{
 "cells": [
  {
   "cell_type": "code",
   "execution_count": 1,
   "metadata": {
    "collapsed": true
   },
   "outputs": [],
   "source": [
    "import pandas as pd"
   ]
  },
  {
   "cell_type": "code",
   "execution_count": 23,
   "metadata": {
    "collapsed": false
   },
   "outputs": [],
   "source": [
<<<<<<< HEAD
    "df = pd.read_json('https://api.sandbox.amadeus.com/v1.2/flights/low-fare-search?apikey=XO5B6yiAg1Jpq789CGo3ZWSPmabnH7tE&origin=BOS&destination=LON&departure_date=2016-01-25')"
=======
    "df = pd.read_json('https://api.sandbox.amadeus.com/v1.2/flights/low-fare-search?apikey={apiKey}&origin=BOS&destination=LON&departure_date=2016-01-25')"
>>>>>>> eb91f9fa027994b3cfc8b744ae5948ff4cf14d73
   ]
  },
  {
   "cell_type": "code",
   "execution_count": 20,
   "metadata": {
    "collapsed": false
   },
   "outputs": [
    {
     "data": {
      "text/html": [
       "<div>\n",
       "<table border=\"1\" class=\"dataframe\">\n",
       "  <thead>\n",
       "    <tr style=\"text-align: right;\">\n",
       "      <th></th>\n",
       "      <th>results</th>\n",
       "    </tr>\n",
       "  </thead>\n",
       "  <tbody>\n",
       "    <tr>\n",
       "      <th>0</th>\n",
       "      <td>{u'total_price': {u'currency': u'USD', u'amoun...</td>\n",
       "    </tr>\n",
       "    <tr>\n",
       "      <th>1</th>\n",
       "      <td>{u'total_price': {u'currency': u'USD', u'amoun...</td>\n",
       "    </tr>\n",
       "    <tr>\n",
       "      <th>2</th>\n",
       "      <td>{u'total_price': {u'currency': u'USD', u'amoun...</td>\n",
       "    </tr>\n",
       "    <tr>\n",
       "      <th>3</th>\n",
       "      <td>{u'total_price': {u'currency': u'USD', u'amoun...</td>\n",
       "    </tr>\n",
       "    <tr>\n",
       "      <th>4</th>\n",
       "      <td>{u'total_price': {u'currency': u'USD', u'amoun...</td>\n",
       "    </tr>\n",
       "    <tr>\n",
       "      <th>5</th>\n",
       "      <td>{u'total_price': {u'currency': u'USD', u'amoun...</td>\n",
       "    </tr>\n",
       "    <tr>\n",
       "      <th>6</th>\n",
       "      <td>{u'total_price': {u'currency': u'USD', u'amoun...</td>\n",
       "    </tr>\n",
       "    <tr>\n",
       "      <th>7</th>\n",
       "      <td>{u'total_price': {u'currency': u'USD', u'amoun...</td>\n",
       "    </tr>\n",
       "    <tr>\n",
       "      <th>8</th>\n",
       "      <td>{u'total_price': {u'currency': u'USD', u'amoun...</td>\n",
       "    </tr>\n",
       "    <tr>\n",
       "      <th>9</th>\n",
       "      <td>{u'total_price': {u'currency': u'USD', u'amoun...</td>\n",
       "    </tr>\n",
       "    <tr>\n",
       "      <th>10</th>\n",
       "      <td>{u'total_price': {u'currency': u'USD', u'amoun...</td>\n",
       "    </tr>\n",
       "    <tr>\n",
       "      <th>11</th>\n",
       "      <td>{u'total_price': {u'currency': u'USD', u'amoun...</td>\n",
       "    </tr>\n",
       "    <tr>\n",
       "      <th>12</th>\n",
       "      <td>{u'total_price': {u'currency': u'USD', u'amoun...</td>\n",
       "    </tr>\n",
       "    <tr>\n",
       "      <th>13</th>\n",
       "      <td>{u'total_price': {u'currency': u'USD', u'amoun...</td>\n",
       "    </tr>\n",
       "    <tr>\n",
       "      <th>14</th>\n",
       "      <td>{u'total_price': {u'currency': u'USD', u'amoun...</td>\n",
       "    </tr>\n",
       "    <tr>\n",
       "      <th>15</th>\n",
       "      <td>{u'total_price': {u'currency': u'USD', u'amoun...</td>\n",
       "    </tr>\n",
       "    <tr>\n",
       "      <th>16</th>\n",
       "      <td>{u'total_price': {u'currency': u'USD', u'amoun...</td>\n",
       "    </tr>\n",
       "    <tr>\n",
       "      <th>17</th>\n",
       "      <td>{u'total_price': {u'currency': u'USD', u'amoun...</td>\n",
       "    </tr>\n",
       "    <tr>\n",
       "      <th>18</th>\n",
       "      <td>{u'total_price': {u'currency': u'USD', u'amoun...</td>\n",
       "    </tr>\n",
       "    <tr>\n",
       "      <th>19</th>\n",
       "      <td>{u'total_price': {u'currency': u'USD', u'amoun...</td>\n",
       "    </tr>\n",
       "  </tbody>\n",
       "</table>\n",
       "</div>"
      ],
      "text/plain": [
       "                                              results\n",
       "0   {u'total_price': {u'currency': u'USD', u'amoun...\n",
       "1   {u'total_price': {u'currency': u'USD', u'amoun...\n",
       "2   {u'total_price': {u'currency': u'USD', u'amoun...\n",
       "3   {u'total_price': {u'currency': u'USD', u'amoun...\n",
       "4   {u'total_price': {u'currency': u'USD', u'amoun...\n",
       "5   {u'total_price': {u'currency': u'USD', u'amoun...\n",
       "6   {u'total_price': {u'currency': u'USD', u'amoun...\n",
       "7   {u'total_price': {u'currency': u'USD', u'amoun...\n",
       "8   {u'total_price': {u'currency': u'USD', u'amoun...\n",
       "9   {u'total_price': {u'currency': u'USD', u'amoun...\n",
       "10  {u'total_price': {u'currency': u'USD', u'amoun...\n",
       "11  {u'total_price': {u'currency': u'USD', u'amoun...\n",
       "12  {u'total_price': {u'currency': u'USD', u'amoun...\n",
       "13  {u'total_price': {u'currency': u'USD', u'amoun...\n",
       "14  {u'total_price': {u'currency': u'USD', u'amoun...\n",
       "15  {u'total_price': {u'currency': u'USD', u'amoun...\n",
       "16  {u'total_price': {u'currency': u'USD', u'amoun...\n",
       "17  {u'total_price': {u'currency': u'USD', u'amoun...\n",
       "18  {u'total_price': {u'currency': u'USD', u'amoun...\n",
       "19  {u'total_price': {u'currency': u'USD', u'amoun..."
      ]
     },
     "execution_count": 20,
     "metadata": {},
     "output_type": "execute_result"
    }
   ],
   "source": [
    "df"
   ]
  },
  {
   "cell_type": "code",
   "execution_count": 19,
   "metadata": {
    "collapsed": false
   },
   "outputs": [
    {
     "data": {
      "text/plain": [
       "results    {u'total_price': {u'currency': u'USD', u'amoun...\n",
       "Name: 0, dtype: object"
      ]
     },
     "execution_count": 19,
     "metadata": {},
     "output_type": "execute_result"
    }
   ],
   "source": [
    "df.ix[0]"
   ]
  },
  {
   "cell_type": "code",
   "execution_count": null,
   "metadata": {
    "collapsed": true
   },
   "outputs": [],
   "source": []
  }
 ],
 "metadata": {
  "kernelspec": {
   "display_name": "Python 2",
   "language": "python",
   "name": "python2"
  },
  "language_info": {
   "codemirror_mode": {
    "name": "ipython",
    "version": 2
   },
   "file_extension": ".py",
   "mimetype": "text/x-python",
   "name": "python",
   "nbconvert_exporter": "python",
   "pygments_lexer": "ipython2",
   "version": "2.7.10"
  }
 },
 "nbformat": 4,
 "nbformat_minor": 0
}
