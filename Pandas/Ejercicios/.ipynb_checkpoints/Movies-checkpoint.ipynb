{
 "cells": [
  {
   "cell_type": "code",
   "execution_count": 1,
   "metadata": {
    "collapsed": true
   },
   "outputs": [],
   "source": [
    "import pandas as pd"
   ]
  },
  {
   "cell_type": "code",
   "execution_count": 2,
   "metadata": {
    "collapsed": true
   },
   "outputs": [],
   "source": [
    "import zipfile"
   ]
  },
  {
   "cell_type": "code",
   "execution_count": 3,
   "metadata": {
    "collapsed": true
   },
   "outputs": [],
   "source": [
    "zip_file = zipfile.ZipFile('/home/dsc/Downloads/ml-1m.zip')"
   ]
  },
  {
   "cell_type": "code",
   "execution_count": 4,
   "metadata": {
    "collapsed": false
   },
   "outputs": [
    {
     "name": "stdout",
     "output_type": "stream",
     "text": [
      "Archive:  /home/dsc/Downloads/ml-1m.zip\r\n",
      "  Length      Date    Time    Name\r\n",
      "---------  ---------- -----   ----\r\n",
      "        0  03-31-2015 23:16   ml-1m/\r\n",
      "   171308  03-26-2003 22:18   ml-1m/movies.dat\r\n",
      " 24594131  02-28-2003 22:53   ml-1m/ratings.dat\r\n",
      "     5197  03-31-2015 23:16   ml-1m/README\r\n",
      "   134368  02-28-2003 22:53   ml-1m/users.dat\r\n",
      "---------                     -------\r\n",
      " 24905004                     5 files\r\n"
     ]
    }
   ],
   "source": [
    "!unzip -l '/home/dsc/Downloads/ml-1m.zip'"
   ]
  },
  {
   "cell_type": "code",
   "execution_count": 5,
   "metadata": {
    "collapsed": false
   },
   "outputs": [],
   "source": [
    "moviescsv = zip_file.open('ml-1m/movies.dat')"
   ]
  },
  {
   "cell_type": "code",
   "execution_count": 6,
   "metadata": {
    "collapsed": false
   },
   "outputs": [],
   "source": [
    "ratingscsv = zip_file.open('ml-1m/ratings.dat')"
   ]
  },
  {
   "cell_type": "code",
   "execution_count": 7,
   "metadata": {
    "collapsed": true
   },
   "outputs": [],
   "source": [
    "userscsv = zip_file.open('ml-1m/users.dat')"
   ]
  },
  {
   "cell_type": "code",
   "execution_count": 8,
   "metadata": {
    "collapsed": true
   },
   "outputs": [],
   "source": [
    "unames=['user_id','gender','age','occupation','zip']"
   ]
  },
  {
   "cell_type": "code",
   "execution_count": 9,
   "metadata": {
    "collapsed": false
   },
   "outputs": [
    {
     "name": "stderr",
     "output_type": "stream",
     "text": [
      "/usr/lib/python2.7/site-packages/ipykernel/__main__.py:1: ParserWarning: Falling back to the 'python' engine because the 'c' engine does not support regex separators; you can avoid this warning by specifying engine='python'.\n",
      "  if __name__ == '__main__':\n"
     ]
    }
   ],
   "source": [
    "users= pd.read_table(userscsv,sep='::',names=unames,header=None)"
   ]
  },
  {
   "cell_type": "code",
   "execution_count": 10,
   "metadata": {
    "collapsed": true
   },
   "outputs": [],
   "source": [
    "rnames=['user_id','movie_id','rating','timestamp']"
   ]
  },
  {
   "cell_type": "code",
   "execution_count": 11,
   "metadata": {
    "collapsed": false
   },
   "outputs": [
    {
     "name": "stderr",
     "output_type": "stream",
     "text": [
      "/usr/lib/python2.7/site-packages/ipykernel/__main__.py:1: ParserWarning: Falling back to the 'python' engine because the 'c' engine does not support regex separators; you can avoid this warning by specifying engine='python'.\n",
      "  if __name__ == '__main__':\n"
     ]
    }
   ],
   "source": [
    "ratings= pd.read_table(ratingscsv,sep='::',names=rnames,header=None)"
   ]
  },
  {
   "cell_type": "code",
   "execution_count": 12,
   "metadata": {
    "collapsed": true
   },
   "outputs": [],
   "source": [
    "mnames=['movie_id','title','genres']"
   ]
  },
  {
   "cell_type": "code",
   "execution_count": 13,
   "metadata": {
    "collapsed": false
   },
   "outputs": [
    {
     "name": "stderr",
     "output_type": "stream",
     "text": [
      "/usr/lib/python2.7/site-packages/ipykernel/__main__.py:1: ParserWarning: Falling back to the 'python' engine because the 'c' engine does not support regex separators; you can avoid this warning by specifying engine='python'.\n",
      "  if __name__ == '__main__':\n"
     ]
    }
   ],
   "source": [
    "movies= pd.read_table('/home/dsc/Downloads/ml-1m/movies.dat', sep='::', header=None, names=mnames)"
   ]
  },
  {
   "cell_type": "code",
   "execution_count": 14,
   "metadata": {
    "collapsed": false
   },
   "outputs": [
    {
     "data": {
      "text/html": [
       "<div>\n",
       "<table border=\"1\" class=\"dataframe\">\n",
       "  <thead>\n",
       "    <tr style=\"text-align: right;\">\n",
       "      <th></th>\n",
       "      <th>movie_id</th>\n",
       "      <th>title</th>\n",
       "      <th>genres</th>\n",
       "    </tr>\n",
       "  </thead>\n",
       "  <tbody>\n",
       "    <tr>\n",
       "      <th>0</th>\n",
       "      <td>1</td>\n",
       "      <td>Toy Story (1995)</td>\n",
       "      <td>Animation|Children's|Comedy</td>\n",
       "    </tr>\n",
       "    <tr>\n",
       "      <th>1</th>\n",
       "      <td>2</td>\n",
       "      <td>Jumanji (1995)</td>\n",
       "      <td>Adventure|Children's|Fantasy</td>\n",
       "    </tr>\n",
       "    <tr>\n",
       "      <th>2</th>\n",
       "      <td>3</td>\n",
       "      <td>Grumpier Old Men (1995)</td>\n",
       "      <td>Comedy|Romance</td>\n",
       "    </tr>\n",
       "    <tr>\n",
       "      <th>3</th>\n",
       "      <td>4</td>\n",
       "      <td>Waiting to Exhale (1995)</td>\n",
       "      <td>Comedy|Drama</td>\n",
       "    </tr>\n",
       "    <tr>\n",
       "      <th>4</th>\n",
       "      <td>5</td>\n",
       "      <td>Father of the Bride Part II (1995)</td>\n",
       "      <td>Comedy</td>\n",
       "    </tr>\n",
       "  </tbody>\n",
       "</table>\n",
       "</div>"
      ],
      "text/plain": [
       "   movie_id                               title                        genres\n",
       "0         1                    Toy Story (1995)   Animation|Children's|Comedy\n",
       "1         2                      Jumanji (1995)  Adventure|Children's|Fantasy\n",
       "2         3             Grumpier Old Men (1995)                Comedy|Romance\n",
       "3         4            Waiting to Exhale (1995)                  Comedy|Drama\n",
       "4         5  Father of the Bride Part II (1995)                        Comedy"
      ]
     },
     "execution_count": 14,
     "metadata": {},
     "output_type": "execute_result"
    }
   ],
   "source": [
    "movies.head()"
   ]
  },
  {
   "cell_type": "code",
   "execution_count": 15,
   "metadata": {
    "collapsed": false
   },
   "outputs": [],
   "source": [
    "data = pd.merge(pd.merge(ratings,users),movies)"
   ]
  },
  {
   "cell_type": "code",
   "execution_count": 16,
   "metadata": {
    "collapsed": false
   },
   "outputs": [
    {
     "data": {
      "text/plain": [
       "user_id                                            1\n",
       "movie_id                                        1193\n",
       "rating                                             5\n",
       "timestamp                                  978300760\n",
       "gender                                             F\n",
       "age                                                1\n",
       "occupation                                        10\n",
       "zip                                            48067\n",
       "title         One Flew Over the Cuckoo's Nest (1975)\n",
       "genres                                         Drama\n",
       "Name: 0, dtype: object"
      ]
     },
     "execution_count": 16,
     "metadata": {},
     "output_type": "execute_result"
    }
   ],
   "source": [
    "data.ix[0]"
   ]
  },
  {
   "cell_type": "code",
   "execution_count": 17,
   "metadata": {
    "collapsed": false
   },
   "outputs": [
    {
     "data": {
      "text/html": [
       "<div>\n",
       "<table border=\"1\" class=\"dataframe\">\n",
       "  <thead>\n",
       "    <tr style=\"text-align: right;\">\n",
       "      <th></th>\n",
       "      <th>user_id</th>\n",
       "      <th>movie_id</th>\n",
       "      <th>rating</th>\n",
       "      <th>timestamp</th>\n",
       "      <th>gender</th>\n",
       "      <th>age</th>\n",
       "      <th>occupation</th>\n",
       "      <th>zip</th>\n",
       "      <th>title</th>\n",
       "      <th>genres</th>\n",
       "    </tr>\n",
       "  </thead>\n",
       "  <tbody>\n",
       "    <tr>\n",
       "      <th>0</th>\n",
       "      <td>1</td>\n",
       "      <td>1193</td>\n",
       "      <td>5</td>\n",
       "      <td>978300760</td>\n",
       "      <td>F</td>\n",
       "      <td>1</td>\n",
       "      <td>10</td>\n",
       "      <td>48067</td>\n",
       "      <td>One Flew Over the Cuckoo's Nest (1975)</td>\n",
       "      <td>Drama</td>\n",
       "    </tr>\n",
       "  </tbody>\n",
       "</table>\n",
       "</div>"
      ],
      "text/plain": [
       "   user_id  movie_id  rating  timestamp gender  age  occupation    zip  \\\n",
       "0        1      1193       5  978300760      F    1          10  48067   \n",
       "\n",
       "                                    title genres  \n",
       "0  One Flew Over the Cuckoo's Nest (1975)  Drama  "
      ]
     },
     "execution_count": 17,
     "metadata": {},
     "output_type": "execute_result"
    }
   ],
   "source": [
    "data.head(1)"
   ]
  },
  {
   "cell_type": "code",
   "execution_count": 18,
   "metadata": {
    "collapsed": false
   },
   "outputs": [],
   "source": [
    "ratings_by_title = data.groupby('title').size()"
   ]
  },
  {
   "cell_type": "code",
   "execution_count": 19,
   "metadata": {
    "collapsed": false
   },
   "outputs": [
    {
     "data": {
      "text/plain": [
       "title\n",
       "$1,000,000 Duck (1971)                37\n",
       "'Night Mother (1986)                  70\n",
       "'Til There Was You (1997)             52\n",
       "'burbs, The (1989)                   303\n",
       "...And Justice for All (1979)        199\n",
       "1-900 (1994)                           2\n",
       "10 Things I Hate About You (1999)    700\n",
       "101 Dalmatians (1961)                565\n",
       "101 Dalmatians (1996)                364\n",
       "12 Angry Men (1957)                  616\n",
       "dtype: int64"
      ]
     },
     "execution_count": 19,
     "metadata": {},
     "output_type": "execute_result"
    }
   ],
   "source": [
    "ratings_by_title[:10]"
   ]
  },
  {
   "cell_type": "code",
   "execution_count": 20,
   "metadata": {
    "collapsed": true
   },
   "outputs": [],
   "source": [
    "active_titles = ratings_by_title.index[ratings_by_title>=250]"
   ]
  },
  {
   "cell_type": "code",
   "execution_count": 21,
   "metadata": {
    "collapsed": false
   },
   "outputs": [
    {
     "data": {
      "text/plain": [
       "Index([u''burbs, The (1989)', u'10 Things I Hate About You (1999)',\n",
       "       u'101 Dalmatians (1961)', u'101 Dalmatians (1996)',\n",
       "       u'12 Angry Men (1957)', u'13th Warrior, The (1999)',\n",
       "       u'2 Days in the Valley (1996)', u'20,000 Leagues Under the Sea (1954)',\n",
       "       u'2001: A Space Odyssey (1968)', u'2010 (1984)',\n",
       "       ...\n",
       "       u'X-Men (2000)', u'Year of Living Dangerously (1982)',\n",
       "       u'Yellow Submarine (1968)', u'You've Got Mail (1998)',\n",
       "       u'Young Frankenstein (1974)', u'Young Guns (1988)',\n",
       "       u'Young Guns II (1990)', u'Young Sherlock Holmes (1985)',\n",
       "       u'Zero Effect (1998)', u'eXistenZ (1999)'],\n",
       "      dtype='object', name=u'title', length=1216)"
      ]
     },
     "execution_count": 21,
     "metadata": {},
     "output_type": "execute_result"
    }
   ],
   "source": [
    "active_titles"
   ]
  },
  {
   "cell_type": "code",
   "execution_count": 34,
   "metadata": {
    "collapsed": false,
    "scrolled": true
   },
   "outputs": [
    {
     "data": {
      "text/plain": [
       "title\n",
       "American Beauty (1999)                                                   14800\n",
       "Star Wars: Episode IV - A New Hope (1977)                                13321\n",
       "Star Wars: Episode V - The Empire Strikes Back (1980)                    12836\n",
       "Star Wars: Episode VI - Return of the Jedi (1983)                        11598\n",
       "Saving Private Ryan (1998)                                               11507\n",
       "Raiders of the Lost Ark (1981)                                           11257\n",
       "Silence of the Lambs, The (1991)                                         11219\n",
       "Matrix, The (1999)                                                       11178\n",
       "Sixth Sense, The (1999)                                                  10835\n",
       "Terminator 2: Judgment Day (1991)                                        10751\n",
       "Fargo (1996)                                                             10692\n",
       "Schindler's List (1993)                                                  10392\n",
       "Braveheart (1995)                                                        10346\n",
       "Back to the Future (1985)                                                10307\n",
       "Shawshank Redemption, The (1994)                                         10143\n",
       "Godfather, The (1972)                                                    10059\n",
       "Jurassic Park (1993)                                                     10057\n",
       "Princess Bride, The (1987)                                                9976\n",
       "Shakespeare in Love (1998)                                                9778\n",
       "L.A. Confidential (1997)                                                  9654\n",
       "Men in Black (1997)                                                       9492\n",
       "Pulp Fiction (1994)                                                       9288\n",
       "Being John Malkovich (1999)                                               9245\n",
       "Groundhog Day (1993)                                                      9005\n",
       "E.T. the Extra-Terrestrial (1982)                                         8997\n",
       "Forrest Gump (1994)                                                       8969\n",
       "Terminator, The (1984)                                                    8711\n",
       "Toy Story (1995)                                                          8613\n",
       "Ghostbusters (1984)                                                       8518\n",
       "Alien (1979)                                                              8419\n",
       "                                                                         ...  \n",
       "Choices (1981)                                                               2\n",
       "Lay of the Land, The (1997)                                                  2\n",
       "Superweib, Das (1996)                                                        2\n",
       "Small Faces (1995)                                                           2\n",
       "Love Walked In (1998)                                                        2\n",
       "Harlem (1993)                                                                2\n",
       "Cheetah (1989)                                                               1\n",
       "Nueba Yol (1995)                                                             1\n",
       "Mutters Courage (1995)                                                       1\n",
       "Underworld (1997)                                                            1\n",
       "Terror in a Texas Town (1958)                                                1\n",
       "Fantastic Night, The (La Nuit Fantastique) (1949)                            1\n",
       "McCullochs, The (1975)                                                       1\n",
       "Windows (1980)                                                               1\n",
       "Little Indian, Big City (Un indien dans la ville) (1994)                     1\n",
       "White Boys (1999)                                                            1\n",
       "Shadows (Cienie) (1988)                                                      1\n",
       "Kestrel's Eye (Falkens �ga) (1998)                                           1\n",
       "Loves of Carmen, The (1948)                                                  1\n",
       "Low Life, The (1994)                                                         1\n",
       "Lotto Land (1995)                                                            1\n",
       "Even Dwarfs Started Small (Auch Zwerge haben klein angefangen) (1971)        1\n",
       "Hillbillys in a Haunted House (1967)                                         1\n",
       "Silence of the Palace, The (Saimt el Qusur) (1994)                           1\n",
       "Uninvited Guest, An (2000)                                                   1\n",
       "Bloody Child, The (1996)                                                     1\n",
       "Diebinnen (1995)                                                             1\n",
       "Waltzes from Vienna (1933)                                                   1\n",
       "Elstree Calling (1930)                                                       1\n",
       "Sleepover (1995)                                                             1\n",
       "Name: rating, dtype: int64"
      ]
     },
     "execution_count": 34,
     "metadata": {},
     "output_type": "execute_result"
    }
   ],
   "source": [
    "data.groupby('title')['rating'].sum().sort_values(inplace=False, ascending=False)"
   ]
  },
  {
   "cell_type": "code",
   "execution_count": 41,
   "metadata": {
    "collapsed": false,
    "scrolled": true
   },
   "outputs": [],
   "source": [
    "mean_ratings = data.pivot_table(index=['title'],values='rating',columns='gender',aggfunc='mean')"
   ]
  },
  {
   "cell_type": "code",
   "execution_count": 42,
   "metadata": {
    "collapsed": true
   },
   "outputs": [],
   "source": [
    "mean_ratings = mean_ratings.ix[active_titles]"
   ]
  },
  {
   "cell_type": "code",
   "execution_count": 46,
   "metadata": {
    "collapsed": false
   },
   "outputs": [],
   "source": [
    "top_female_ratings = mean_ratings.sort_values(by='F',inplace=False, ascending=False)"
   ]
  },
  {
   "cell_type": "code",
   "execution_count": 47,
   "metadata": {
    "collapsed": false
   },
   "outputs": [
    {
     "data": {
      "text/html": [
       "<div>\n",
       "<table border=\"1\" class=\"dataframe\">\n",
       "  <thead>\n",
       "    <tr style=\"text-align: right;\">\n",
       "      <th>gender</th>\n",
       "      <th>F</th>\n",
       "      <th>M</th>\n",
       "    </tr>\n",
       "    <tr>\n",
       "      <th>title</th>\n",
       "      <th></th>\n",
       "      <th></th>\n",
       "    </tr>\n",
       "  </thead>\n",
       "  <tbody>\n",
       "    <tr>\n",
       "      <th>Close Shave, A (1995)</th>\n",
       "      <td>4.644444</td>\n",
       "      <td>4.473795</td>\n",
       "    </tr>\n",
       "    <tr>\n",
       "      <th>Wrong Trousers, The (1993)</th>\n",
       "      <td>4.588235</td>\n",
       "      <td>4.478261</td>\n",
       "    </tr>\n",
       "    <tr>\n",
       "      <th>Sunset Blvd. (a.k.a. Sunset Boulevard) (1950)</th>\n",
       "      <td>4.572650</td>\n",
       "      <td>4.464589</td>\n",
       "    </tr>\n",
       "    <tr>\n",
       "      <th>Wallace &amp; Gromit: The Best of Aardman Animation (1996)</th>\n",
       "      <td>4.563107</td>\n",
       "      <td>4.385075</td>\n",
       "    </tr>\n",
       "    <tr>\n",
       "      <th>Schindler's List (1993)</th>\n",
       "      <td>4.562602</td>\n",
       "      <td>4.491415</td>\n",
       "    </tr>\n",
       "  </tbody>\n",
       "</table>\n",
       "</div>"
      ],
      "text/plain": [
       "gender                                                     F         M\n",
       "title                                                                 \n",
       "Close Shave, A (1995)                               4.644444  4.473795\n",
       "Wrong Trousers, The (1993)                          4.588235  4.478261\n",
       "Sunset Blvd. (a.k.a. Sunset Boulevard) (1950)       4.572650  4.464589\n",
       "Wallace & Gromit: The Best of Aardman Animation...  4.563107  4.385075\n",
       "Schindler's List (1993)                             4.562602  4.491415"
      ]
     },
     "execution_count": 47,
     "metadata": {},
     "output_type": "execute_result"
    }
   ],
   "source": [
    "top_female_ratings.head()"
   ]
  },
  {
   "cell_type": "code",
   "execution_count": 48,
   "metadata": {
    "collapsed": true
   },
   "outputs": [],
   "source": [
    "mean_ratings['diff']=mean_ratings['M']-mean_ratings['F']"
   ]
  },
  {
   "cell_type": "code",
   "execution_count": 51,
   "metadata": {
    "collapsed": true
   },
   "outputs": [],
   "source": [
    "sorted_by_diff = mean_ratings.sort_values(by='diff',inplace=False)"
   ]
  },
  {
   "cell_type": "code",
   "execution_count": 53,
   "metadata": {
    "collapsed": false
   },
   "outputs": [
    {
     "data": {
      "text/html": [
       "<div>\n",
       "<table border=\"1\" class=\"dataframe\">\n",
       "  <thead>\n",
       "    <tr style=\"text-align: right;\">\n",
       "      <th>gender</th>\n",
       "      <th>F</th>\n",
       "      <th>M</th>\n",
       "      <th>diff</th>\n",
       "    </tr>\n",
       "    <tr>\n",
       "      <th>title</th>\n",
       "      <th></th>\n",
       "      <th></th>\n",
       "      <th></th>\n",
       "    </tr>\n",
       "  </thead>\n",
       "  <tbody>\n",
       "    <tr>\n",
       "      <th>Dirty Dancing (1987)</th>\n",
       "      <td>3.790378</td>\n",
       "      <td>2.959596</td>\n",
       "      <td>-0.830782</td>\n",
       "    </tr>\n",
       "    <tr>\n",
       "      <th>Jumpin' Jack Flash (1986)</th>\n",
       "      <td>3.254717</td>\n",
       "      <td>2.578358</td>\n",
       "      <td>-0.676359</td>\n",
       "    </tr>\n",
       "    <tr>\n",
       "      <th>Grease (1978)</th>\n",
       "      <td>3.975265</td>\n",
       "      <td>3.367041</td>\n",
       "      <td>-0.608224</td>\n",
       "    </tr>\n",
       "    <tr>\n",
       "      <th>Little Women (1994)</th>\n",
       "      <td>3.870588</td>\n",
       "      <td>3.321739</td>\n",
       "      <td>-0.548849</td>\n",
       "    </tr>\n",
       "    <tr>\n",
       "      <th>Steel Magnolias (1989)</th>\n",
       "      <td>3.901734</td>\n",
       "      <td>3.365957</td>\n",
       "      <td>-0.535777</td>\n",
       "    </tr>\n",
       "    <tr>\n",
       "      <th>Anastasia (1997)</th>\n",
       "      <td>3.800000</td>\n",
       "      <td>3.281609</td>\n",
       "      <td>-0.518391</td>\n",
       "    </tr>\n",
       "    <tr>\n",
       "      <th>Rocky Horror Picture Show, The (1975)</th>\n",
       "      <td>3.673016</td>\n",
       "      <td>3.160131</td>\n",
       "      <td>-0.512885</td>\n",
       "    </tr>\n",
       "    <tr>\n",
       "      <th>Color Purple, The (1985)</th>\n",
       "      <td>4.158192</td>\n",
       "      <td>3.659341</td>\n",
       "      <td>-0.498851</td>\n",
       "    </tr>\n",
       "    <tr>\n",
       "      <th>Age of Innocence, The (1993)</th>\n",
       "      <td>3.827068</td>\n",
       "      <td>3.339506</td>\n",
       "      <td>-0.487561</td>\n",
       "    </tr>\n",
       "    <tr>\n",
       "      <th>Free Willy (1993)</th>\n",
       "      <td>2.921348</td>\n",
       "      <td>2.438776</td>\n",
       "      <td>-0.482573</td>\n",
       "    </tr>\n",
       "  </tbody>\n",
       "</table>\n",
       "</div>"
      ],
      "text/plain": [
       "gender                                        F         M      diff\n",
       "title                                                              \n",
       "Dirty Dancing (1987)                   3.790378  2.959596 -0.830782\n",
       "Jumpin' Jack Flash (1986)              3.254717  2.578358 -0.676359\n",
       "Grease (1978)                          3.975265  3.367041 -0.608224\n",
       "Little Women (1994)                    3.870588  3.321739 -0.548849\n",
       "Steel Magnolias (1989)                 3.901734  3.365957 -0.535777\n",
       "Anastasia (1997)                       3.800000  3.281609 -0.518391\n",
       "Rocky Horror Picture Show, The (1975)  3.673016  3.160131 -0.512885\n",
       "Color Purple, The (1985)               4.158192  3.659341 -0.498851\n",
       "Age of Innocence, The (1993)           3.827068  3.339506 -0.487561\n",
       "Free Willy (1993)                      2.921348  2.438776 -0.482573"
      ]
     },
     "execution_count": 53,
     "metadata": {},
     "output_type": "execute_result"
    }
   ],
   "source": [
    "sorted_by_diff.head(10)"
   ]
  },
  {
   "cell_type": "code",
   "execution_count": 57,
   "metadata": {
    "collapsed": false
   },
   "outputs": [
    {
     "data": {
      "text/html": [
       "<div>\n",
       "<table border=\"1\" class=\"dataframe\">\n",
       "  <thead>\n",
       "    <tr style=\"text-align: right;\">\n",
       "      <th>gender</th>\n",
       "      <th>F</th>\n",
       "      <th>M</th>\n",
       "      <th>diff</th>\n",
       "    </tr>\n",
       "    <tr>\n",
       "      <th>title</th>\n",
       "      <th></th>\n",
       "      <th></th>\n",
       "      <th></th>\n",
       "    </tr>\n",
       "  </thead>\n",
       "  <tbody>\n",
       "    <tr>\n",
       "      <th>Good, The Bad and The Ugly, The (1966)</th>\n",
       "      <td>3.494949</td>\n",
       "      <td>4.221300</td>\n",
       "      <td>0.726351</td>\n",
       "    </tr>\n",
       "    <tr>\n",
       "      <th>Kentucky Fried Movie, The (1977)</th>\n",
       "      <td>2.878788</td>\n",
       "      <td>3.555147</td>\n",
       "      <td>0.676359</td>\n",
       "    </tr>\n",
       "    <tr>\n",
       "      <th>Dumb &amp; Dumber (1994)</th>\n",
       "      <td>2.697987</td>\n",
       "      <td>3.336595</td>\n",
       "      <td>0.638608</td>\n",
       "    </tr>\n",
       "    <tr>\n",
       "      <th>Longest Day, The (1962)</th>\n",
       "      <td>3.411765</td>\n",
       "      <td>4.031447</td>\n",
       "      <td>0.619682</td>\n",
       "    </tr>\n",
       "    <tr>\n",
       "      <th>Cable Guy, The (1996)</th>\n",
       "      <td>2.250000</td>\n",
       "      <td>2.863787</td>\n",
       "      <td>0.613787</td>\n",
       "    </tr>\n",
       "    <tr>\n",
       "      <th>Evil Dead II (Dead By Dawn) (1987)</th>\n",
       "      <td>3.297297</td>\n",
       "      <td>3.909283</td>\n",
       "      <td>0.611985</td>\n",
       "    </tr>\n",
       "    <tr>\n",
       "      <th>Hidden, The (1987)</th>\n",
       "      <td>3.137931</td>\n",
       "      <td>3.745098</td>\n",
       "      <td>0.607167</td>\n",
       "    </tr>\n",
       "    <tr>\n",
       "      <th>Rocky III (1982)</th>\n",
       "      <td>2.361702</td>\n",
       "      <td>2.943503</td>\n",
       "      <td>0.581801</td>\n",
       "    </tr>\n",
       "    <tr>\n",
       "      <th>Caddyshack (1980)</th>\n",
       "      <td>3.396135</td>\n",
       "      <td>3.969737</td>\n",
       "      <td>0.573602</td>\n",
       "    </tr>\n",
       "    <tr>\n",
       "      <th>For a Few Dollars More (1965)</th>\n",
       "      <td>3.409091</td>\n",
       "      <td>3.953795</td>\n",
       "      <td>0.544704</td>\n",
       "    </tr>\n",
       "    <tr>\n",
       "      <th>Porky's (1981)</th>\n",
       "      <td>2.296875</td>\n",
       "      <td>2.836364</td>\n",
       "      <td>0.539489</td>\n",
       "    </tr>\n",
       "    <tr>\n",
       "      <th>Animal House (1978)</th>\n",
       "      <td>3.628906</td>\n",
       "      <td>4.167192</td>\n",
       "      <td>0.538286</td>\n",
       "    </tr>\n",
       "    <tr>\n",
       "      <th>Exorcist, The (1973)</th>\n",
       "      <td>3.537634</td>\n",
       "      <td>4.067239</td>\n",
       "      <td>0.529605</td>\n",
       "    </tr>\n",
       "    <tr>\n",
       "      <th>Fright Night (1985)</th>\n",
       "      <td>2.973684</td>\n",
       "      <td>3.500000</td>\n",
       "      <td>0.526316</td>\n",
       "    </tr>\n",
       "    <tr>\n",
       "      <th>Barb Wire (1996)</th>\n",
       "      <td>1.585366</td>\n",
       "      <td>2.100386</td>\n",
       "      <td>0.515020</td>\n",
       "    </tr>\n",
       "  </tbody>\n",
       "</table>\n",
       "</div>"
      ],
      "text/plain": [
       "gender                                         F         M      diff\n",
       "title                                                               \n",
       "Good, The Bad and The Ugly, The (1966)  3.494949  4.221300  0.726351\n",
       "Kentucky Fried Movie, The (1977)        2.878788  3.555147  0.676359\n",
       "Dumb & Dumber (1994)                    2.697987  3.336595  0.638608\n",
       "Longest Day, The (1962)                 3.411765  4.031447  0.619682\n",
       "Cable Guy, The (1996)                   2.250000  2.863787  0.613787\n",
       "Evil Dead II (Dead By Dawn) (1987)      3.297297  3.909283  0.611985\n",
       "Hidden, The (1987)                      3.137931  3.745098  0.607167\n",
       "Rocky III (1982)                        2.361702  2.943503  0.581801\n",
       "Caddyshack (1980)                       3.396135  3.969737  0.573602\n",
       "For a Few Dollars More (1965)           3.409091  3.953795  0.544704\n",
       "Porky's (1981)                          2.296875  2.836364  0.539489\n",
       "Animal House (1978)                     3.628906  4.167192  0.538286\n",
       "Exorcist, The (1973)                    3.537634  4.067239  0.529605\n",
       "Fright Night (1985)                     2.973684  3.500000  0.526316\n",
       "Barb Wire (1996)                        1.585366  2.100386  0.515020"
      ]
     },
     "execution_count": 57,
     "metadata": {},
     "output_type": "execute_result"
    }
   ],
   "source": [
    "sorted_by_diff[::-1][:15]"
   ]
  },
  {
   "cell_type": "code",
   "execution_count": null,
   "metadata": {
    "collapsed": true
   },
   "outputs": [],
   "source": []
  }
 ],
 "metadata": {
  "kernelspec": {
   "display_name": "Python 2",
   "language": "python",
   "name": "python2"
  },
  "language_info": {
   "codemirror_mode": {
    "name": "ipython",
    "version": 2
   },
   "file_extension": ".py",
   "mimetype": "text/x-python",
   "name": "python",
   "nbconvert_exporter": "python",
   "pygments_lexer": "ipython2",
   "version": "2.7.10"
  }
 },
 "nbformat": 4,
 "nbformat_minor": 0
}
