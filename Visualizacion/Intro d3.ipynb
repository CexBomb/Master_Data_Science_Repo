{
 "cells": [
  {
   "cell_type": "code",
   "execution_count": null,
   "metadata": {
    "collapsed": true
   },
   "outputs": [],
   "source": [
    "##Escribe ficheros"
   ]
  },
  {
   "cell_type": "code",
   "execution_count": 1,
   "metadata": {
    "collapsed": false
   },
   "outputs": [
    {
     "name": "stdout",
     "output_type": "stream",
     "text": [
      "Writing test.xml\n"
     ]
    }
   ],
   "source": [
    "%%writefile webPages/test.xml\n",
    "<padre profesion=\"sith\">\n",
    "    <luke>\n",
    "        hola\n",
    "    </luke>\n",
    "</padre>"
   ]
  },
  {
   "cell_type": "code",
   "execution_count": 2,
   "metadata": {
    "collapsed": false
   },
   "outputs": [
    {
     "name": "stdout",
     "output_type": "stream",
     "text": [
      "Writing webPages/basic.html\n"
     ]
    }
   ],
   "source": [
    "%%writefile webPages/basic.html\n",
    "<html>\n",
    "    <head></head>\n",
    "    <body>\n",
    "        <button>Pulsame !!!</button>\n",
    "    </body>\n",
    "</html>"
   ]
  },
  {
   "cell_type": "code",
   "execution_count": 3,
   "metadata": {
    "collapsed": true
   },
   "outputs": [],
   "source": [
    "from IPython.display import IFrame"
   ]
  },
  {
   "cell_type": "code",
   "execution_count": 4,
   "metadata": {
    "collapsed": false
   },
   "outputs": [
    {
     "data": {
      "text/html": [
       "\n",
       "        <iframe\n",
       "            width=\"400\"\n",
       "            height=\"400\"\n",
       "            src=\"webPages/basic.html\"\n",
       "            frameborder=\"0\"\n",
       "            allowfullscreen\n",
       "        ></iframe>\n",
       "        "
      ],
      "text/plain": [
       "<IPython.lib.display.IFrame at 0x7fcce8ad3c50>"
      ]
     },
     "execution_count": 4,
     "metadata": {},
     "output_type": "execute_result"
    }
   ],
   "source": [
    "IFrame(\"webPages/basic.html\",400,400)"
   ]
  },
  {
   "cell_type": "code",
   "execution_count": 56,
   "metadata": {
    "collapsed": false
   },
   "outputs": [
    {
     "name": "stdout",
     "output_type": "stream",
     "text": [
      "Overwriting webPages/drawing.html\n"
     ]
    }
   ],
   "source": [
    "%%writefile webPages/drawing.html\n",
    "<html>\n",
    "    <head></head>\n",
    "    <body>\n",
    "        <svg width=\"400\" height=\"400\">\n",
    "            <rect x=20 y= 20 width=50 height=60 style=\"fill:red;stroke:black;stroke-width:10\"></rect>\n",
    "            <circle cx=30 cy=100 r=5 style=\"fill:blue\"></circle>\n",
    "        </svg>\n",
    "    </body>\n",
    "</html>"
   ]
  },
  {
   "cell_type": "code",
   "execution_count": 57,
   "metadata": {
    "collapsed": false
   },
   "outputs": [
    {
     "data": {
      "text/html": [
       "\n",
       "        <iframe\n",
       "            width=\"400\"\n",
       "            height=\"400\"\n",
       "            src=\"webPages/drawing.html\"\n",
       "            frameborder=\"0\"\n",
       "            allowfullscreen\n",
       "        ></iframe>\n",
       "        "
      ],
      "text/plain": [
       "<IPython.lib.display.IFrame at 0x7fcce808c090>"
      ]
     },
     "execution_count": 57,
     "metadata": {},
     "output_type": "execute_result"
    }
   ],
   "source": [
    "IFrame(\"webPages/drawing.html\",400,400)"
   ]
  },
  {
   "cell_type": "code",
   "execution_count": 74,
   "metadata": {
    "collapsed": false
   },
   "outputs": [
    {
     "name": "stdout",
     "output_type": "stream",
     "text": [
      "Overwriting webPages/drawingwithstyle.html\n"
     ]
    }
   ],
   "source": [
    "%%writefile webPages/drawingwithstyle.html\n",
    "<html>\n",
    "    <head></head>\n",
    "    <body>\n",
    "    <style>\n",
    "        #rojo {\n",
    "                fill:red;\n",
    "                stroke:black;\n",
    "                stroke-width:10\n",
    "        }\n",
    "        circle {\n",
    "                fill:green\n",
    "        } \n",
    "        .azul {\n",
    "                fill:blue\n",
    "        }\n",
    "    </style>\n",
    "        <svg width=\"400\" height=\"400\">\n",
    "            <rect id=\"rojo\" x=20 y= 20 width=50 height=60></rect>\n",
    "            <rect x=90 y= 20 width=50 height=60></rect>           \n",
    "            <circle cx=30 cy=100 r=5></circle>\n",
    "            <circle class = \"azul\" cx=50 cy=100 r=5></circle>\n",
    "            <circle class = \"azul\" cx=70 cy=100 r=5></circle>\n",
    "        </svg>\n",
    "    </body>\n",
    "</html>"
   ]
  },
  {
   "cell_type": "code",
   "execution_count": 75,
   "metadata": {
    "collapsed": false
   },
   "outputs": [
    {
     "data": {
      "text/html": [
       "\n",
       "        <iframe\n",
       "            width=\"400\"\n",
       "            height=\"400\"\n",
       "            src=\"webPages/drawingwithstyle.html\"\n",
       "            frameborder=\"0\"\n",
       "            allowfullscreen\n",
       "        ></iframe>\n",
       "        "
      ],
      "text/plain": [
       "<IPython.lib.display.IFrame at 0x7fcce808c490>"
      ]
     },
     "execution_count": 75,
     "metadata": {},
     "output_type": "execute_result"
    }
   ],
   "source": [
    "IFrame(\"webPages/drawingwithstyle.html\",400,400)"
   ]
  },
  {
   "cell_type": "code",
   "execution_count": 91,
   "metadata": {
    "collapsed": false
   },
   "outputs": [
    {
     "name": "stdout",
     "output_type": "stream",
     "text": [
      "Overwriting webPages/drawingwithjs.html\n"
     ]
    }
   ],
   "source": [
    "%%writefile webPages/drawingwithjs.html\n",
    "<html>\n",
    "    <head></head>\n",
    "    <body>\n",
    "        <button id=\"go\">Go</button>\n",
    "        <script src=\"https://code.jquery.com/jquery-2.2.3.min.js\"></script>\n",
    "        <script>\n",
    "            /*var elem = document.getElementById(\"go\");\n",
    "            elem.style.color = \"red\"\n",
    "            elem.onclick = function(){\n",
    "                alert(\"blue\")\n",
    "            }*/\n",
    "            $(\"#go\").css(\"color\",\"blue\")\n",
    "            $(\"#go\").click(function(){\n",
    "                    alert(\"blue\")\n",
    "                })\n",
    "        </script>\n",
    "    </body>\n",
    "</html>"
   ]
  },
  {
   "cell_type": "code",
   "execution_count": 92,
   "metadata": {
    "collapsed": false
   },
   "outputs": [
    {
     "data": {
      "text/html": [
       "\n",
       "        <iframe\n",
       "            width=\"400\"\n",
       "            height=\"400\"\n",
       "            src=\"webPages/drawingwithjs.html\"\n",
       "            frameborder=\"0\"\n",
       "            allowfullscreen\n",
       "        ></iframe>\n",
       "        "
      ],
      "text/plain": [
       "<IPython.lib.display.IFrame at 0x7fcce801f450>"
      ]
     },
     "execution_count": 92,
     "metadata": {},
     "output_type": "execute_result"
    }
   ],
   "source": [
    "IFrame(\"webPages/drawingwithjs.html\",400,400)"
   ]
  },
  {
   "cell_type": "code",
   "execution_count": 112,
   "metadata": {
    "collapsed": false
   },
   "outputs": [
    {
     "name": "stdout",
     "output_type": "stream",
     "text": [
      "Overwriting webPages/basicwithd3.html\n"
     ]
    }
   ],
   "source": [
    "%%writefile webPages/basicwithd3.html\n",
    "<html>\n",
    "    <head></head>\n",
    "    <body>\n",
    "        <style>\n",
    "            .bar {\n",
    "                background-color:blue;\n",
    "            }\n",
    "        </style>\n",
    "        <script src=\"https://cdnjs.cloudflare.com/ajax/libs/d3/3.5.16/d3.min.js\"></script>\n",
    "        <script>\n",
    "            var list = [4,8,15,16,23,42];\n",
    "            \n",
    "            var body = d3.select(\"body\")\n",
    "                        .style(\"background-color\",\"black\")\n",
    "            \n",
    "            /*var container = body.append(\"div\")\n",
    "                        .style(\"background-color\",\"blue\")\n",
    "                        .style(\"width\",100)\n",
    "                        .style(\"height\",200)*/\n",
    "            \n",
    "            list.forEach(function(v,i,a){\n",
    "                body.append(\"div\")\n",
    "                        .style(\"background-color\",\"blue\")\n",
    "                        .style(\"width\",v)\n",
    "                        .style(\"height\",20)\n",
    "            })\n",
    "        </script>\n",
    "    </body>\n",
    "</html>"
   ]
  },
  {
   "cell_type": "code",
   "execution_count": 113,
   "metadata": {
    "collapsed": false
   },
   "outputs": [
    {
     "data": {
      "text/html": [
       "\n",
       "        <iframe\n",
       "            width=\"400\"\n",
       "            height=\"400\"\n",
       "            src=\"webPages/basicwithd3.html\"\n",
       "            frameborder=\"0\"\n",
       "            allowfullscreen\n",
       "        ></iframe>\n",
       "        "
      ],
      "text/plain": [
       "<IPython.lib.display.IFrame at 0x7fcce801f310>"
      ]
     },
     "execution_count": 113,
     "metadata": {},
     "output_type": "execute_result"
    }
   ],
   "source": [
    "IFrame(\"webPages/basicwithd3.html\",400,400)"
   ]
  },
  {
   "cell_type": "code",
   "execution_count": 142,
   "metadata": {
    "collapsed": false
   },
   "outputs": [
    {
     "name": "stdout",
     "output_type": "stream",
     "text": [
      "Overwriting webPages/basic2withd3.html\n"
     ]
    }
   ],
   "source": [
    "%%writefile webPages/basic2withd3.html\n",
    "<html>\n",
    "    <head></head>\n",
    "    <body>\n",
    "        <style>\n",
    "            .bar {\n",
    "                background-color:blue;\n",
    "                color:white;\n",
    "            }\n",
    "        </style>\n",
    "        \n",
    "        <script src=\"https://cdnjs.cloudflare.com/ajax/libs/d3/3.5.16/d3.min.js\"></script>\n",
    "        <script>\n",
    "            var list = [4,8,15,16,23,42];\n",
    "            \n",
    "            var body = d3.select(\"body\")\n",
    "                        .style(\"background-color\",\"black\")\n",
    "            \n",
    "            var d3join = d3.select(\"body\").selectAll(\".bar\").data(list)\n",
    "            \n",
    "            d3join.enter()\n",
    "                .append(\"div\")\n",
    "                .attr(\"class\",\"bar\")\n",
    "                .style(\"width\",function(d){ return 6*d })\n",
    "                .style(\"height\",20)\n",
    "                .text(function(d){return d})\n",
    "            \n",
    "            d3join.exit()\n",
    "                .remove()\n",
    "\n",
    "        </script>\n",
    "    </body>\n",
    "</html>"
   ]
  },
  {
   "cell_type": "code",
   "execution_count": 143,
   "metadata": {
    "collapsed": false
   },
   "outputs": [
    {
     "data": {
      "text/html": [
       "\n",
       "        <iframe\n",
       "            width=\"400\"\n",
       "            height=\"400\"\n",
       "            src=\"webPages/basic2withd3.html\"\n",
       "            frameborder=\"0\"\n",
       "            allowfullscreen\n",
       "        ></iframe>\n",
       "        "
      ],
      "text/plain": [
       "<IPython.lib.display.IFrame at 0x7fcce80301d0>"
      ]
     },
     "execution_count": 143,
     "metadata": {},
     "output_type": "execute_result"
    }
   ],
   "source": [
    "IFrame(\"webPages/basic2withd3.html\",400,400)"
   ]
  },
  {
   "cell_type": "code",
   "execution_count": 185,
   "metadata": {
    "collapsed": false
   },
   "outputs": [
    {
     "name": "stdout",
     "output_type": "stream",
     "text": [
      "Overwriting webPages/basic3withd3.html\n"
     ]
    }
   ],
   "source": [
    "%%writefile webPages/basic3withd3.html\n",
    "<html>\n",
    "    <head></head>\n",
    "    <body>\n",
    "        <style>\n",
    "            .bar {\n",
    "                fill:blue;\n",
    "            }\n",
    "        </style>\n",
    "        \n",
    "        <script src=\"https://cdnjs.cloudflare.com/ajax/libs/d3/3.5.16/d3.min.js\"></script>\n",
    "        <script>\n",
    "            var list = [4,8,15,16,23,42];\n",
    "            \n",
    "            var minL = d3.min(list)\n",
    "            var maxL = d3.max(list)\n",
    "            var xscale = d3.scale.linear()\n",
    "                            .range([0,300])\n",
    "                            .domain([minL,maxL])\n",
    "            \n",
    "            var svg = d3.select(\"body\").append(\"svg\")\n",
    "            \n",
    "            var d3join = svg.selectAll(\"rect\").data(list)\n",
    "            \n",
    "            d3join.enter()\n",
    "                .append(\"rect\")\n",
    "                .attr(\"class\",\"bar\")\n",
    "                .attr(\"x\",20)\n",
    "                .attr(\"height\",20)\n",
    "                .attr(\"y\",function(d,i) {return i*25})\n",
    "                .attr(\"width\",function(d){return xscale(d)})\n",
    "            \n",
    "            var d3join = svg.selectAll(\"text\").data(list)\n",
    "            d3join.enter()\n",
    "                .append(\"text\")\n",
    "                .attr(\"x\",20)\n",
    "                .attr(\"y\",function(d,i) {return i*25+15})\n",
    "                .text(function(d,i){return i})\n",
    "                .attr(\"fill\",\"white\")\n",
    "\n",
    "        </script>\n",
    "    </body>\n",
    "</html>"
   ]
  },
  {
   "cell_type": "code",
   "execution_count": 186,
   "metadata": {
    "collapsed": false
   },
   "outputs": [
    {
     "data": {
      "text/html": [
       "\n",
       "        <iframe\n",
       "            width=\"400\"\n",
       "            height=\"400\"\n",
       "            src=\"webPages/basic3withd3.html\"\n",
       "            frameborder=\"0\"\n",
       "            allowfullscreen\n",
       "        ></iframe>\n",
       "        "
      ],
      "text/plain": [
       "<IPython.lib.display.IFrame at 0x7fcce8030c50>"
      ]
     },
     "execution_count": 186,
     "metadata": {},
     "output_type": "execute_result"
    }
   ],
   "source": [
    "IFrame(\"webPages/basic3withd3.html\",400,400)"
   ]
  },
  {
   "cell_type": "code",
   "execution_count": 187,
   "metadata": {
    "collapsed": false
   },
   "outputs": [
    {
     "name": "stdout",
     "output_type": "stream",
     "text": [
      "Writing templates/basic3withd3.template\n"
     ]
    }
   ],
   "source": [
    "%%writefile templates/basic3withd3.template\n",
    "<html>\n",
    "    <head></head>\n",
    "    <body>\n",
    "        <style>\n",
    "            .bar {\n",
    "                fill:blue;\n",
    "            }\n",
    "        </style>\n",
    "        \n",
    "        <script src=\"https://cdnjs.cloudflare.com/ajax/libs/d3/3.5.16/d3.min.js\"></script>\n",
    "        <script>\n",
    "            var list = {data};\n",
    "            \n",
    "            var minL = d3.min(list)\n",
    "            var maxL = d3.max(list)\n",
    "            var xscale = d3.scale.linear()\n",
    "                            .range([0,300])\n",
    "                            .domain([minL,maxL])\n",
    "            \n",
    "            var svg = d3.select(\"body\").append(\"svg\")\n",
    "            \n",
    "            var d3join = svg.selectAll(\"rect\").data(list)\n",
    "            \n",
    "            d3join.enter()\n",
    "                .append(\"rect\")\n",
    "                .attr(\"class\",\"bar\")\n",
    "                .attr(\"x\",20)\n",
    "                .attr(\"height\",20)\n",
    "                .attr(\"y\",function(d,i) {return i*25})\n",
    "                .attr(\"width\",function(d){return xscale(d)})\n",
    "            \n",
    "            var d3join = svg.selectAll(\"text\").data(list)\n",
    "            d3join.enter()\n",
    "                .append(\"text\")\n",
    "                .attr(\"x\",20)\n",
    "                .attr(\"y\",function(d,i) {return i*25+15})\n",
    "                .text(function(d,i){return i})\n",
    "                .attr(\"fill\",\"white\")\n",
    "\n",
    "        </script>\n",
    "    </body>\n",
    "</html>"
   ]
  },
  {
   "cell_type": "code",
   "execution_count": 188,
   "metadata": {
    "collapsed": true
   },
   "outputs": [],
   "source": [
    "input = open(\"templates/basic3withd3.template\")"
   ]
  },
  {
   "cell_type": "code",
   "execution_count": 189,
   "metadata": {
    "collapsed": true
   },
   "outputs": [],
   "source": [
    "text = input.read()"
   ]
  },
  {
   "cell_type": "code",
   "execution_count": 190,
   "metadata": {
    "collapsed": true
   },
   "outputs": [],
   "source": [
    "input.close()"
   ]
  },
  {
   "cell_type": "code",
   "execution_count": 191,
   "metadata": {
    "collapsed": true
   },
   "outputs": [],
   "source": [
    "text = text.replace(\"{data}\",\"[2,4,5,15,23]\")"
   ]
  },
  {
   "cell_type": "code",
   "execution_count": 196,
   "metadata": {
    "collapsed": false
   },
   "outputs": [
    {
     "data": {
      "text/plain": [
       "'<html>\\n    <head></head>\\n    <body>\\n        <style>\\n            .bar {\\n                fill:blue;\\n            }\\n        </style>\\n        \\n        <script src=\"https://cdnjs.cloudflare.com/ajax/libs/d3/3.5.16/d3.min.js\"></script>\\n        <script>\\n            var list = [2,4,5,15,23];\\n            \\n            var minL = d3.min(list)\\n            var maxL = d3.max(list)\\n            var xscale = d3.scale.linear()\\n                            .range([0,300])\\n                            .domain([minL,maxL])\\n            \\n            var svg = d3.select(\"body\").append(\"svg\")\\n            \\n            var d3join = svg.selectAll(\"rect\").data(list)\\n            \\n            d3join.enter()\\n                .append(\"rect\")\\n                .attr(\"class\",\"bar\")\\n                .attr(\"x\",20)\\n                .attr(\"height\",20)\\n                .attr(\"y\",function(d,i) {return i*25})\\n                .attr(\"width\",function(d){return xscale(d)})\\n            \\n            var d3join = svg.selectAll(\"text\").data(list)\\n            d3join.enter()\\n                .append(\"text\")\\n                .attr(\"x\",20)\\n                .attr(\"y\",function(d,i) {return i*25+15})\\n                .text(function(d,i){return i})\\n                .attr(\"fill\",\"white\")\\n\\n        </script>\\n    </body>\\n</html>'"
      ]
     },
     "execution_count": 196,
     "metadata": {},
     "output_type": "execute_result"
    }
   ],
   "source": [
    "text"
   ]
  },
  {
   "cell_type": "code",
   "execution_count": 192,
   "metadata": {
    "collapsed": true
   },
   "outputs": [],
   "source": [
    "output = open(\"tmp/bar.html\",\"w\")"
   ]
  },
  {
   "cell_type": "code",
   "execution_count": 193,
   "metadata": {
    "collapsed": true
   },
   "outputs": [],
   "source": [
    "output.write(text)"
   ]
  },
  {
   "cell_type": "code",
   "execution_count": 194,
   "metadata": {
    "collapsed": true
   },
   "outputs": [],
   "source": [
    "output.close()"
   ]
  },
  {
   "cell_type": "code",
   "execution_count": 197,
   "metadata": {
    "collapsed": false
   },
   "outputs": [
    {
     "data": {
      "text/html": [
       "\n",
       "        <iframe\n",
       "            width=\"400\"\n",
       "            height=\"400\"\n",
       "            src=\"tmp/bar.html\"\n",
       "            frameborder=\"0\"\n",
       "            allowfullscreen\n",
       "        ></iframe>\n",
       "        "
      ],
      "text/plain": [
       "<IPython.lib.display.IFrame at 0x7fcce8030a90>"
      ]
     },
     "execution_count": 197,
     "metadata": {},
     "output_type": "execute_result"
    }
   ],
   "source": [
    "IFrame(\"tmp/bar.html\",400,400)"
   ]
  },
  {
   "cell_type": "code",
   "execution_count": 198,
   "metadata": {
    "collapsed": true
   },
   "outputs": [],
   "source": [
    "import json"
   ]
  },
  {
   "cell_type": "code",
   "execution_count": 199,
   "metadata": {
    "collapsed": true
   },
   "outputs": [],
   "source": [
    "list = [4,6,90,89,100]"
   ]
  },
  {
   "cell_type": "code",
   "execution_count": 201,
   "metadata": {
    "collapsed": false
   },
   "outputs": [
    {
     "data": {
      "text/plain": [
       "'[4, 6, 90, 89, 100]'"
      ]
     },
     "execution_count": 201,
     "metadata": {},
     "output_type": "execute_result"
    }
   ],
   "source": [
    "json.dumps(list)"
   ]
  },
  {
   "cell_type": "code",
   "execution_count": 203,
   "metadata": {
    "collapsed": false
   },
   "outputs": [
    {
     "data": {
      "text/html": [
       "\n",
       "        <iframe\n",
       "            width=\"400\"\n",
       "            height=\"400\"\n",
       "            src=\"tmp/bar2.html\"\n",
       "            frameborder=\"0\"\n",
       "            allowfullscreen\n",
       "        ></iframe>\n",
       "        "
      ],
      "text/plain": [
       "<IPython.lib.display.IFrame at 0x7fccdb590a50>"
      ]
     },
     "execution_count": 203,
     "metadata": {},
     "output_type": "execute_result"
    }
   ],
   "source": [
    "input = open(\"templates/basic3withd3.template\")\n",
    "text = input.read()\n",
    "input.close()\n",
    "text = text.replace(\"{data}\",json.dumps(list))\n",
    "output = open(\"tmp/bar2.html\",\"w\")\n",
    "output.write(text)\n",
    "output.close()\n",
    "IFrame(\"tmp/bar2.html\",400,400)"
   ]
  },
  {
   "cell_type": "code",
   "execution_count": null,
   "metadata": {
    "collapsed": true
   },
   "outputs": [],
   "source": []
  }
 ],
 "metadata": {
  "kernelspec": {
   "display_name": "Python 2",
   "language": "python",
   "name": "python2"
  },
  "language_info": {
   "codemirror_mode": {
    "name": "ipython",
    "version": 2
   },
   "file_extension": ".py",
   "mimetype": "text/x-python",
   "name": "python",
   "nbconvert_exporter": "python",
   "pygments_lexer": "ipython2",
   "version": "2.7.10"
  }
 },
 "nbformat": 4,
 "nbformat_minor": 0
}
