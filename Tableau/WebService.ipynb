{
 "cells": [
  {
   "cell_type": "code",
   "execution_count": 1,
   "metadata": {
    "collapsed": true
   },
   "outputs": [],
   "source": [
    "from flask import Flask"
   ]
  },
  {
   "cell_type": "code",
   "execution_count": 2,
   "metadata": {
    "collapsed": true
   },
   "outputs": [],
   "source": [
    "from flask.ext import restful"
   ]
  },
  {
   "cell_type": "code",
   "execution_count": 3,
   "metadata": {
    "collapsed": false
   },
   "outputs": [],
   "source": [
    "app = Flask(\"Test\")\n",
    "api = restful.Api(app)"
   ]
  },
  {
   "cell_type": "code",
   "execution_count": 4,
   "metadata": {
    "collapsed": false
   },
   "outputs": [],
   "source": [
    "class HelloWorld(restful.Resource):\n",
    "    def get(self):\n",
    "        return alturas.to_json()\n",
    "\n",
    "api.add_resource(HelloWorld, '/api/v1/helloworld')"
   ]
  },
  {
   "cell_type": "markdown",
   "metadata": {},
   "source": [
    "# Protocolo HTTP\n",
    "\n",
    "Request:\n",
    "* GET /api/v1/helloworld\n",
    "* PUT\n",
    "* POST /api/v1/helloworld\n",
    "* DELETE\n",
    "\n",
    "Response:\n",
    "* Status 500: Error\n",
    "* Status 404: Resource not found\n",
    "* Status 200: Resource ok and here is the information"
   ]
  },
  {
   "cell_type": "code",
   "execution_count": 5,
   "metadata": {
    "collapsed": true
   },
   "outputs": [],
   "source": [
    "app.run(port=8080)"
   ]
  },
  {
   "cell_type": "code",
   "execution_count": 6,
   "metadata": {
    "collapsed": true
   },
   "outputs": [],
   "source": [
    "alturas = [1,2,3,4,5,6]"
   ]
  },
  {
   "cell_type": "code",
   "execution_count": 7,
   "metadata": {
    "collapsed": true
   },
   "outputs": [],
   "source": [
    "import pandas as pd"
   ]
  },
  {
   "cell_type": "code",
   "execution_count": 8,
   "metadata": {
    "collapsed": true
   },
   "outputs": [],
   "source": [
    "alturas = pd.Series(alturas)"
   ]
  },
  {
   "cell_type": "code",
   "execution_count": 12,
   "metadata": {
    "collapsed": false
   },
   "outputs": [],
   "source": [
    "res = alturas.to_json()"
   ]
  },
  {
   "cell_type": "code",
   "execution_count": 13,
   "metadata": {
    "collapsed": false
   },
   "outputs": [
    {
     "data": {
      "text/plain": [
       "{u'0': 1, u'1': 2, u'2': 3, u'3': 4, u'4': 5, u'5': 6}"
      ]
     },
     "execution_count": 13,
     "metadata": {},
     "output_type": "execute_result"
    }
   ],
   "source": [
    "import json\n",
    "json.loads(res)"
   ]
  },
  {
   "cell_type": "code",
   "execution_count": 14,
   "metadata": {
    "collapsed": false
   },
   "outputs": [
    {
     "data": {
      "text/plain": [
       "{0: 1, 1: 2, 2: 3, 3: 4, 4: 5, 5: 6}"
      ]
     },
     "execution_count": 14,
     "metadata": {},
     "output_type": "execute_result"
    }
   ],
   "source": [
    "res2 = alturas.to_dict()\n",
    "res2"
   ]
  },
  {
   "cell_type": "code",
   "execution_count": 17,
   "metadata": {
    "collapsed": false
   },
   "outputs": [],
   "source": [
    "app = Flask(\"Test\")\n",
    "api = restful.Api(app)\n",
    "\n",
    "class HelloWorld(restful.Resource):\n",
    "    def get(self):\n",
    "        return {'helloworld':res2}\n",
    "\n",
    "api.add_resource(HelloWorld, '/api/v1/helloworld')\n",
    "\n",
    "app.run(port=8080)"
   ]
  },
  {
   "cell_type": "code",
   "execution_count": 27,
   "metadata": {
    "collapsed": false
   },
   "outputs": [],
   "source": [
    "from flask_restful import reqparse\n",
    "\n",
    "app = Flask(\"Test\")\n",
    "api = restful.Api(app)\n",
    "\n",
    "class HelloWorld(restful.Resource):\n",
    "    def get(self):\n",
    "        parser = reqparse.RequestParser()\n",
    "        parser.add_argument('id',required=True)\n",
    "        parser.add_argument('name')\n",
    "        args = parser.parse_args()\n",
    "        return {'tipo':'json','helloworld':args[\"id\"],\"name\":args[\"name\"]}\n",
    "\n",
    "api.add_resource(HelloWorld, '/api/v1/helloworld')\n",
    "\n",
    "app.run(port=8080)"
   ]
  },
  {
   "cell_type": "code",
   "execution_count": 3,
   "metadata": {
    "collapsed": true
   },
   "outputs": [],
   "source": [
    "import sqlite3"
   ]
  },
  {
   "cell_type": "code",
   "execution_count": 5,
   "metadata": {
    "collapsed": true
   },
   "outputs": [],
   "source": [
    "conn = sqlite3.connect(\"/home/dsc/Data/Tableau/temp.db\")"
   ]
  },
  {
   "cell_type": "code",
   "execution_count": 6,
   "metadata": {
    "collapsed": true
   },
   "outputs": [],
   "source": [
    "cursor = conn.cursor()"
   ]
  },
  {
   "cell_type": "code",
   "execution_count": 7,
   "metadata": {
    "collapsed": false
   },
   "outputs": [],
   "source": [
    "rows = cursor.execute(\"SELECT * FROM worldtemp LIMIT 1\")"
   ]
  },
  {
   "cell_type": "code",
   "execution_count": 35,
   "metadata": {
    "collapsed": false
   },
   "outputs": [
    {
     "name": "stdout",
     "output_type": "stream",
     "text": [
      "(0, 51957, u'IVM00065594', u'20160101', u'TAVG', 28.3, u'H', u'', u'S', u'', u'SPY', 4.746717, -6.660817, u'Ivory Coast', u'San Pedro')\n"
     ]
    }
   ],
   "source": [
    "for row in rows:\n",
    "    print row"
   ]
  },
  {
   "cell_type": "code",
   "execution_count": null,
   "metadata": {
    "collapsed": true
   },
   "outputs": [],
   "source": [
    "from flask_restful import reqparse\n",
    "\n",
    "app = Flask(\"Test\")\n",
    "api = restful.Api(app)\n",
    "\n",
    "class HelloWorld(restful.Resource):\n",
    "    def get(self):\n",
    "        parser = reqparse.RequestParser()\n",
    "        parser.add_argument('code',required=True)\n",
    "        args = parser.parse_args()\n",
    "        code = args[\"code\"]\n",
    "        query = \"\"\"\n",
    "        SELECT temp,period \n",
    "        FROM worldtemp \n",
    "        WHERE code ='\"\"\"+code+\"\"\"'\n",
    "        ORDER BY period\n",
    "        \"\"\"\n",
    "        rows = cursor.execute(query)\n",
    "        \n",
    "        result = []\n",
    "        for row in rows:\n",
    "            result.append({\"temp\":row[0],\"period\":row[1]})\n",
    "        \n",
    "        return {'temp':result}\n",
    "\n",
    "api.add_resource(HelloWorld, '/api/v1/temp')\n",
    "\n",
    "app.run(port=8080)"
   ]
  },
  {
   "cell_type": "code",
   "execution_count": null,
   "metadata": {
    "collapsed": true
   },
   "outputs": [],
   "source": []
  }
 ],
 "metadata": {
  "kernelspec": {
   "display_name": "Python 2",
   "language": "python",
   "name": "python2"
  },
  "language_info": {
   "codemirror_mode": {
    "name": "ipython",
    "version": 2
   },
   "file_extension": ".py",
   "mimetype": "text/x-python",
   "name": "python",
   "nbconvert_exporter": "python",
   "pygments_lexer": "ipython2",
   "version": "2.7.10"
  }
 },
 "nbformat": 4,
 "nbformat_minor": 0
}
