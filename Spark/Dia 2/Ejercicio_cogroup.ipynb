{
 "cells": [
  {
   "cell_type": "markdown",
   "metadata": {},
   "source": [
    "### Calcular para cada tickets con cuanto tiempo de antelación se compró"
   ]
  },
  {
   "cell_type": "code",
   "execution_count": 1,
   "metadata": {
    "collapsed": false
   },
   "outputs": [],
   "source": [
    "lts = sc.textFile('../../Data/spark/transm150720.csv')"
   ]
  },
  {
   "cell_type": "code",
   "execution_count": 2,
   "metadata": {
    "collapsed": true
   },
   "outputs": [],
   "source": [
    "def getTCNFechaCompra(l):\n",
    "    elems = l.split(\",\")\n",
    "    tcn = elems[0]\n",
    "    fechacompra = elems[9]\n",
    "    return (tcn, fechacompra)"
   ]
  },
  {
   "cell_type": "code",
   "execution_count": 3,
   "metadata": {
    "collapsed": false
   },
   "outputs": [
    {
     "data": {
      "text/plain": [
       "(u'79062005698500', u'141025')"
      ]
     },
     "execution_count": 3,
     "metadata": {},
     "output_type": "execute_result"
    }
   ],
   "source": [
    "getTCNFechaCompra(lts.first())"
   ]
  },
  {
   "cell_type": "code",
   "execution_count": 4,
   "metadata": {
    "collapsed": true
   },
   "outputs": [],
   "source": [
    "ts = lts.map(getTCNFechaCompra)"
   ]
  },
  {
   "cell_type": "code",
   "execution_count": 5,
   "metadata": {
    "collapsed": false
   },
   "outputs": [
    {
     "data": {
      "text/plain": [
       "[(u'79062005698500', u'141025'),\n",
       " (u'79062005924069', u'150719'),\n",
       " (u'79065668570385', u'150626')]"
      ]
     },
     "execution_count": 5,
     "metadata": {},
     "output_type": "execute_result"
    }
   ],
   "source": [
    "ts.take(3)"
   ]
  },
  {
   "cell_type": "code",
   "execution_count": 7,
   "metadata": {
    "collapsed": true
   },
   "outputs": [],
   "source": [
    "lcs = sc.textFile('../../Data/spark/coupon150720.csv')"
   ]
  },
  {
   "cell_type": "code",
   "execution_count": 8,
   "metadata": {
    "collapsed": true
   },
   "outputs": [],
   "source": [
    "def getTCNFechaSalida(l):\n",
    "    elems = l.split(\",\")\n",
    "    tcn = elems[0]\n",
    "    fechasalida = elems[12]\n",
    "    return (tcn, fechasalida)"
   ]
  },
  {
   "cell_type": "code",
   "execution_count": 9,
   "metadata": {
    "collapsed": true
   },
   "outputs": [],
   "source": [
    "cs = lcs.map(getTCNFechaSalida)"
   ]
  },
  {
   "cell_type": "code",
   "execution_count": 10,
   "metadata": {
    "collapsed": false
   },
   "outputs": [
    {
     "data": {
      "text/plain": [
       "[(u'79062005698500', u'150904'),\n",
       " (u'79062005698500', u'150905'),\n",
       " (u'79062005924069', u'150721')]"
      ]
     },
     "execution_count": 10,
     "metadata": {},
     "output_type": "execute_result"
    }
   ],
   "source": [
    "cs.take(3)"
   ]
  },
  {
   "cell_type": "code",
   "execution_count": null,
   "metadata": {
    "collapsed": true
   },
   "outputs": [],
   "source": [
    "#Hay claves repetidas, hacemos un group para tener sólo una y quedarnos con la fecha mas antigua."
   ]
  },
  {
   "cell_type": "code",
   "execution_count": null,
   "metadata": {
    "collapsed": true
   },
   "outputs": [],
   "source": [
    "#groupbykey hace las agrupaciones de la misma clave en una misma particion en un mismo nodo, \n",
    "#por lo que podemos quedarnos sin memoria"
   ]
  },
  {
   "cell_type": "code",
   "execution_count": 11,
   "metadata": {
    "collapsed": false
   },
   "outputs": [
    {
     "data": {
      "text/plain": [
       "[(u'79062005558463', u'150801'),\n",
       " (u'79065668432713', u'150823'),\n",
       " (u'79062005501193', u'150720')]"
      ]
     },
     "execution_count": 11,
     "metadata": {},
     "output_type": "execute_result"
    }
   ],
   "source": [
    "cs.groupByKey().mapValues(lambda vs: min(vs)).take(3)"
   ]
  },
  {
   "cell_type": "code",
   "execution_count": 15,
   "metadata": {
    "collapsed": true
   },
   "outputs": [],
   "source": [
    "cgps = cs.groupByKey().mapValues(lambda vs: min(vs)).cache()"
   ]
  },
  {
   "cell_type": "code",
   "execution_count": 16,
   "metadata": {
    "collapsed": false
   },
   "outputs": [
    {
     "data": {
      "text/plain": [
       "[(u'79062005558463', u'150801'),\n",
       " (u'79065668432713', u'150823'),\n",
       " (u'79062005501193', u'150720')]"
      ]
     },
     "execution_count": 16,
     "metadata": {},
     "output_type": "execute_result"
    }
   ],
   "source": [
    "cgps.take(3)"
   ]
  },
  {
   "cell_type": "code",
   "execution_count": 17,
   "metadata": {
    "collapsed": true
   },
   "outputs": [],
   "source": [
    "j = cgps.leftOuterJoin(ts).cache()"
   ]
  },
  {
   "cell_type": "code",
   "execution_count": 18,
   "metadata": {
    "collapsed": false
   },
   "outputs": [
    {
     "data": {
      "text/plain": [
       "[(u'79062005994272', (u'150720', u'150719')),\n",
       " (u'79065668614400', (u'150724', u'150719')),\n",
       " (u'79062005501193', (u'150720', u'150719'))]"
      ]
     },
     "execution_count": 18,
     "metadata": {},
     "output_type": "execute_result"
    }
   ],
   "source": [
    "j.take(3)"
   ]
  },
  {
   "cell_type": "code",
   "execution_count": 12,
   "metadata": {
    "collapsed": true
   },
   "outputs": [],
   "source": [
    "from time import strptime #convierte texto en fecha\n",
    "from time import mktime #convierte una fecha en segundos"
   ]
  },
  {
   "cell_type": "code",
   "execution_count": 23,
   "metadata": {
    "collapsed": true
   },
   "outputs": [],
   "source": [
    "def difFechas(f1,f2):\n",
    "    of1 = strptime(f1,'%y%m%d')\n",
    "    of2 = strptime(f2,'%y%m%d')\n",
    "    seg1 = mktime(of1)\n",
    "    seg2 = mktime(of2)\n",
    "    dif = seg1 - seg2\n",
    "    return dif/(3600*24)"
   ]
  },
  {
   "cell_type": "code",
   "execution_count": null,
   "metadata": {
    "collapsed": true
   },
   "outputs": [],
   "source": [
    "#Eliminamos los elementos con fechas vacías, lo deberíamos haber hecho antes"
   ]
  },
  {
   "cell_type": "code",
   "execution_count": 21,
   "metadata": {
    "collapsed": false
   },
   "outputs": [],
   "source": [
    "fj = j.filter(lambda x: x[1][0] != '' and x[1][1] != '')"
   ]
  },
  {
   "cell_type": "code",
   "execution_count": 22,
   "metadata": {
    "collapsed": false
   },
   "outputs": [
    {
     "data": {
      "text/plain": [
       "[(u'79062005994272', (u'150720', u'150719')),\n",
       " (u'79065668614400', (u'150724', u'150719')),\n",
       " (u'79062005501193', (u'150720', u'150719'))]"
      ]
     },
     "execution_count": 22,
     "metadata": {},
     "output_type": "execute_result"
    }
   ],
   "source": [
    "fj.take(3)"
   ]
  },
  {
   "cell_type": "code",
   "execution_count": 24,
   "metadata": {
    "collapsed": false
   },
   "outputs": [
    {
     "data": {
      "text/plain": [
       "[(u'79062005994272', 1.0), (u'79065668614400', 5.0), (u'79062005501193', 1.0)]"
      ]
     },
     "execution_count": 24,
     "metadata": {},
     "output_type": "execute_result"
    }
   ],
   "source": [
    "fj.mapValues(lambda v: difFechas(v[0], v[1])).take(3)"
   ]
  },
  {
   "cell_type": "code",
   "execution_count": 25,
   "metadata": {
    "collapsed": true
   },
   "outputs": [],
   "source": [
    "d = fj.mapValues(lambda v: difFechas(v[0], v[1]))"
   ]
  },
  {
   "cell_type": "code",
   "execution_count": 26,
   "metadata": {
    "collapsed": false
   },
   "outputs": [
    {
     "data": {
      "text/plain": [
       "[(0.0, <pyspark.resultiterable.ResultIterable at 0x7f7da50492d0>),\n",
       " (750.0, <pyspark.resultiterable.ResultIterable at 0x7f7da4769610>),\n",
       " (198.04166666666666,\n",
       "  <pyspark.resultiterable.ResultIterable at 0x7f7da4769690>)]"
      ]
     },
     "execution_count": 26,
     "metadata": {},
     "output_type": "execute_result"
    }
   ],
   "source": [
    "d.groupBy(lambda x: x[1]).take(3) # No nos vale, hay que hacerlo con reduceByKey porque pueden salir grupos muy grandes. \n",
    "#aparte hay que eliminar los decimales"
   ]
  },
  {
   "cell_type": "code",
   "execution_count": 27,
   "metadata": {
    "collapsed": false
   },
   "outputs": [
    {
     "data": {
      "text/plain": [
       "[(1.0, 1), (5.0, 1), (1.0, 1)]"
      ]
     },
     "execution_count": 27,
     "metadata": {},
     "output_type": "execute_result"
    }
   ],
   "source": [
    "d.map(lambda x: (x[1],1)).take(3)"
   ]
  },
  {
   "cell_type": "code",
   "execution_count": 30,
   "metadata": {
    "collapsed": false
   },
   "outputs": [],
   "source": [
    "r = d.map(lambda x: (int(x[1]),1)).reduceByKey(lambda x,acum: x+acum)"
   ]
  },
  {
   "cell_type": "code",
   "execution_count": 31,
   "metadata": {
    "collapsed": false
   },
   "outputs": [
    {
     "data": {
      "text/plain": [
       "[(0, 28366), (515, 1), (5, 16793)]"
      ]
     },
     "execution_count": 31,
     "metadata": {},
     "output_type": "execute_result"
    }
   ],
   "source": [
    "r.take(3)"
   ]
  },
  {
   "cell_type": "code",
   "execution_count": 32,
   "metadata": {
    "collapsed": false
   },
   "outputs": [
    {
     "data": {
      "text/plain": [
       "452"
      ]
     },
     "execution_count": 32,
     "metadata": {},
     "output_type": "execute_result"
    }
   ],
   "source": [
    "r.count()"
   ]
  },
  {
   "cell_type": "code",
   "execution_count": 33,
   "metadata": {
    "collapsed": true
   },
   "outputs": [],
   "source": [
    "res = r.collect() #recolectamos los datos a una lista"
   ]
  },
  {
   "cell_type": "code",
   "execution_count": 34,
   "metadata": {
    "collapsed": false
   },
   "outputs": [
    {
     "data": {
      "text/plain": [
       "452"
      ]
     },
     "execution_count": 34,
     "metadata": {},
     "output_type": "execute_result"
    }
   ],
   "source": [
    "len(res)"
   ]
  },
  {
   "cell_type": "code",
   "execution_count": 35,
   "metadata": {
    "collapsed": false
   },
   "outputs": [
    {
     "data": {
      "text/plain": [
       "list"
      ]
     },
     "execution_count": 35,
     "metadata": {},
     "output_type": "execute_result"
    }
   ],
   "source": [
    "type(res)"
   ]
  },
  {
   "cell_type": "code",
   "execution_count": 36,
   "metadata": {
    "collapsed": false
   },
   "outputs": [
    {
     "data": {
      "text/plain": [
       "[(0, 28366), (515, 1), (5, 16793), (10, 9906), (15, 7791)]"
      ]
     },
     "execution_count": 36,
     "metadata": {},
     "output_type": "execute_result"
    }
   ],
   "source": [
    "res[0:5]"
   ]
  },
  {
   "cell_type": "code",
   "execution_count": 37,
   "metadata": {
    "collapsed": false
   },
   "outputs": [
    {
     "name": "stdout",
     "output_type": "stream",
     "text": [
      "Populating the interactive namespace from numpy and matplotlib\n"
     ]
    }
   ],
   "source": [
    "%pylab inline"
   ]
  },
  {
   "cell_type": "code",
   "execution_count": 39,
   "metadata": {
    "collapsed": false
   },
   "outputs": [],
   "source": [
    "xs = [t[0] for t in res]"
   ]
  },
  {
   "cell_type": "code",
   "execution_count": 41,
   "metadata": {
    "collapsed": false
   },
   "outputs": [
    {
     "data": {
      "text/plain": [
       "[0, 515, 5, 10, 15]"
      ]
     },
     "execution_count": 41,
     "metadata": {},
     "output_type": "execute_result"
    }
   ],
   "source": [
    "xs[0:5]"
   ]
  },
  {
   "cell_type": "code",
   "execution_count": 40,
   "metadata": {
    "collapsed": true
   },
   "outputs": [],
   "source": [
    "ys = [t[1] for t in res]"
   ]
  },
  {
   "cell_type": "code",
   "execution_count": 42,
   "metadata": {
    "collapsed": false
   },
   "outputs": [
    {
     "data": {
      "text/plain": [
       "[28366, 1, 16793, 9906, 7791]"
      ]
     },
     "execution_count": 42,
     "metadata": {},
     "output_type": "execute_result"
    }
   ],
   "source": [
    "ys[0:5]"
   ]
  },
  {
   "cell_type": "code",
   "execution_count": 43,
   "metadata": {
    "collapsed": false
   },
   "outputs": [
    {
     "data": {
      "text/plain": [
       "<Container object of 452 artists>"
      ]
     },
     "execution_count": 43,
     "metadata": {},
     "output_type": "execute_result"
    },
    {
     "data": {
      "image/png": "[encoded data removed]",
      "text/plain": [
       "<matplotlib.figure.Figure at 0x7f7da63812d0>"
      ]
     },
     "metadata": {},
     "output_type": "display_data"
    }
   ],
   "source": [
    "plt.bar(xs,ys)"
   ]
  },
  {
   "cell_type": "code",
   "execution_count": 48,
   "metadata": {
    "collapsed": false
   },
   "outputs": [
    {
     "data": {
      "text/plain": [
       "(0, 90)"
      ]
     },
     "execution_count": 48,
     "metadata": {},
     "output_type": "execute_result"
    },
    {
     "data": {
      "image/png": "[encoded data removed]",
      "text/plain": [
       "<matplotlib.figure.Figure at 0x7f7d9cc4ab50>"
      ]
     },
     "metadata": {},
     "output_type": "display_data"
    }
   ],
   "source": [
    "plt.bar(xs,ys)\n",
    "plt.xlim(0,90)"
   ]
  },
  {
   "cell_type": "markdown",
   "metadata": {},
   "source": [
    "### Ejercicio. Sacar el precio medio por día de antelacion"
   ]
  },
  {
   "cell_type": "code",
   "execution_count": 2,
   "metadata": {
    "collapsed": true
   },
   "outputs": [],
   "source": [
    "lts = sc.textFile('/home/dsc/Data/spark/transm150720.csv')"
   ]
  },
  {
   "cell_type": "code",
   "execution_count": 2,
   "metadata": {
    "collapsed": true
   },
   "outputs": [],
   "source": [
    "lcs = sc.textFile('/home/dsc/Data/spark/coupon150720.csv')"
   ]
  },
  {
   "cell_type": "code",
   "execution_count": 7,
   "metadata": {
    "collapsed": false
   },
   "outputs": [
    {
     "data": {
      "text/plain": [
       "u'79062005698500,TKTT,30,150719,FR,0.0,EUR,T,T,141025,PARA127A8,0.0,EUR,   ,EX,,150719,0.0'"
      ]
     },
     "execution_count": 7,
     "metadata": {},
     "output_type": "execute_result"
    }
   ],
   "source": [
    "lts.first()"
   ]
  },
  {
   "cell_type": "code",
   "execution_count": 8,
   "metadata": {
    "collapsed": false
   },
   "outputs": [
    {
     "data": {
      "text/plain": [
       "u'79062005698500,1,MAA,AUH,9W,9W,56.79,USD,1,H,H,0526,150904,OK,IAF0'"
      ]
     },
     "execution_count": 8,
     "metadata": {},
     "output_type": "execute_result"
    }
   ],
   "source": [
    "lcs.first()"
   ]
  },
  {
   "cell_type": "code",
   "execution_count": 3,
   "metadata": {
    "collapsed": true
   },
   "outputs": [],
   "source": [
    "def getTCNFechaCompraTs(l):\n",
    "    elems = l.split(\",\")\n",
    "    tcn = elems[0]\n",
    "    fechacompra = elems[9]\n",
    "    return (tcn,fechacompra)"
   ]
  },
  {
   "cell_type": "code",
   "execution_count": 4,
   "metadata": {
    "collapsed": true
   },
   "outputs": [],
   "source": [
    "def getTCNFechaSalidaPVP(l):\n",
    "    elems = l.split(\",\")\n",
    "    tcn = elems[0]\n",
    "    fechasalida = elems[12]\n",
    "    pvp = float(elems[6])\n",
    "    return (tcn, fechasalida, pvp)"
   ]
  },
  {
   "cell_type": "code",
   "execution_count": 5,
   "metadata": {
    "collapsed": true
   },
   "outputs": [],
   "source": [
    "ts = lts.map(getTCNFechaCompraTs)"
   ]
  },
  {
   "cell_type": "code",
   "execution_count": 6,
   "metadata": {
    "collapsed": true
   },
   "outputs": [],
   "source": [
    "cs = lcs.map(getTCNFechaSalidaPVP)"
   ]
  },
  {
   "cell_type": "code",
   "execution_count": 14,
   "metadata": {
    "collapsed": false
   },
   "outputs": [
    {
     "data": {
      "text/plain": [
       "(u'79062005698500', u'141025')"
      ]
     },
     "execution_count": 14,
     "metadata": {},
     "output_type": "execute_result"
    }
   ],
   "source": [
    "ts.first()"
   ]
  },
  {
   "cell_type": "code",
   "execution_count": 221,
   "metadata": {
    "collapsed": false
   },
   "outputs": [
    {
     "data": {
      "text/plain": [
       "(u'79062005698500', u'150904', 56.79)"
      ]
     },
     "execution_count": 221,
     "metadata": {},
     "output_type": "execute_result"
    }
   ],
   "source": [
    "cs.first()"
   ]
  },
  {
   "cell_type": "code",
   "execution_count": 250,
   "metadata": {
    "collapsed": false
   },
   "outputs": [
    {
     "data": {
      "text/plain": [
       "[]"
      ]
     },
     "execution_count": 250,
     "metadata": {},
     "output_type": "execute_result"
    }
   ],
   "source": [
    "ts.filter(lambda x: x[1]=='None').take(3)"
   ]
  },
  {
   "cell_type": "code",
   "execution_count": 7,
   "metadata": {
    "collapsed": true
   },
   "outputs": [],
   "source": [
    "ts = ts.filter(lambda x: x[1] != '')"
   ]
  },
  {
   "cell_type": "code",
   "execution_count": 224,
   "metadata": {
    "collapsed": false
   },
   "outputs": [
    {
     "data": {
      "text/plain": [
       "(u'79062005698500', u'150904', 56.79)"
      ]
     },
     "execution_count": 224,
     "metadata": {},
     "output_type": "execute_result"
    }
   ],
   "source": [
    "cs.first()"
   ]
  },
  {
   "cell_type": "code",
   "execution_count": 8,
   "metadata": {
    "collapsed": true
   },
   "outputs": [],
   "source": [
    "cs = cs.filter(lambda x: x[1] != '')"
   ]
  },
  {
   "cell_type": "code",
   "execution_count": 42,
   "metadata": {
    "collapsed": false
   },
   "outputs": [
    {
     "data": {
      "text/plain": [
       "[(u'79062005558463',\n",
       "  <pyspark.resultiterable.ResultIterable at 0x7f52445f6590>),\n",
       " (u'79065668432713',\n",
       "  <pyspark.resultiterable.ResultIterable at 0x7f5244624390>),\n",
       " (u'79062005501193',\n",
       "  <pyspark.resultiterable.ResultIterable at 0x7f5244624490>)]"
      ]
     },
     "execution_count": 42,
     "metadata": {},
     "output_type": "execute_result"
    }
   ],
   "source": [
    "cs.groupBy(lambda x: x[0]).take(3)"
   ]
  },
  {
   "cell_type": "code",
   "execution_count": 228,
   "metadata": {
    "collapsed": false
   },
   "outputs": [
    {
     "data": {
      "text/plain": [
       "[(u'79062005558463',\n",
       "  <pyspark.resultiterable.ResultIterable at 0x7f5245135f50>),\n",
       " (u'79065668432713',\n",
       "  <pyspark.resultiterable.ResultIterable at 0x7f52446efbd0>),\n",
       " (u'79062005501193',\n",
       "  <pyspark.resultiterable.ResultIterable at 0x7f52446ef610>)]"
      ]
     },
     "execution_count": 228,
     "metadata": {},
     "output_type": "execute_result"
    }
   ],
   "source": [
    "cs.map(lambda x: (x[0],(x[1],x[2]))).groupByKey().mapValues(lambda x: x).take(3)"
   ]
  },
  {
   "cell_type": "code",
   "execution_count": 9,
   "metadata": {
    "collapsed": false
   },
   "outputs": [],
   "source": [
    "csr = cs.map(lambda x: (x[0],(x[1],x[2]))).reduceByKey(lambda x,acum: (min(x[0],acum[0]),x[1]+acum[1]))"
   ]
  },
  {
   "cell_type": "code",
   "execution_count": 230,
   "metadata": {
    "collapsed": false
   },
   "outputs": [
    {
     "data": {
      "text/plain": [
       "(u'79062005558463', (u'150801', 0.0))"
      ]
     },
     "execution_count": 230,
     "metadata": {},
     "output_type": "execute_result"
    }
   ],
   "source": [
    "csr.first()"
   ]
  },
  {
   "cell_type": "code",
   "execution_count": 10,
   "metadata": {
    "collapsed": false
   },
   "outputs": [],
   "source": [
    "tc = csr.leftOuterJoin(ts)"
   ]
  },
  {
   "cell_type": "code",
   "execution_count": 232,
   "metadata": {
    "collapsed": false
   },
   "outputs": [
    {
     "data": {
      "text/plain": [
       "(u'79062005994272', ((u'150720', 112.54), u'150719'))"
      ]
     },
     "execution_count": 232,
     "metadata": {},
     "output_type": "execute_result"
    }
   ],
   "source": [
    "tc.first()"
   ]
  },
  {
   "cell_type": "code",
   "execution_count": 11,
   "metadata": {
    "collapsed": true
   },
   "outputs": [],
   "source": [
    "from time import strptime\n",
    "from time import mktime"
   ]
  },
  {
   "cell_type": "code",
   "execution_count": 12,
   "metadata": {
    "collapsed": true
   },
   "outputs": [],
   "source": [
    "def diferenciaFechas(x,y):\n",
    "    if x == 'None' or y == 'None':\n",
    "        return -1\n",
    "    \n",
    "    ox = strptime(x,'%y%m%d')\n",
    "    oy = strptime(y,'%y%m%d')\n",
    "    mx = mktime(ox)\n",
    "    my = mktime(oy)\n",
    "    dif = mx - my\n",
    "    return dif/(3600*24)"
   ]
  },
  {
   "cell_type": "code",
   "execution_count": 101,
   "metadata": {
    "collapsed": false
   },
   "outputs": [
    {
     "data": {
      "text/plain": [
       "[(u'150720', 112.54, u'150719'),\n",
       " (u'150724', 229.51000000000002, u'150719'),\n",
       " (u'150720', 272.96, u'150719')]"
      ]
     },
     "execution_count": 101,
     "metadata": {},
     "output_type": "execute_result"
    }
   ],
   "source": [
    "tc.map(lambda (x,y): (y)).map(lambda (x,y): (x[0],x[1],y)).take(3)"
   ]
  },
  {
   "cell_type": "code",
   "execution_count": 13,
   "metadata": {
    "collapsed": true
   },
   "outputs": [],
   "source": [
    "diaspvp = tc.map(lambda (x,y): (y)).map(lambda (x,y): (x[0],x[1],y))"
   ]
  },
  {
   "cell_type": "code",
   "execution_count": 234,
   "metadata": {
    "collapsed": false
   },
   "outputs": [
    {
     "data": {
      "text/plain": [
       "(u'150720', 112.54, u'150719')"
      ]
     },
     "execution_count": 234,
     "metadata": {},
     "output_type": "execute_result"
    }
   ],
   "source": [
    "diaspvp.first()"
   ]
  },
  {
   "cell_type": "code",
   "execution_count": 14,
   "metadata": {
    "collapsed": false
   },
   "outputs": [],
   "source": [
    "difdiaspvp = diaspvp.map(lambda x: (int(diferenciaFechas(str(x[0]),str(x[2]))),x[1]))"
   ]
  },
  {
   "cell_type": "code",
   "execution_count": 205,
   "metadata": {
    "collapsed": false
   },
   "outputs": [
    {
     "data": {
      "text/plain": [
       "[(1, 112.54), (5, 229.51000000000002), (1, 272.96)]"
      ]
     },
     "execution_count": 205,
     "metadata": {},
     "output_type": "execute_result"
    }
   ],
   "source": [
    "difdiaspvp.take(3)"
   ]
  },
  {
   "cell_type": "code",
   "execution_count": 206,
   "metadata": {
    "collapsed": false
   },
   "outputs": [
    {
     "data": {
      "text/plain": [
       "[(1, (112.54, 1)), (5, (229.51000000000002, 1)), (1, (272.96, 1))]"
      ]
     },
     "execution_count": 206,
     "metadata": {},
     "output_type": "execute_result"
    }
   ],
   "source": [
    "difdiaspvp.map(lambda x: (x[0],(x[1],1))).take(3)"
   ]
  },
  {
   "cell_type": "code",
   "execution_count": 15,
   "metadata": {
    "collapsed": true
   },
   "outputs": [],
   "source": [
    "mapdifdiaspvp = difdiaspvp.map(lambda x: (x[0],(x[1],1)))"
   ]
  },
  {
   "cell_type": "code",
   "execution_count": 241,
   "metadata": {
    "collapsed": false
   },
   "outputs": [
    {
     "data": {
      "text/plain": [
       "[(1, (112.54, 1)), (5, (229.51000000000002, 1)), (1, (272.96, 1))]"
      ]
     },
     "execution_count": 241,
     "metadata": {},
     "output_type": "execute_result"
    }
   ],
   "source": [
    "mapdifdiaspvp.take(3)"
   ]
  },
  {
   "cell_type": "code",
   "execution_count": 18,
   "metadata": {
    "collapsed": false
   },
   "outputs": [
    {
     "data": {
      "text/plain": [
       "[(0, (6070913.1699999925, 3)),\n",
       " (515, (327.32, 1)),\n",
       " (5, (4177215.5900000087, 3))]"
      ]
     },
     "execution_count": 18,
     "metadata": {},
     "output_type": "execute_result"
    }
   ],
   "source": [
    "mapdifdiaspvp.reduceByKey(lambda x,y: (x[0]+y[0],y[1]+1)).take(3)"
   ]
  },
  {
   "cell_type": "code",
   "execution_count": 17,
   "metadata": {
    "collapsed": false
   },
   "outputs": [
    {
     "data": {
      "text/plain": [
       "PythonRDD[24] at RDD at PythonRDD.scala:43"
      ]
     },
     "execution_count": 17,
     "metadata": {},
     "output_type": "execute_result"
    }
   ],
   "source": [
    "mapdifdiaspvp.reduceByKey(lambda x,y: (x[0]+y[0],y[1]+1)).cache()"
   ]
  },
  {
   "cell_type": "code",
   "execution_count": 25,
   "metadata": {
    "collapsed": false
   },
   "outputs": [],
   "source": [
    "lista_pvp_n = mapdifdiaspvp.reduceByKey(lambda x,y: (x[0]+y[0],y[1]+1))"
   ]
  },
  {
   "cell_type": "code",
   "execution_count": 21,
   "metadata": {
    "collapsed": false
   },
   "outputs": [
    {
     "data": {
      "text/plain": [
       "[(0, 2023637.7233333308), (515, 327.32), (5, 1392405.1966666696)]"
      ]
     },
     "execution_count": 21,
     "metadata": {},
     "output_type": "execute_result"
    }
   ],
   "source": [
    "lista_pvp_n.map(lambda x: (x[0],x[1][0]/x[1][1])).take(3)"
   ]
  },
  {
   "cell_type": "code",
   "execution_count": 26,
   "metadata": {
    "collapsed": false
   },
   "outputs": [],
   "source": [
    "media = lista_pvp_n.map(lambda x: (x[0],x[1][0]/x[1][1])).collect()"
   ]
  },
  {
   "cell_type": "code",
   "execution_count": 27,
   "metadata": {
    "collapsed": false
   },
   "outputs": [
    {
     "name": "stdout",
     "output_type": "stream",
     "text": [
      "Populating the interactive namespace from numpy and matplotlib\n"
     ]
    }
   ],
   "source": [
    "%pylab inline"
   ]
  },
  {
   "cell_type": "code",
   "execution_count": 28,
   "metadata": {
    "collapsed": true
   },
   "outputs": [],
   "source": [
    "xs = [t[0] for t in media]"
   ]
  },
  {
   "cell_type": "code",
   "execution_count": 31,
   "metadata": {
    "collapsed": true
   },
   "outputs": [],
   "source": [
    "ys = [t[1] for t in media]"
   ]
  },
  {
   "cell_type": "code",
   "execution_count": 32,
   "metadata": {
    "collapsed": false
   },
   "outputs": [
    {
     "data": {
      "text/plain": [
       "<Container object of 452 artists>"
      ]
     },
     "execution_count": 32,
     "metadata": {},
     "output_type": "execute_result"
    },
    {
     "data": {
      "image/png": "[encoded data removed]",
      "text/plain": [
       "<matplotlib.figure.Figure at 0x7fcaf5017f10>"
      ]
     },
     "metadata": {},
     "output_type": "display_data"
    }
   ],
   "source": [
    "plt.bar(xs,ys)"
   ]
  },
  {
   "cell_type": "code",
   "execution_count": 41,
   "metadata": {
    "collapsed": false
   },
   "outputs": [
    {
     "data": {
      "text/plain": [
       "(0, 40)"
      ]
     },
     "execution_count": 41,
     "metadata": {},
     "output_type": "execute_result"
    },
    {
     "data": {
      "image/png": "[encoded data removed]",
      "text/plain": [
       "<matplotlib.figure.Figure at 0x7fcaed5390d0>"
      ]
     },
     "metadata": {},
     "output_type": "display_data"
    }
   ],
   "source": [
    "plt.bar(xs,ys)\n",
    "plt.xlim(0,40)"
   ]
  },
  {
   "cell_type": "code",
   "execution_count": 49,
   "metadata": {
    "collapsed": true
   },
   "outputs": [
    {
     "data": {
      "text/plain": [
       "[(24, 4759034.123333336),\n",
       " (1, 3553273.0799999796),\n",
       " (20, 2779497.019999997),\n",
       " (3, 2662138.590000002),\n",
       " (2, 2458512.4999999907),\n",
       " (0, 2023637.7233333308),\n",
       " (4, 1583155.3866666697),\n",
       " (5, 1392405.1966666696),\n",
       " (7, 1181126.0766666678),\n",
       " (6, 1168300.610000001),\n",
       " (8, 1096465.4266666677),\n",
       " (12, 907169.1333333332),\n",
       " (11, 890133.4933333333),\n",
       " (9, 859636.883333333),\n",
       " (10, 854746.7599999998),\n",
       " (13, 781420.356666666),\n",
       " (14, 772182.5533333322),\n",
       " (19, 747532.203333333),\n",
       " (18, 732393.2566666672),\n",
       " (15, 730657.0399999995),\n",
       " (17, 708601.056666667),\n",
       " (16, 686699.8733333327),\n",
       " (26, 610755.0566666665),\n",
       " (21, 609130.43),\n",
       " (25, 542474.9333333335),\n",
       " (22, 535715.5400000004),\n",
       " (27, 521851.0666666665),\n",
       " (23, 500482.1433333337),\n",
       " (30, 496476.12000000005),\n",
       " (33, 459273.80333333364),\n",
       " (28, 451264.21333333384),\n",
       " (29, 411156.00000000006),\n",
       " (40, 403861.166666667),\n",
       " (32, 398982.98666666687),\n",
       " (34, 385861.99666666676),\n",
       " (31, 381842.65000000014),\n",
       " (35, 369273.95333333337),\n",
       " (47, 345790.1600000003),\n",
       " (46, 325223.4533333334),\n",
       " (41, 321155.8500000004),\n",
       " (39, 317986.97666666686),\n",
       " (48, 312784.6566666667),\n",
       " (36, 304833.1133333333),\n",
       " (38, 290315.00000000006),\n",
       " (37, 275044.67),\n",
       " (55, 272595.73333333357),\n",
       " (62, 271919.24666666676),\n",
       " (44, 271410.51666666666),\n",
       " (53, 262160.5466666667),\n",
       " (60, 256817.56666666674),\n",
       " (54, 255989.55000000005),\n",
       " (42, 253673.91333333336),\n",
       " (68, 250118.9733333334),\n",
       " (43, 248087.56666666662),\n",
       " (45, 246455.93666666676),\n",
       " (61, 244503.83),\n",
       " (51, 239716.96333333338),\n",
       " (49, 226265.62999999998),\n",
       " (69, 220869.58999999994),\n",
       " (153, 213672.84),\n",
       " (67, 206362.7566666667),\n",
       " (63, 205378.7633333334),\n",
       " (52, 200776.62666666668),\n",
       " (56, 200093.95333333334),\n",
       " (50, 198662.21),\n",
       " (75, 194258.52333333323),\n",
       " (76, 194249.3066666666),\n",
       " (58, 193415.46666666665),\n",
       " (152, 192692.15666666665),\n",
       " (59, 185716.22),\n",
       " (74, 182783.05999999997),\n",
       " (154, 175562.8266666667),\n",
       " (57, 174142.63666666666),\n",
       " (66, 173818.71333333335),\n",
       " (82, 173791.23000000013),\n",
       " (64, 167390.17000000013),\n",
       " (65, 167275.13999999998),\n",
       " (151, 167056.54999999996),\n",
       " (160, 166317.90666666665),\n",
       " (157, 162546.45000000004),\n",
       " (70, 162014.02666666664),\n",
       " (83, 160867.27666666658),\n",
       " (73, 155007.29666666657),\n",
       " (81, 153253.79000000004),\n",
       " (155, 147735.97),\n",
       " (90, 146017.44666666668),\n",
       " (72, 140378.77333333335),\n",
       " (159, 139348.65000000002),\n",
       " (89, 138832.73333333337),\n",
       " (156, 130061.67666666671),\n",
       " (71, 124336.33999999998),\n",
       " (96, 122834.3033333333),\n",
       " (88, 122695.37),\n",
       " (161, 121398.23333333332),\n",
       " (80, 120831.60333333335),\n",
       " (79, 119596.55),\n",
       " (77, 117452.78333333333),\n",
       " (84, 117234.3466666667),\n",
       " (158, 116432.76333333335),\n",
       " (95, 114387.98666666665),\n",
       " (87, 114074.4533333333),\n",
       " (104, 111252.77666666669),\n",
       " (78, 111111.95666666665),\n",
       " (97, 110723.88),\n",
       " (85, 110566.65666666662),\n",
       " (150, 109311.74666666669),\n",
       " (91, 101844.79999999999),\n",
       " (92, 99926.73666666662),\n",
       " (103, 97776.69666666666),\n",
       " (94, 97057.3),\n",
       " (107, 96449.51000000001),\n",
       " (163, 94094.4266666667),\n",
       " (146, 92902.21666666667),\n",
       " (144, 92739.92000000003),\n",
       " (102, 90118.40666666666),\n",
       " (162, 88490.67000000003),\n",
       " (149, 88404.73666666668),\n",
       " (124, 88026.69666666666),\n",
       " (145, 87488.00666666665),\n",
       " (93, 84505.54999999999),\n",
       " (98, 83997.70333333332),\n",
       " (164, 82233.30666666669),\n",
       " (99, 81436.46999999997),\n",
       " (110, 80040.83666666666),\n",
       " (138, 79616.10333333335),\n",
       " (105, 79107.36666666668),\n",
       " (139, 77968.08666666666),\n",
       " (86, 76599.87000000002),\n",
       " (118, 75764.51999999999),\n",
       " (123, 75313.43666666669),\n",
       " (116, 74445.87999999999),\n",
       " (111, 73127.79666666668),\n",
       " (101, 72928.50333333331),\n",
       " (129, 72843.34999999999),\n",
       " (109, 72564.97333333334),\n",
       " (125, 69927.49),\n",
       " (117, 66556.11333333333),\n",
       " (166, 65174.069999999985),\n",
       " (100, 64879.42333333332),\n",
       " (148, 64368.74666666665),\n",
       " (147, 64234.98),\n",
       " (131, 64109.39666666666),\n",
       " (108, 64033.94),\n",
       " (135, 63470.71000000004),\n",
       " (335, 62852.829999999994),\n",
       " (140, 61802.766666666656),\n",
       " (120, 60938.64666666667),\n",
       " (106, 59846.656666666655),\n",
       " (115, 59435.22333333335),\n",
       " (167, 59415.95333333333),\n",
       " (132, 59196.52999999999),\n",
       " (142, 59026.083333333314),\n",
       " (119, 57315.76666666666),\n",
       " (130, 55854.006666666675),\n",
       " (128, 55540.063333333324),\n",
       " (143, 55411.42333333332),\n",
       " (137, 54949.89666666667),\n",
       " (122, 53486.09666666668),\n",
       " (127, 53173.170000000006),\n",
       " (165, 53060.11000000001),\n",
       " (168, 52951.21666666667),\n",
       " (112, 52252.02666666665),\n",
       " (114, 51443.850000000006),\n",
       " (133, 50960.02333333334),\n",
       " (126, 49494.30333333332),\n",
       " (169, 49150.72999999999),\n",
       " (171, 48159.37),\n",
       " (113, 48136.696666666656),\n",
       " (185, 47302.29),\n",
       " (121, 46405.646666666675),\n",
       " (194, 46146.84333333332),\n",
       " (141, 45229.11000000001),\n",
       " (136, 44217.93333333334),\n",
       " (172, 42586.89000000001),\n",
       " (209, 40778.96),\n",
       " (170, 40759.149999999994),\n",
       " (250, 39297.74),\n",
       " (200, 39087.53333333333),\n",
       " (192, 38989.72666666668),\n",
       " (173, 38861.74),\n",
       " (174, 37948.026666666665),\n",
       " (199, 37852.973333333335),\n",
       " (202, 37248.42333333333),\n",
       " (244, 37216.17666666666),\n",
       " (208, 37127.39000000001),\n",
       " (195, 37053.85333333333),\n",
       " (180, 37038.19666666666),\n",
       " (181, 35240.4),\n",
       " (176, 33721.77),\n",
       " (196, 33531.62),\n",
       " (178, 32723.520000000004),\n",
       " (175, 32539.203333333327),\n",
       " (206, 32474.770000000004),\n",
       " (187, 32136.34),\n",
       " (134, 32114.949999999997),\n",
       " (188, 31998.313333333328),\n",
       " (216, 31940.753333333338),\n",
       " (179, 31908.55),\n",
       " (201, 31853.326666666664),\n",
       " (243, 31804.19666666666),\n",
       " (193, 31625.839999999993),\n",
       " (190, 31605.97),\n",
       " (182, 30992.036666666663),\n",
       " (198, 30803.02666666667),\n",
       " (211, 30235.13666666667),\n",
       " (249, 29228.58666666667),\n",
       " (215, 28908.73),\n",
       " (177, 27903.8),\n",
       " (212, 27635.736666666668),\n",
       " (186, 26404.123333333326),\n",
       " (203, 26385.093333333334),\n",
       " (197, 26112.989999999994),\n",
       " (191, 26039.616666666665),\n",
       " (204, 25670.58666666667),\n",
       " (207, 25329.61),\n",
       " (237, 24873.419999999995),\n",
       " (184, 24688.36333333333),\n",
       " (223, 24097.676666666666),\n",
       " (242, 23657.876666666667),\n",
       " (227, 23414.56),\n",
       " (210, 23219.193333333333),\n",
       " (230, 22568.30333333333),\n",
       " (189, 22525.24666666667),\n",
       " (248, 22189.29666666666),\n",
       " (183, 22164.55),\n",
       " (221, 21662.2),\n",
       " (251, 21550.44),\n",
       " (299, 21540.906666666666),\n",
       " (240, 20819.45666666667),\n",
       " (226, 20312.539999999997),\n",
       " (213, 20205.239999999998),\n",
       " (245, 20084.373333333333),\n",
       " (325, 20047.27666666666),\n",
       " (205, 19842.103333333333),\n",
       " (246, 19765.68333333333),\n",
       " (312, 19748.88),\n",
       " (315, 19519.073333333334),\n",
       " (255, 19286.513333333332),\n",
       " (342, 19259.77),\n",
       " (217, 19236.57666666667),\n",
       " (258, 19140.079999999998),\n",
       " (278, 19042.94),\n",
       " (288, 18744.62),\n",
       " (235, 18699.16),\n",
       " (220, 18588.983333333334),\n",
       " (262, 18235.436666666665),\n",
       " (214, 18161.296666666665),\n",
       " (345, 18065.236666666668),\n",
       " (264, 17942.94),\n",
       " (241, 17904.163333333334),\n",
       " (236, 17771.126666666667),\n",
       " (270, 17763.27333333333),\n",
       " (287, 17697.436666666665),\n",
       " (257, 17570.816666666666),\n",
       " (252, 17298.406666666662),\n",
       " (260, 16762.853333333336),\n",
       " (261, 16738.113333333335),\n",
       " (253, 16544.83),\n",
       " (326, 16360.366666666663),\n",
       " (314, 16168.593333333336),\n",
       " (313, 15901.79),\n",
       " (225, 15568.32666666667),\n",
       " (273, 15074.839999999997),\n",
       " (300, 15067.82666666667),\n",
       " (263, 14947.376666666665),\n",
       " (247, 14844.160000000002),\n",
       " (224, 14545.1),\n",
       " (294, 14230.050000000001),\n",
       " (346, 14093.586666666668),\n",
       " (285, 13970.676666666666),\n",
       " (323, 13727.660000000002),\n",
       " (316, 13682.306666666665),\n",
       " (292, 13574.90333333333),\n",
       " (277, 13312.423333333334),\n",
       " (284, 13247.153333333334),\n",
       " (266, 12670.063333333332),\n",
       " (228, 12520.933333333334),\n",
       " (416, 12495.61),\n",
       " (286, 12414.146666666667),\n",
       " (232, 12410.090000000002),\n",
       " (256, 12390.776666666665),\n",
       " (229, 12319.746666666666),\n",
       " (276, 12309.57),\n",
       " (290, 12275.616666666667),\n",
       " (268, 12181.966666666667),\n",
       " (297, 12148.563333333334),\n",
       " (275, 12128.13),\n",
       " (311, 12114.296666666667),\n",
       " (267, 12048.08),\n",
       " (233, 11919.843333333332),\n",
       " (218, 11914.88),\n",
       " (238, 11829.813333333334),\n",
       " (219, 11710.48666666667),\n",
       " (254, 11607.863333333333),\n",
       " (328, 11398.49),\n",
       " (318, 11253.746666666666),\n",
       " (306, 11253.483333333332),\n",
       " (271, 11220.876666666669),\n",
       " (322, 11113.306666666665),\n",
       " (265, 11058.576666666668),\n",
       " (337, 11034.053333333335),\n",
       " (231, 11006.279999999999),\n",
       " (341, 10460.246666666668),\n",
       " (281, 10379.299999999997),\n",
       " (320, 10341.653333333332),\n",
       " (274, 10341.136666666665),\n",
       " (307, 10320.77),\n",
       " (222, 10085.836666666668),\n",
       " (234, 10020.826666666664),\n",
       " (289, 9963.836666666668),\n",
       " (321, 9887.586666666668),\n",
       " (239, 9754.323333333334),\n",
       " (331, 9441.173333333334),\n",
       " (279, 9434.923333333332),\n",
       " (327, 9181.706666666665),\n",
       " (293, 9103.470000000001),\n",
       " (272, 8910.556666666667),\n",
       " (280, 8761.676666666666),\n",
       " (302, 8636.659999999998),\n",
       " (298, 8614.943333333333),\n",
       " (291, 8562.06),\n",
       " (319, 8446.226666666667),\n",
       " (301, 8409.996666666668),\n",
       " (324, 8310.223333333333),\n",
       " (295, 8039.506666666668),\n",
       " (259, 7901.796666666666),\n",
       " (336, 7860.263333333333),\n",
       " (305, 7826.096666666665),\n",
       " (317, 7779.803333333333),\n",
       " (332, 7463.236666666668),\n",
       " (304, 7089.013333333332),\n",
       " (309, 7071.863333333334),\n",
       " (333, 6973.316666666666),\n",
       " (296, 6942.84),\n",
       " (282, 6671.233333333333),\n",
       " (283, 6639.213333333333),\n",
       " (310, 6557.236666666665),\n",
       " (303, 5976.926666666666),\n",
       " (409, 5866.62),\n",
       " (340, 5763.910000000001),\n",
       " (269, 5542.196666666667),\n",
       " (308, 5467.686666666667),\n",
       " (339, 5143.330000000001),\n",
       " (348, 4614.956666666667),\n",
       " (-1, 4565.73),\n",
       " (417, 4456.575),\n",
       " (354, 4375.88),\n",
       " (329, 4355.526666666666),\n",
       " (334, 4302.053333333333),\n",
       " (330, 4004.226666666667),\n",
       " (374, 3980.21),\n",
       " (360, 3913.2433333333333),\n",
       " (343, 3693.4833333333336),\n",
       " (338, 3625.9266666666663),\n",
       " (359, 3586.195),\n",
       " (351, 3577.153333333334),\n",
       " (379, 3549.87),\n",
       " (347, 3508.4066666666663),\n",
       " (365, 3273.4249999999997),\n",
       " (407, 3117.665),\n",
       " (480, 2761.8),\n",
       " (446, 2761.24),\n",
       " (388, 2761.24),\n",
       " (344, 2400.9266666666667),\n",
       " (353, 2353.2633333333333),\n",
       " (405, 2018.92),\n",
       " (531, 2016.46),\n",
       " (523, 1767.38),\n",
       " (547, 1733.98),\n",
       " (350, 1667.8233333333335),\n",
       " (366, 1505.715),\n",
       " (1048, 1428.86),\n",
       " (471, 1298.4450000000002),\n",
       " (443, 1272.405),\n",
       " (349, 1255.6133333333335),\n",
       " (398, 1179.76),\n",
       " (425, 1129.1866666666667),\n",
       " (358, 1121.68),\n",
       " (750, 1072.06),\n",
       " (437, 1053.57),\n",
       " (389, 1007.0799999999999),\n",
       " (373, 928.1400000000001),\n",
       " (466, 915.74),\n",
       " (381, 862.69),\n",
       " (482, 801.49),\n",
       " (393, 776.3399999999999),\n",
       " (462, 756.5966666666667),\n",
       " (449, 744.46),\n",
       " (447, 729.2900000000001),\n",
       " (620, 702.93),\n",
       " (352, 688.4100000000002),\n",
       " (420, 671.175),\n",
       " (368, 650.565),\n",
       " (378, 639.85),\n",
       " (430, 637.9100000000001),\n",
       " (361, 637.76),\n",
       " (611, 637.24),\n",
       " (633, 614.3599999999999),\n",
       " (433, 601.38),\n",
       " (402, 593.535),\n",
       " (387, 575.3),\n",
       " (364, 550.3199999999999),\n",
       " (355, 546.2266666666666),\n",
       " (704, 543.38),\n",
       " (422, 527.47),\n",
       " (444, 525.86),\n",
       " (356, 501.72333333333336),\n",
       " (392, 480.78),\n",
       " (540, 470.24),\n",
       " (457, 467.9200000000001),\n",
       " (426, 465.16999999999996),\n",
       " (362, 453.65999999999997),\n",
       " (472, 450.35),\n",
       " (383, 441.84000000000003),\n",
       " (363, 429.805),\n",
       " (367, 427.58000000000004),\n",
       " (1067, 398.35),\n",
       " (565, 388.02),\n",
       " (408, 378.31),\n",
       " (382, 374.12),\n",
       " (384, 364.34666666666664),\n",
       " (513, 348.25),\n",
       " (396, 347.48),\n",
       " (376, 339.05),\n",
       " (428, 332.48),\n",
       " (515, 327.32),\n",
       " (576, 316.80500000000006),\n",
       " (377, 314.98),\n",
       " (372, 302.13),\n",
       " (400, 295.28499999999997),\n",
       " (575, 284.66),\n",
       " (399, 272.83000000000004),\n",
       " (429, 272.01),\n",
       " (478, 268.3),\n",
       " (682, 240.24),\n",
       " (517, 238.46),\n",
       " (485, 233.87),\n",
       " (369, 214.08),\n",
       " (410, 212.03),\n",
       " (553, 211.43),\n",
       " (371, 198.61),\n",
       " (380, 196.21499999999997),\n",
       " (357, 190.26999999999998),\n",
       " (589, 168.59),\n",
       " (451, 116.12),\n",
       " (450, 101.74666666666667),\n",
       " (551, 68.58),\n",
       " (370, 65.01),\n",
       " (572, 13.066666666666668),\n",
       " (411, 10.77),\n",
       " (580, 0.0),\n",
       " (579, 0.0)]"
      ]
     },
     "execution_count": 49,
     "metadata": {},
     "output_type": "execute_result"
    }
   ],
   "source": [
    "sorted(media, key = lambda x: x[1], reverse = True)"
   ]
  },
  {
   "cell_type": "markdown",
   "metadata": {},
   "source": [
    "### Dia de la semana que se hacen mas reservas"
   ]
  },
  {
   "cell_type": "code",
   "execution_count": 45,
   "metadata": {
    "collapsed": false
   },
   "outputs": [],
   "source": [
    "import datetime\n",
    "import numpy as np"
   ]
  },
  {
   "cell_type": "code",
   "execution_count": 20,
   "metadata": {
    "collapsed": false
   },
   "outputs": [],
   "source": [
    "fecha = lts.map(lambda x: (x.split(',')[9],1))"
   ]
  },
  {
   "cell_type": "code",
   "execution_count": 10,
   "metadata": {
    "collapsed": false
   },
   "outputs": [
    {
     "data": {
      "text/plain": [
       "[(u'141025', 1), (u'150719', 1), (u'150626', 1)]"
      ]
     },
     "execution_count": 10,
     "metadata": {},
     "output_type": "execute_result"
    }
   ],
   "source": [
    "fecha.take(3)"
   ]
  },
  {
   "cell_type": "code",
   "execution_count": 23,
   "metadata": {
    "collapsed": true
   },
   "outputs": [],
   "source": [
    "def getDia(d):\n",
    "    if d == '':\n",
    "        return 'Fallo'\n",
    "    return datetime.datetime.strptime(d, '%y%m%d').strftime('%A')"
   ]
  },
  {
   "cell_type": "code",
   "execution_count": 24,
   "metadata": {
    "collapsed": false
   },
   "outputs": [],
   "source": [
    "dias = fecha.map(lambda x: (getDia(x[0]),x[1]))"
   ]
  },
  {
   "cell_type": "code",
   "execution_count": 30,
   "metadata": {
    "collapsed": false
   },
   "outputs": [],
   "source": [
    "resul = dias.reduceByKey(lambda x,y: x+y).collect()"
   ]
  },
  {
   "cell_type": "code",
   "execution_count": 57,
   "metadata": {
    "collapsed": true
   },
   "outputs": [],
   "source": [
    "resul = sorted(resul, key = lambda x: x[1], reverse = True)"
   ]
  },
  {
   "cell_type": "code",
   "execution_count": 58,
   "metadata": {
    "collapsed": false
   },
   "outputs": [],
   "source": [
    "xs = [x[0] for x in resul]"
   ]
  },
  {
   "cell_type": "code",
   "execution_count": 59,
   "metadata": {
    "collapsed": true
   },
   "outputs": [],
   "source": [
    "ys = [x[1] for x in resul]"
   ]
  },
  {
   "cell_type": "code",
   "execution_count": 60,
   "metadata": {
    "collapsed": false
   },
   "outputs": [
    {
     "name": "stdout",
     "output_type": "stream",
     "text": [
      "Populating the interactive namespace from numpy and matplotlib\n"
     ]
    }
   ],
   "source": [
    "%pylab inline"
   ]
  },
  {
   "cell_type": "code",
   "execution_count": 61,
   "metadata": {
    "collapsed": false
   },
   "outputs": [
    {
     "data": {
      "text/plain": [
       "([<matplotlib.axis.XTick at 0x7ff5816be490>,\n",
       "  <matplotlib.axis.XTick at 0x7ff5815737d0>,\n",
       "  <matplotlib.axis.XTick at 0x7ff5813ac3d0>,\n",
       "  <matplotlib.axis.XTick at 0x7ff5813d1f90>,\n",
       "  <matplotlib.axis.XTick at 0x7ff5813e1710>,\n",
       "  <matplotlib.axis.XTick at 0x7ff5813e1e50>,\n",
       "  <matplotlib.axis.XTick at 0x7ff5813ea5d0>,\n",
       "  <matplotlib.axis.XTick at 0x7ff5813ead10>],\n",
       " <a list of 8 Text xticklabel objects>)"
      ]
     },
     "execution_count": 61,
     "metadata": {},
     "output_type": "execute_result"
    },
    {
     "data": {
      "image/png": "[encoded data removed]",
      "text/plain": [
       "<matplotlib.figure.Figure at 0x7ff5814e6890>"
      ]
     },
     "metadata": {},
     "output_type": "display_data"
    }
   ],
   "source": [
    "plt.bar(np.arange(len(xs)),ys)\n",
    "plt.xticks(np.arange(len(xs)),xs, rotation = 45)"
   ]
  },
  {
   "cell_type": "code",
   "execution_count": 62,
   "metadata": {
    "collapsed": false
   },
   "outputs": [
    {
     "data": {
      "text/plain": [
       "[('Sunday', 470775),\n",
       " ('Saturday', 48575),\n",
       " ('Monday', 39841),\n",
       " ('Friday', 32483),\n",
       " ('Thursday', 17370),\n",
       " ('Wednesday', 11837),\n",
       " ('Tuesday', 10515),\n",
       " ('Fallo', 9)]"
      ]
     },
     "execution_count": 62,
     "metadata": {},
     "output_type": "execute_result"
    }
   ],
   "source": [
    "resul"
   ]
  },
  {
   "cell_type": "code",
   "execution_count": null,
   "metadata": {
    "collapsed": true
   },
   "outputs": [],
   "source": []
  }
 ],
 "metadata": {
  "kernelspec": {
   "display_name": "PySpark",
   "language": "python",
   "name": "pyspark"
  },
  "language_info": {
   "codemirror_mode": {
    "name": "ipython",
    "version": 2
   },
   "file_extension": ".py",
   "mimetype": "text/x-python",
   "name": "python",
   "nbconvert_exporter": "python",
   "pygments_lexer": "ipython2",
   "version": "2.7.10"
  }
 },
 "nbformat": 4,
 "nbformat_minor": 0
}
