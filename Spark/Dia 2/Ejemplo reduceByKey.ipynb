{
 "cells": [
  {
   "cell_type": "code",
   "execution_count": 1,
   "metadata": {
    "collapsed": true
   },
   "outputs": [],
   "source": [
    "ls = sc.textFile('../../Data/spark/coupon150720.csv')"
   ]
  },
  {
   "cell_type": "code",
   "execution_count": 2,
   "metadata": {
    "collapsed": false
   },
   "outputs": [
    {
     "data": {
      "text/plain": [
       "[u'79062005698500,1,MAA,AUH,9W,9W,56.79,USD,1,H,H,0526,150904,OK,IAF0',\n",
       " u'79062005698500,2,AUH,CDG,9W,9W,84.34,USD,1,H,H,6120,150905,OK,IAF0',\n",
       " u'79062005924069,1,CJB,MAA,9W,9W,60.0,USD,1,H,H,2768,150721,OK,IAA0']"
      ]
     },
     "execution_count": 2,
     "metadata": {},
     "output_type": "execute_result"
    }
   ],
   "source": [
    "ls.take(3)"
   ]
  },
  {
   "cell_type": "code",
   "execution_count": 6,
   "metadata": {
    "collapsed": false
   },
   "outputs": [
    {
     "data": {
      "text/plain": [
       "3"
      ]
     },
     "execution_count": 6,
     "metadata": {},
     "output_type": "execute_result"
    }
   ],
   "source": [
    "ls.getNumPartitions()"
   ]
  },
  {
   "cell_type": "markdown",
   "metadata": {},
   "source": [
    "### Ingreso total por aerolinea"
   ]
  },
  {
   "cell_type": "code",
   "execution_count": 3,
   "metadata": {
    "collapsed": true
   },
   "outputs": [],
   "source": [
    "def getAlIng(l):\n",
    "    elems = l.split(\",\")\n",
    "    al = elems[4]\n",
    "    ingreso = float(elems[6])\n",
    "    return (al, ingreso)"
   ]
  },
  {
   "cell_type": "code",
   "execution_count": 13,
   "metadata": {
    "collapsed": false
   },
   "outputs": [
    {
     "data": {
      "text/plain": [
       "[(u'GA', 20712226.56999984),\n",
       " (u'BA', 12443986.980000038),\n",
       " (u'AF', 10221507.909999428),\n",
       " (u'QF', 8358587.900000253),\n",
       " (u'LH', 7715608.339999713),\n",
       " (u'QR', 6935584.369999946),\n",
       " (u'SV', 6286299.340001837),\n",
       " (u'UA', 5151815.289999981),\n",
       " (u'JJ', 5066300.509999913),\n",
       " (u'AA', 4151996.4599999674)]"
      ]
     },
     "execution_count": 13,
     "metadata": {},
     "output_type": "execute_result"
    }
   ],
   "source": [
    "ls.map(getAlIng).groupByKey().mapValues(lambda x: sum(x)).sortBy(lambda x: x[1], False).take(10)"
   ]
  },
  {
   "cell_type": "code",
   "execution_count": 16,
   "metadata": {
    "collapsed": false
   },
   "outputs": [
    {
     "data": {
      "text/plain": [
       "[(u'GA', 20712226.569999855),\n",
       " (u'BA', 12443986.980000002),\n",
       " (u'AF', 10221507.909999428),\n",
       " (u'QF', 8358587.9000001205),\n",
       " (u'LH', 7715608.339999718),\n",
       " (u'QR', 6935584.369999997),\n",
       " (u'SV', 6286299.340001843),\n",
       " (u'UA', 5151815.29),\n",
       " (u'JJ', 5066300.509999905),\n",
       " (u'AA', 4151996.4599999613)]"
      ]
     },
     "execution_count": 16,
     "metadata": {},
     "output_type": "execute_result"
    }
   ],
   "source": [
    "ls.map(getAlIng).reduceByKey(lambda e,acum: e+acum).sortBy(lambda x: x[1],False).take(10)"
   ]
  },
  {
   "cell_type": "code",
   "execution_count": null,
   "metadata": {
    "collapsed": true
   },
   "outputs": [],
   "source": []
  },
  {
   "cell_type": "code",
   "execution_count": null,
   "metadata": {
    "collapsed": true
   },
   "outputs": [],
   "source": []
  },
  {
   "cell_type": "code",
   "execution_count": null,
   "metadata": {
    "collapsed": true
   },
   "outputs": [],
   "source": []
  },
  {
   "cell_type": "code",
   "execution_count": 7,
   "metadata": {
    "collapsed": true
   },
   "outputs": [],
   "source": [
    "def getALIngreso(l):\n",
    "    elems = l.split(\",\")\n",
    "    al = elems[4]\n",
    "    ingreso = float(elems[6])\n",
    "    return (al, ingreso)"
   ]
  },
  {
   "cell_type": "code",
   "execution_count": 8,
   "metadata": {
    "collapsed": false
   },
   "outputs": [
    {
     "data": {
      "text/plain": [
       "(u'9W', 56.79)"
      ]
     },
     "execution_count": 8,
     "metadata": {},
     "output_type": "execute_result"
    }
   ],
   "source": [
    "getALIngreso(ls.first())"
   ]
  },
  {
   "cell_type": "code",
   "execution_count": 9,
   "metadata": {
    "collapsed": true
   },
   "outputs": [],
   "source": [
    "als = ls.map(getALIngreso)"
   ]
  },
  {
   "cell_type": "code",
   "execution_count": 10,
   "metadata": {
    "collapsed": false
   },
   "outputs": [
    {
     "data": {
      "text/plain": [
       "[(u'9W', 56.79), (u'9W', 84.34), (u'9W', 60.0)]"
      ]
     },
     "execution_count": 10,
     "metadata": {},
     "output_type": "execute_result"
    }
   ],
   "source": [
    "als.take(3)"
   ]
  },
  {
   "cell_type": "code",
   "execution_count": 11,
   "metadata": {
    "collapsed": false
   },
   "outputs": [
    {
     "data": {
      "text/plain": [
       "[(u'', <pyspark.resultiterable.ResultIterable at 0x7f00b98d22d0>),\n",
       " (u'BE', <pyspark.resultiterable.ResultIterable at 0x7f00b98d2490>)]"
      ]
     },
     "execution_count": 11,
     "metadata": {},
     "output_type": "execute_result"
    }
   ],
   "source": [
    "als.groupByKey().take(2)"
   ]
  },
  {
   "cell_type": "code",
   "execution_count": 18,
   "metadata": {
    "collapsed": false
   },
   "outputs": [],
   "source": [
    "totales = als.groupByKey().mapValues(lambda vs: sum(vs))"
   ]
  },
  {
   "cell_type": "code",
   "execution_count": 20,
   "metadata": {
    "collapsed": false
   },
   "outputs": [
    {
     "data": {
      "text/plain": [
       "[(u'GA', 20712226.56999984),\n",
       " (u'BA', 12443986.980000038),\n",
       " (u'AF', 10221507.909999428),\n",
       " (u'QF', 8358587.900000253),\n",
       " (u'LH', 7715608.339999713),\n",
       " (u'QR', 6935584.369999946),\n",
       " (u'SV', 6286299.340001837),\n",
       " (u'UA', 5151815.289999981),\n",
       " (u'JJ', 5066300.509999913),\n",
       " (u'AA', 4151996.4599999674)]"
      ]
     },
     "execution_count": 20,
     "metadata": {},
     "output_type": "execute_result"
    }
   ],
   "source": [
    "totales.sortBy(lambda x: x[1], False).take(10)"
   ]
  },
  {
   "cell_type": "markdown",
   "metadata": {},
   "source": [
    "#### Lo mismo con reduceByKey"
   ]
  },
  {
   "cell_type": "code",
   "execution_count": 23,
   "metadata": {
    "collapsed": false
   },
   "outputs": [
    {
     "data": {
      "text/plain": [
       "[(u'GA', 20712226.569999855),\n",
       " (u'BA', 12443986.980000002),\n",
       " (u'AF', 10221507.909999428),\n",
       " (u'QF', 8358587.9000001205),\n",
       " (u'LH', 7715608.339999718),\n",
       " (u'QR', 6935584.369999997),\n",
       " (u'SV', 6286299.340001843),\n",
       " (u'UA', 5151815.29),\n",
       " (u'JJ', 5066300.509999905),\n",
       " (u'AA', 4151996.4599999613)]"
      ]
     },
     "execution_count": 23,
     "metadata": {},
     "output_type": "execute_result"
    }
   ],
   "source": [
    "als.reduceByKey(lambda e,acum: e+acum).sortBy(lambda x: x[1], False).take(10)\n"
   ]
  },
  {
   "cell_type": "markdown",
   "metadata": {},
   "source": [
    "### Top 5 de ingreso medio por pasajero con reduceByKey"
   ]
  },
  {
   "cell_type": "code",
   "execution_count": 34,
   "metadata": {
    "collapsed": false
   },
   "outputs": [],
   "source": [
    "grup = ls.map(getAlIng).map(lambda x: (x[0], (x[1],1))).reduceByKey(lambda x,acum: (x[0]+acum[0], x[1]+acum[1]))"
   ]
  },
  {
   "cell_type": "code",
   "execution_count": 37,
   "metadata": {
    "collapsed": false
   },
   "outputs": [
    {
     "data": {
      "text/plain": [
       "[(u'S3', 5225.068852459017),\n",
       " (u'9V', 1488.6739864864867),\n",
       " (u'GA', 991.2527671691723),\n",
       " (u'TN', 964.6472580645161),\n",
       " (u'7F', 668.035)]"
      ]
     },
     "execution_count": 37,
     "metadata": {},
     "output_type": "execute_result"
    }
   ],
   "source": [
    "grup.mapValues(lambda x: x[0]/x[1]).sortBy(lambda x: x[1],False).take(5)"
   ]
  },
  {
   "cell_type": "code",
   "execution_count": null,
   "metadata": {
    "collapsed": true
   },
   "outputs": [],
   "source": []
  },
  {
   "cell_type": "code",
   "execution_count": null,
   "metadata": {
    "collapsed": true
   },
   "outputs": [],
   "source": []
  },
  {
   "cell_type": "code",
   "execution_count": null,
   "metadata": {
    "collapsed": true
   },
   "outputs": [],
   "source": []
  },
  {
   "cell_type": "code",
   "execution_count": null,
   "metadata": {
    "collapsed": true
   },
   "outputs": [],
   "source": []
  },
  {
   "cell_type": "code",
   "execution_count": 45,
   "metadata": {
    "collapsed": false
   },
   "outputs": [
    {
     "data": {
      "text/plain": [
       "[(u'S3', 5225.068852459017),\n",
       " (u'9V', 1488.673986486487),\n",
       " (u'GA', 991.2527671691715),\n",
       " (u'TN', 964.6472580645161),\n",
       " (u'7F', 668.035)]"
      ]
     },
     "execution_count": 45,
     "metadata": {},
     "output_type": "execute_result"
    }
   ],
   "source": [
    "als.groupByKey().mapValues(lambda vs: sum(vs)/len(vs)).sortBy(lambda x: x[1], False).take(5)"
   ]
  },
  {
   "cell_type": "code",
   "execution_count": 58,
   "metadata": {
    "collapsed": true
   },
   "outputs": [],
   "source": [
    "def calculaMediaReduce(e, acum):\n",
    "    sumaTotal = acum[0]\n",
    "    numElems = acum[1]\n",
    "    return (e[0] + sumaTotal, e[1] + numElems)"
   ]
  },
  {
   "cell_type": "code",
   "execution_count": 64,
   "metadata": {
    "collapsed": false
   },
   "outputs": [],
   "source": [
    "tr = als.map(lambda x: (x[0], (x[1], 1))).reduceByKey(calculaMediaReduce)"
   ]
  },
  {
   "cell_type": "code",
   "execution_count": 65,
   "metadata": {
    "collapsed": false
   },
   "outputs": [
    {
     "data": {
      "text/plain": [
       "[(u'', (478.31000000000006, 18811)), (u'BE', (64073.32999999998, 788))]"
      ]
     },
     "execution_count": 65,
     "metadata": {},
     "output_type": "execute_result"
    }
   ],
   "source": [
    "tr.take(2)"
   ]
  },
  {
   "cell_type": "code",
   "execution_count": 66,
   "metadata": {
    "collapsed": false
   },
   "outputs": [
    {
     "data": {
      "text/plain": [
       "[(u'S3', 5225.068852459017),\n",
       " (u'9V', 1488.6739864864867),\n",
       " (u'GA', 991.2527671691723),\n",
       " (u'TN', 964.6472580645161),\n",
       " (u'7F', 668.035)]"
      ]
     },
     "execution_count": 66,
     "metadata": {},
     "output_type": "execute_result"
    }
   ],
   "source": [
    "tr.mapValues(lambda x: x[0]/x[1]).sortBy(lambda x: x[1], False).take(5)"
   ]
  },
  {
   "cell_type": "code",
   "execution_count": null,
   "metadata": {
    "collapsed": true
   },
   "outputs": [],
   "source": []
  }
 ],
 "metadata": {
  "kernelspec": {
   "display_name": "PySpark",
   "language": "python",
   "name": "pyspark"
  },
  "language_info": {
   "codemirror_mode": {
    "name": "ipython",
    "version": 2
   },
   "file_extension": ".py",
   "mimetype": "text/x-python",
   "name": "python",
   "nbconvert_exporter": "python",
   "pygments_lexer": "ipython2",
   "version": "2.7.10"
  }
 },
 "nbformat": 4,
 "nbformat_minor": 0
}
