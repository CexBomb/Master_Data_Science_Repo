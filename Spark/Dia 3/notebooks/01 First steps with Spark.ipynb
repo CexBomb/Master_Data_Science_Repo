{
 "cells": [
  {
   "cell_type": "code",
   "execution_count": 52,
   "metadata": {
    "collapsed": false
   },
   "outputs": [],
   "source": [
    "lines = sc.textFile(\"data/coupon150720.csv\")"
   ]
  },
  {
   "cell_type": "code",
   "execution_count": 53,
   "metadata": {
    "collapsed": false
   },
   "outputs": [
    {
     "data": {
      "text/plain": [
       "u'79062005698500,1,MAA,AUH,9W,9W,56.79,USD,1,H,H,0526,150904,OK,IAF0'"
      ]
     },
     "execution_count": 53,
     "metadata": {},
     "output_type": "execute_result"
    }
   ],
   "source": [
    "lines.first()"
   ]
  },
  {
   "cell_type": "code",
   "execution_count": 54,
   "metadata": {
    "collapsed": false
   },
   "outputs": [
    {
     "data": {
      "text/plain": [
       "[u'79062005698500,1,MAA,AUH,9W,9W,56.79,USD,1,H,H,0526,150904,OK,IAF0',\n",
       " u'79062005698500,2,AUH,CDG,9W,9W,84.34,USD,1,H,H,6120,150905,OK,IAF0',\n",
       " u'79062005924069,1,CJB,MAA,9W,9W,60.0,USD,1,H,H,2768,150721,OK,IAA0',\n",
       " u'79065668570385,1,DEL,DXB,9W,9W,160.63,USD,2,S,S,0546,150804,OK,INA0',\n",
       " u'79065668737021,1,AUH,IXE,9W,9W,152.46,USD,1,V,V,0501,150803,OK,INA0']"
      ]
     },
     "execution_count": 54,
     "metadata": {},
     "output_type": "execute_result"
    }
   ],
   "source": [
    "lines.take(5)"
   ]
  },
  {
   "cell_type": "code",
   "execution_count": 72,
   "metadata": {
    "collapsed": false
   },
   "outputs": [
    {
     "data": {
      "text/plain": [
       "data/coupon150720.csv MapPartitionsRDD[32] at textFile at NativeMethodAccessorImpl.java:-2"
      ]
     },
     "execution_count": 72,
     "metadata": {},
     "output_type": "execute_result"
    }
   ],
   "source": [
    "lines.cache()"
   ]
  },
  {
   "cell_type": "code",
   "execution_count": 64,
   "metadata": {
    "collapsed": false
   },
   "outputs": [
    {
     "ename": "TypeError",
     "evalue": "'RDD' object is not iterable",
     "output_type": "error",
     "traceback": [
      "\u001b[1;31m---------------------------------------------------------------------------\u001b[0m",
      "\u001b[1;31mTypeError\u001b[0m                                 Traceback (most recent call last)",
      "\u001b[1;32m<ipython-input-64-72fa5be64500>\u001b[0m in \u001b[0;36m<module>\u001b[1;34m()\u001b[0m\n\u001b[1;32m----> 1\u001b[1;33m \u001b[0mairlines\u001b[0m \u001b[1;33m=\u001b[0m \u001b[1;33m[\u001b[0m\u001b[0ml\u001b[0m\u001b[1;33m.\u001b[0m\u001b[0msplit\u001b[0m\u001b[1;33m(\u001b[0m\u001b[1;34m\",\"\u001b[0m\u001b[1;33m)\u001b[0m\u001b[1;33m[\u001b[0m\u001b[1;36m4\u001b[0m\u001b[1;33m]\u001b[0m \u001b[1;32mfor\u001b[0m \u001b[0ml\u001b[0m \u001b[1;32min\u001b[0m \u001b[0mlines\u001b[0m\u001b[1;33m]\u001b[0m\u001b[1;33m\u001b[0m\u001b[0m\n\u001b[0m",
      "\u001b[1;31mTypeError\u001b[0m: 'RDD' object is not iterable"
     ]
    }
   ],
   "source": [
    "airlines = [l.split(\",\")[4] for l in lines]"
   ]
  },
  {
   "cell_type": "code",
   "execution_count": 65,
   "metadata": {
    "collapsed": false
   },
   "outputs": [],
   "source": [
    "airlines = lines.map(lambda l: l.split(\",\")[4])"
   ]
  },
  {
   "cell_type": "code",
   "execution_count": 66,
   "metadata": {
    "collapsed": false
   },
   "outputs": [
    {
     "data": {
      "text/plain": [
       "1232662"
      ]
     },
     "execution_count": 66,
     "metadata": {},
     "output_type": "execute_result"
    }
   ],
   "source": [
    "airlines.count()"
   ]
  },
  {
   "cell_type": "code",
   "execution_count": 67,
   "metadata": {
    "collapsed": false
   },
   "outputs": [
    {
     "data": {
      "text/plain": [
       "PythonRDD[43] at RDD at PythonRDD.scala:42"
      ]
     },
     "execution_count": 67,
     "metadata": {},
     "output_type": "execute_result"
    }
   ],
   "source": [
    "airlines.cache()"
   ]
  },
  {
   "cell_type": "code",
   "execution_count": 50,
   "metadata": {
    "collapsed": false
   },
   "outputs": [
    {
     "data": {
      "text/plain": [
       "10"
      ]
     },
     "execution_count": 50,
     "metadata": {},
     "output_type": "execute_result"
    }
   ],
   "source": [
    "len([\"\"]*10)"
   ]
  },
  {
   "cell_type": "code",
   "execution_count": 71,
   "metadata": {
    "collapsed": false
   },
   "outputs": [
    {
     "data": {
      "text/plain": [
       "15883"
      ]
     },
     "execution_count": 71,
     "metadata": {},
     "output_type": "execute_result"
    }
   ],
   "source": [
    "airlines.filter(lambda a: a == \"IB\").count()"
   ]
  },
  {
   "cell_type": "code",
   "execution_count": 73,
   "metadata": {
    "collapsed": true
   },
   "outputs": [],
   "source": [
    "def getBoardOffAmount(l):\n",
    "    elems  = l.split(\",\")\n",
    "    board  = elems[2]\n",
    "    off    = elems[3]\n",
    "    route = board + \"-\" + off\n",
    "    amount = float(elems[6])\n",
    "    \n",
    "    return (route, amount)"
   ]
  },
  {
   "cell_type": "code",
   "execution_count": 75,
   "metadata": {
    "collapsed": false
   },
   "outputs": [
    {
     "data": {
      "text/plain": [
       "(u'MAA-AUH', 56.79)"
      ]
     },
     "execution_count": 75,
     "metadata": {},
     "output_type": "execute_result"
    }
   ],
   "source": [
    "getBoardOffAmount(lines.take(1)[0])"
   ]
  },
  {
   "cell_type": "code",
   "execution_count": 76,
   "metadata": {
    "collapsed": true
   },
   "outputs": [],
   "source": [
    "routes = lines.map(getBoardOffAmount)"
   ]
  },
  {
   "cell_type": "code",
   "execution_count": 77,
   "metadata": {
    "collapsed": false
   },
   "outputs": [
    {
     "data": {
      "text/plain": [
       "[(u'MAA-AUH', 56.79), (u'AUH-CDG', 84.34), (u'CJB-MAA', 60.0)]"
      ]
     },
     "execution_count": 77,
     "metadata": {},
     "output_type": "execute_result"
    }
   ],
   "source": [
    "routes.take(3)"
   ]
  },
  {
   "cell_type": "code",
   "execution_count": 80,
   "metadata": {
    "collapsed": false
   },
   "outputs": [
    {
     "data": {
      "text/plain": [
       "[(u'SYD-CGK', 6355194.0),\n",
       " (u'SYD-CGK', 6355194.0),\n",
       " (u'SYD-CGK', 6355194.0),\n",
       " (u'CDG-IAD', 637313.52),\n",
       " (u'IAD-CDG', 637313.52)]"
      ]
     },
     "execution_count": 80,
     "metadata": {},
     "output_type": "execute_result"
    }
   ],
   "source": [
    "routes.sortBy(lambda x: x[1],False).take(5)"
   ]
  },
  {
   "cell_type": "code",
   "execution_count": 81,
   "metadata": {
    "collapsed": false
   },
   "outputs": [
    {
     "data": {
      "text/plain": [
       "[(u'LHR-MEL', 4985.75),\n",
       " (u'LHR-JFK', 4984.45),\n",
       " (u'HND-FRA', 4969.62),\n",
       " (u'ACC-JFK', 4932.0),\n",
       " (u'LHR-RUH', 4926.08)]"
      ]
     },
     "execution_count": 81,
     "metadata": {},
     "output_type": "execute_result"
    }
   ],
   "source": [
    "routes.filter(lambda x: x[1]<5e3).sortBy(lambda x: x[1],False).take(5)"
   ]
  },
  {
   "cell_type": "code",
   "execution_count": 82,
   "metadata": {
    "collapsed": true
   },
   "outputs": [],
   "source": [
    "#### Exercise to be solved by the students\n",
    "def getBoardOffAmount2(l):\n",
    "    elems  = l.split(\",\")\n",
    "    board  = elems[2]\n",
    "    off    = elems[3]    \n",
    "    route = board + \"-\" + off\n",
    "    airline = elems[4]\n",
    "    booking_class = elems[9]\n",
    "    amount = float(elems[6])\n",
    "    \n",
    "    return (route, airline, booking_class, amount)"
   ]
  },
  {
   "cell_type": "code",
   "execution_count": 83,
   "metadata": {
    "collapsed": false
   },
   "outputs": [
    {
     "data": {
      "text/plain": [
       "[(u'LHR-MEL', u'QF', u'J', 4985.75),\n",
       " (u'LHR-JFK', u'BA', u'J', 4984.45),\n",
       " (u'HND-FRA', u'LH', u'A', 4969.62),\n",
       " (u'ACC-JFK', u'DL', u'C', 4932.0),\n",
       " (u'LHR-RUH', u'BA', u'F', 4926.08)]"
      ]
     },
     "execution_count": 83,
     "metadata": {},
     "output_type": "execute_result"
    }
   ],
   "source": [
    "lines.map(getBoardOffAmount2).filter(lambda x: x[3]<5e3).sortBy(lambda x: x[3],False).take(5)"
   ]
  },
  {
   "cell_type": "code",
   "execution_count": 92,
   "metadata": {
    "collapsed": true
   },
   "outputs": [],
   "source": [
    "import math"
   ]
  },
  {
   "cell_type": "code",
   "execution_count": 90,
   "metadata": {
    "collapsed": false
   },
   "outputs": [],
   "source": [
    "amount_logs = routes.map(lambda x: math.log(x[1]+1))"
   ]
  },
  {
   "cell_type": "code",
   "execution_count": 93,
   "metadata": {
    "collapsed": false
   },
   "outputs": [],
   "source": [
    "limit_value = math.exp(amount_logs.mean() + 3*amount_logs.stdev())"
   ]
  },
  {
   "cell_type": "code",
   "execution_count": 94,
   "metadata": {
    "collapsed": false
   },
   "outputs": [
    {
     "data": {
      "text/plain": [
       "8320.431042239863"
      ]
     },
     "execution_count": 94,
     "metadata": {},
     "output_type": "execute_result"
    }
   ],
   "source": [
    "limit_value"
   ]
  },
  {
   "cell_type": "code",
   "execution_count": 95,
   "metadata": {
    "collapsed": false
   },
   "outputs": [
    {
     "data": {
      "text/plain": [
       "[(u'LAX-PVG', u'MU', u'P', 8320.0),\n",
       " (u'LAX-LHR', u'BA', u'F', 8263.86),\n",
       " (u'DXB-AKL', u'EK', u'J', 8124.71),\n",
       " (u'MIA-CCS', u'S3', u'S', 8120.0),\n",
       " (u'MIA-CCS', u'S3', u'S', 8120.0)]"
      ]
     },
     "execution_count": 95,
     "metadata": {},
     "output_type": "execute_result"
    }
   ],
   "source": [
    "lines.map(getBoardOffAmount2).filter(lambda x: x[3]<limit_value).sortBy(lambda x: x[3],False).take(5)"
   ]
  },
  {
   "cell_type": "code",
   "execution_count": 96,
   "metadata": {
    "collapsed": true
   },
   "outputs": [],
   "source": [
    "airlines2 = lines.map(getBoardOffAmount2)"
   ]
  },
  {
   "cell_type": "code",
   "execution_count": 97,
   "metadata": {
    "collapsed": false
   },
   "outputs": [
    {
     "data": {
      "text/plain": [
       "[(u'MAA-AUH', u'9W', u'H', 56.79),\n",
       " (u'AUH-CDG', u'9W', u'H', 84.34),\n",
       " (u'CJB-MAA', u'9W', u'H', 60.0),\n",
       " (u'DEL-DXB', u'9W', u'S', 160.63),\n",
       " (u'AUH-IXE', u'9W', u'V', 152.46)]"
      ]
     },
     "execution_count": 97,
     "metadata": {},
     "output_type": "execute_result"
    }
   ],
   "source": [
    "airlines2.take(5)"
   ]
  },
  {
   "cell_type": "code",
   "execution_count": 100,
   "metadata": {
    "collapsed": true
   },
   "outputs": [],
   "source": [
    "amount_per_airline_class = airlines2.map(lambda x: ((x[0],x[1],x[2]),x[3]))"
   ]
  },
  {
   "cell_type": "code",
   "execution_count": 101,
   "metadata": {
    "collapsed": false
   },
   "outputs": [
    {
     "data": {
      "text/plain": [
       "[((u'MAA-AUH', u'9W', u'H'), 56.79),\n",
       " ((u'AUH-CDG', u'9W', u'H'), 84.34),\n",
       " ((u'CJB-MAA', u'9W', u'H'), 60.0),\n",
       " ((u'DEL-DXB', u'9W', u'S'), 160.63),\n",
       " ((u'AUH-IXE', u'9W', u'V'), 152.46)]"
      ]
     },
     "execution_count": 101,
     "metadata": {},
     "output_type": "execute_result"
    }
   ],
   "source": [
    "amount_per_airline_class.take(5)"
   ]
  },
  {
   "cell_type": "code",
   "execution_count": 119,
   "metadata": {
    "collapsed": false
   },
   "outputs": [],
   "source": [
    "def getLimitValue(vs):\n",
    "    ls = [math.log(v+1) for v in vs]\n",
    "    m = sum(ls)/len(ls) \n",
    "    deviations = [(x - m)**2 for x in ls]\n",
    "    s = math.sqrt(sum(deviations)/len(deviations))\n",
    "    return math.exp(m + 3*s)\n",
    "    "
   ]
  },
  {
   "cell_type": "code",
   "execution_count": 120,
   "metadata": {
    "collapsed": false
   },
   "outputs": [
    {
     "data": {
      "text/plain": [
       "23.97491363971152"
      ]
     },
     "execution_count": 120,
     "metadata": {},
     "output_type": "execute_result"
    }
   ],
   "source": [
    "getLimitValue([1,.3,4,5,6,2,6,5])"
   ]
  },
  {
   "cell_type": "code",
   "execution_count": 121,
   "metadata": {
    "collapsed": false
   },
   "outputs": [],
   "source": [
    "groups = amount_per_airline_class.groupByKey().map(lambda x: (x[0], getLimitValue(x[1])))"
   ]
  },
  {
   "cell_type": "code",
   "execution_count": 122,
   "metadata": {
    "collapsed": false
   },
   "outputs": [
    {
     "data": {
      "text/plain": [
       "[((u'TRD-BOO', u'SK', u'V'), 62.68379060561998),\n",
       " ((u'DPS-TMC', u'GA', u'N'), 66.72409117823226),\n",
       " ((u'BEG-CDG', u'JU', u'K'), 89.11),\n",
       " ((u'SAV-CLT', u'US', u'N'), 71.03999999999999),\n",
       " ((u'DUS-AMS', u'KL', u'C'), 33.07)]"
      ]
     },
     "execution_count": 122,
     "metadata": {},
     "output_type": "execute_result"
    }
   ],
   "source": [
    "groups.take(5)"
   ]
  },
  {
   "cell_type": "code",
   "execution_count": 123,
   "metadata": {
    "collapsed": false
   },
   "outputs": [
    {
     "data": {
      "text/plain": [
       "[((u'MAA-AUH', u'9W', u'H'), 56.79),\n",
       " ((u'AUH-CDG', u'9W', u'H'), 84.34),\n",
       " ((u'CJB-MAA', u'9W', u'H'), 60.0),\n",
       " ((u'DEL-DXB', u'9W', u'S'), 160.63),\n",
       " ((u'AUH-IXE', u'9W', u'V'), 152.46)]"
      ]
     },
     "execution_count": 123,
     "metadata": {},
     "output_type": "execute_result"
    }
   ],
   "source": [
    "amount_per_airline_class.take(5)"
   ]
  },
  {
   "cell_type": "code",
   "execution_count": 124,
   "metadata": {
    "collapsed": true
   },
   "outputs": [],
   "source": [
    "joined = amount_per_airline_class.leftOuterJoin(groups)"
   ]
  },
  {
   "cell_type": "code",
   "execution_count": 126,
   "metadata": {
    "collapsed": false
   },
   "outputs": [
    {
     "data": {
      "text/plain": [
       "[((u'TRD-BOO', u'SK', u'V'), (42.76, 62.68379060561998)),\n",
       " ((u'TRD-BOO', u'SK', u'V'), (48.67, 62.68379060561998)),\n",
       " ((u'TRD-BOO', u'SK', u'V'), (42.76, 62.68379060561998)),\n",
       " ((u'TRD-BOO', u'SK', u'V'), (42.76, 62.68379060561998)),\n",
       " ((u'TRD-BOO', u'SK', u'V'), (42.76, 62.68379060561998)),\n",
       " ((u'TRD-BOO', u'SK', u'V'), (48.67, 62.68379060561998)),\n",
       " ((u'TRD-BOO', u'SK', u'V'), (42.76, 62.68379060561998)),\n",
       " ((u'TRD-BOO', u'SK', u'V'), (48.67, 62.68379060561998)),\n",
       " ((u'TRD-BOO', u'SK', u'V'), (42.76, 62.68379060561998)),\n",
       " ((u'TRD-BOO', u'SK', u'V'), (42.76, 62.68379060561998)),\n",
       " ((u'TRD-BOO', u'SK', u'V'), (42.76, 62.68379060561998)),\n",
       " ((u'TRD-BOO', u'SK', u'V'), (42.76, 62.68379060561998)),\n",
       " ((u'TRD-BOO', u'SK', u'V'), (42.76, 62.68379060561998)),\n",
       " ((u'TRD-BOO', u'SK', u'V'), (29.55, 62.68379060561998)),\n",
       " ((u'TRD-BOO', u'SK', u'V'), (42.76, 62.68379060561998)),\n",
       " ((u'TRD-BOO', u'SK', u'V'), (42.76, 62.68379060561998)),\n",
       " ((u'TRD-BOO', u'SK', u'V'), (29.55, 62.68379060561998)),\n",
       " ((u'TRD-BOO', u'SK', u'V'), (42.76, 62.68379060561998)),\n",
       " ((u'TRD-BOO', u'SK', u'V'), (42.76, 62.68379060561998)),\n",
       " ((u'BEG-CDG', u'JU', u'K'), (88.11, 89.11)),\n",
       " ((u'BEG-CDG', u'JU', u'K'), (88.11, 89.11)),\n",
       " ((u'TPE-SDJ', u'BR', u'H'), (196.31, 222.4284082270442)),\n",
       " ((u'TPE-SDJ', u'BR', u'H'), (175.4, 222.4284082270442)),\n",
       " ((u'TPE-SDJ', u'BR', u'H'), (175.4, 222.4284082270442)),\n",
       " ((u'TPE-SDJ', u'BR', u'H'), (196.31, 222.4284082270442)),\n",
       " ((u'TPE-SDJ', u'BR', u'H'), (196.31, 222.4284082270442)),\n",
       " ((u'BPN-BEJ', u'GA', u'Y'), (68.12, 69.55202897696782)),\n",
       " ((u'BPN-BEJ', u'GA', u'Y'), (67.34, 69.55202897696782)),\n",
       " ((u'BPN-BEJ', u'GA', u'Y'), (67.34, 69.55202897696782)),\n",
       " ((u'BPN-BEJ', u'GA', u'Y'), (67.34, 69.55202897696782)),\n",
       " ((u'BPN-BEJ', u'GA', u'Y'), (67.34, 69.55202897696782)),\n",
       " ((u'BPN-BEJ', u'GA', u'Y'), (68.12, 69.55202897696782)),\n",
       " ((u'BPN-BEJ', u'GA', u'Y'), (67.34, 69.55202897696782)),\n",
       " ((u'BPN-BEJ', u'GA', u'Y'), (67.34, 69.55202897696782)),\n",
       " ((u'BOG-BGA', u'AV', u'Y'), (44.63, 51.935567473185344)),\n",
       " ((u'BOG-BGA', u'AV', u'Y'), (39.09, 51.935567473185344)),\n",
       " ((u'FAO-SOU', u'BE', u'B'), (195.75, 293.2174102408725)),\n",
       " ((u'FAO-SOU', u'BE', u'B'), (131.02, 293.2174102408725)),\n",
       " ((u'AUH-DAC', u'EY', u'V'), (176.97, 177.96999999999997)),\n",
       " ((u'YYZ-JFK', u'AA', u'O'), (10.73, 11.729999999999999)),\n",
       " ((u'HEL-ARN', u'AY', u'N'), (47.86, 182.29725754980404)),\n",
       " ((u'HEL-ARN', u'AY', u'N'), (79.9, 182.29725754980404)),\n",
       " ((u'HEL-ARN', u'AY', u'N'), (79.89, 182.29725754980404)),\n",
       " ((u'HEL-ARN', u'AY', u'N'), (51.44, 182.29725754980404)),\n",
       " ((u'HEL-ARN', u'AY', u'N'), (65.87, 182.29725754980404)),\n",
       " ((u'HEL-ARN', u'AY', u'N'), (115.92, 182.29725754980404)),\n",
       " ((u'HEL-ARN', u'AY', u'N'), (79.89, 182.29725754980404)),\n",
       " ((u'HEL-ARN', u'AY', u'N'), (115.92, 182.29725754980404)),\n",
       " ((u'HEL-ARN', u'AY', u'N'), (79.9, 182.29725754980404)),\n",
       " ((u'USM-BKK', u'PG', u'V'), (49.61, 382.98895121927006))]"
      ]
     },
     "execution_count": 126,
     "metadata": {},
     "output_type": "execute_result"
    }
   ],
   "source": [
    "joined.take(50)"
   ]
  },
  {
   "cell_type": "code",
   "execution_count": 129,
   "metadata": {
    "collapsed": false
   },
   "outputs": [
    {
     "data": {
      "text/plain": [
       "[((u'JFK-FCO', u'AZ', u'X'), (304.49, 304.02240331274174)),\n",
       " ((u'SIN-HKG', u'CX', u'S'), (681.3, 336.5794532383178)),\n",
       " ((u'HAM-IST', u'TK', u'W'), (41.8, 40.356597087525536)),\n",
       " ((u'SIN-HKG', u'CX', u'I'), (789.36, 786.6278674028141)),\n",
       " ((u'BNE-MEL', u'QF', u'B'), (224.87, 218.56597373122125))]"
      ]
     },
     "execution_count": 129,
     "metadata": {},
     "output_type": "execute_result"
    }
   ],
   "source": [
    "joined.filter(lambda x: x[1][0] >= x[1][1]).take(5)"
   ]
  },
  {
   "cell_type": "code",
   "execution_count": 132,
   "metadata": {
    "collapsed": false
   },
   "outputs": [
    {
     "data": {
      "text/plain": [
       "[((u'SYD-CGK', u'GA', u'G'), (6355194.0, 6355195.000000028)),\n",
       " ((u'SYD-CGK', u'GA', u'G'), (6355194.0, 6355195.000000028)),\n",
       " ((u'SYD-CGK', u'GA', u'G'), (6355194.0, 6355195.000000028)),\n",
       " ((u'CDG-IAD', u'AF', u'P'), (637313.52, 637314.5199999998)),\n",
       " ((u'IAD-CDG', u'AF', u'P'), (637313.52, 637314.5199999998)),\n",
       " ((u'COO-CDG', u'AF', u'J'), (538599.2, 538600.2000000002)),\n",
       " ((u'CDG-COO', u'AF', u'J'), (538599.2, 252544360.50641724)),\n",
       " ((u'DKR-NBO', u'KQ', u'T'), (173800.0, 14188769.259681763)),\n",
       " ((u'NBO-DKR', u'KQ', u'T'), (173800.0, 2332635.813454238)),\n",
       " ((u'CDG-DKR', u'AF', u'L'), (161010.22, 161011.21999999986)),\n",
       " ((u'CMN-NIM', u'AT', u'R'), (99994.96, 11627495.087685555)),\n",
       " ((u'NBO-HAH', u'KQ', u'L'), (72100.0, 28427966.886865743)),\n",
       " ((u'NBO-HAH', u'KQ', u'L'), (72100.0, 28427966.886865743)),\n",
       " ((u'TSN-ICN', u'KE', u'Z'), (38655.45, 38656.450000000004)),\n",
       " ((u'VIE-NRT', u'OS', u'S'), (35704.26, 65666.32933767821)),\n",
       " ((u'DEL-CMB', u'UL', u'D'), (21499.82, 3076364.282108203)),\n",
       " ((u'CMB-DEL', u'UL', u'N'), (21499.82, 6466.878948643442)),\n",
       " ((u'ICN-BOM', u'KE', u'E'), (20349.77, 20350.76999999999)),\n",
       " ((u'JFK-DXB', u'EK', u'U'), (19331.71, 11857.175883034872)),\n",
       " ((u'DXB-JFK', u'EK', u'U'), (18063.36, 5188.963745650449)),\n",
       " ((u'SVO-JFK', u'SU', u'Y'), (16937.47, 16938.470000000012)),\n",
       " ((u'CDG-HKG', u'AF', u'Z'), (15996.77, 65143.53591209035)),\n",
       " ((u'AMS-TPE', u'KL', u'T'), (15598.65, 634912.0228618776)),\n",
       " ((u'JFK-DXB', u'EK', u'U'), (14498.76, 11857.175883034872)),\n",
       " ((u'DXB-JFK', u'EK', u'U'), (13547.31, 5188.963745650449))]"
      ]
     },
     "execution_count": 132,
     "metadata": {},
     "output_type": "execute_result"
    }
   ],
   "source": [
    "joined.sortBy(lambda x: x[1][0], False).take(25)"
   ]
  },
  {
   "cell_type": "code",
   "execution_count": 131,
   "metadata": {
    "collapsed": false
   },
   "outputs": [
    {
     "data": {
      "text/plain": [
       "[((u'SYD-CGK', u'GA', u'G'), (6355194.0, 6355195.000000028)),\n",
       " ((u'SYD-CGK', u'GA', u'G'), (6355194.0, 6355195.000000028)),\n",
       " ((u'SYD-CGK', u'GA', u'G'), (6355194.0, 6355195.000000028)),\n",
       " ((u'CDG-IAD', u'AF', u'P'), (637313.52, 637314.5199999998)),\n",
       " ((u'IAD-CDG', u'AF', u'P'), (637313.52, 637314.5199999998)),\n",
       " ((u'COO-CDG', u'AF', u'J'), (538599.2, 538600.2000000002)),\n",
       " ((u'CDG-COO', u'AF', u'J'), (538599.2, 252544360.50641724)),\n",
       " ((u'DKR-NBO', u'KQ', u'T'), (173800.0, 14188769.259681763)),\n",
       " ((u'NBO-DKR', u'KQ', u'T'), (173800.0, 2332635.813454238)),\n",
       " ((u'CDG-DKR', u'AF', u'L'), (161010.22, 161011.21999999986)),\n",
       " ((u'CMN-NIM', u'AT', u'R'), (99994.96, 11627495.087685555)),\n",
       " ((u'NBO-HAH', u'KQ', u'L'), (72100.0, 28427966.886865743)),\n",
       " ((u'NBO-HAH', u'KQ', u'L'), (72100.0, 28427966.886865743)),\n",
       " ((u'TSN-ICN', u'KE', u'Z'), (38655.45, 38656.450000000004)),\n",
       " ((u'VIE-NRT', u'OS', u'S'), (35704.26, 65666.32933767821)),\n",
       " ((u'DEL-CMB', u'UL', u'D'), (21499.82, 3076364.282108203)),\n",
       " ((u'ICN-BOM', u'KE', u'E'), (20349.77, 20350.76999999999)),\n",
       " ((u'SVO-JFK', u'SU', u'Y'), (16937.47, 16938.470000000012)),\n",
       " ((u'CDG-HKG', u'AF', u'Z'), (15996.77, 65143.53591209035)),\n",
       " ((u'AMS-TPE', u'KL', u'T'), (15598.65, 634912.0228618776)),\n",
       " ((u'BOS-HKG', u'CX', u'F'), (13514.95, 13515.950000000006)),\n",
       " ((u'SEA-LHR', u'BA', u'F'), (12876.88, 12877.88)),\n",
       " ((u'ZRH-JFK', u'LX', u'F'), (12799.25, 12800.24999999999)),\n",
       " ((u'CDG-LAX', u'AF', u'P'), (12595.66, 15306.709835274884)),\n",
       " ((u'CDG-LAX', u'AF', u'P'), (12595.66, 15306.709835274884))]"
      ]
     },
     "execution_count": 131,
     "metadata": {},
     "output_type": "execute_result"
    }
   ],
   "source": [
    "joined.filter(lambda x: x[1][0] < x[1][1]).sortBy(lambda x: x[1][0], False).take(25)"
   ]
  },
  {
   "cell_type": "code",
   "execution_count": 133,
   "metadata": {
    "collapsed": false
   },
   "outputs": [
    {
     "data": {
      "text/plain": [
       "359"
      ]
     },
     "execution_count": 133,
     "metadata": {},
     "output_type": "execute_result"
    }
   ],
   "source": [
    "joined.map(lambda x: x[0][1]).distinct().count()"
   ]
  },
  {
   "cell_type": "code",
   "execution_count": 134,
   "metadata": {
    "collapsed": true
   },
   "outputs": [],
   "source": [
    "total_revenue = joined.map(lambda x: (x[0][1], x[1][0])).reduceByKey(lambda x,y: x+y)"
   ]
  },
  {
   "cell_type": "code",
   "execution_count": 136,
   "metadata": {
    "collapsed": false
   },
   "outputs": [
    {
     "data": {
      "text/plain": [
       "[(u'GA', 20712226.56999999),\n",
       " (u'BA', 12443986.98000006),\n",
       " (u'AF', 10221507.909999827),\n",
       " (u'QF', 8358587.8999999175),\n",
       " (u'LH', 7715608.339999989),\n",
       " (u'QR', 6935584.370000024),\n",
       " (u'SV', 6286299.339999829),\n",
       " (u'UA', 5151815.290000008),\n",
       " (u'JJ', 5066300.509999973),\n",
       " (u'AA', 4151996.4600000097)]"
      ]
     },
     "execution_count": 136,
     "metadata": {},
     "output_type": "execute_result"
    }
   ],
   "source": [
    "total_revenue.sortBy(lambda x: x[1],False).take(10)"
   ]
  },
  {
   "cell_type": "code",
   "execution_count": 138,
   "metadata": {
    "collapsed": false
   },
   "outputs": [],
   "source": [
    "total_rev_per_pax = joined.map(lambda x: (x[0][1], (x[1][0], 1))).reduceByKey(lambda x,y: (x[0]+y[0], x[1]+y[1]))"
   ]
  },
  {
   "cell_type": "code",
   "execution_count": 140,
   "metadata": {
    "collapsed": false
   },
   "outputs": [
    {
     "data": {
      "text/plain": [
       "[(u'S3', 5225.068852459017),\n",
       " (u'9V', 1488.6739864864862),\n",
       " (u'GA', 991.2527671691787),\n",
       " (u'TN', 964.6472580645161),\n",
       " (u'7F', 668.035),\n",
       " (u'DT', 579.0006976744186),\n",
       " (u'B8', 443.295),\n",
       " (u'V0', 438.61227730441516),\n",
       " (u'NE', 430.1),\n",
       " (u'4M', 377.7557471264368)]"
      ]
     },
     "execution_count": 140,
     "metadata": {},
     "output_type": "execute_result"
    }
   ],
   "source": [
    "total_rev_per_pax.map(lambda x: (x[0], x[1][0]/x[1][1])).sortBy(lambda x: x[1], False).take(10)"
   ]
  },
  {
   "cell_type": "code",
   "execution_count": 152,
   "metadata": {
    "collapsed": true
   },
   "outputs": [],
   "source": [
    "## Exercise for the students\n",
    "## PAX per channel\n",
    "\n",
    "def getChannel(l):\n",
    "    elems = l.split(\",\")\n",
    "    tcn = elems[0]\n",
    "    channel = elems[8]\n",
    "    return (tcn, channel)"
   ]
  },
  {
   "cell_type": "code",
   "execution_count": 153,
   "metadata": {
    "collapsed": true
   },
   "outputs": [],
   "source": [
    "channels = sc.textFile('data/transm150720.csv').map(getChannel)"
   ]
  },
  {
   "cell_type": "code",
   "execution_count": 154,
   "metadata": {
    "collapsed": false
   },
   "outputs": [
    {
     "data": {
      "text/plain": [
       "[(u'79062005698500', u'T'),\n",
       " (u'79062005924069', u'T'),\n",
       " (u'79065668570385', u'T'),\n",
       " (u'79065668737021', u'T'),\n",
       " (u'79062006192650', u'T')]"
      ]
     },
     "execution_count": 154,
     "metadata": {},
     "output_type": "execute_result"
    }
   ],
   "source": [
    "channels.take(5)"
   ]
  },
  {
   "cell_type": "code",
   "execution_count": 155,
   "metadata": {
    "collapsed": false
   },
   "outputs": [
    {
     "data": {
      "text/plain": [
       "[(u'A', 360506), (u'', 381), (u'E', 4610), (u'T', 264241), (u'V', 1667)]"
      ]
     },
     "execution_count": 155,
     "metadata": {},
     "output_type": "execute_result"
    }
   ],
   "source": [
    "channels.map(lambda x: (x[1], 1)).reduceByKey(lambda x,y: x+y).take(15)"
   ]
  },
  {
   "cell_type": "code",
   "execution_count": 156,
   "metadata": {
    "collapsed": true
   },
   "outputs": [],
   "source": [
    "## Exercise for the students\n",
    "## Total revenue per channel\n",
    "def getTCNAndAmount(l):\n",
    "    elems  = l.split(\",\")\n",
    "    tcn    = elems[0]\n",
    "    amount = float(elems[6])\n",
    "    \n",
    "    return (tcn, amount)"
   ]
  },
  {
   "cell_type": "code",
   "execution_count": 157,
   "metadata": {
    "collapsed": true
   },
   "outputs": [],
   "source": [
    "tcn_rev = lines.map(getTCNAndAmount)"
   ]
  },
  {
   "cell_type": "code",
   "execution_count": 158,
   "metadata": {
    "collapsed": false
   },
   "outputs": [
    {
     "data": {
      "text/plain": [
       "[(u'79062005698500', 56.79),\n",
       " (u'79062005698500', 84.34),\n",
       " (u'79062005924069', 60.0),\n",
       " (u'79065668570385', 160.63),\n",
       " (u'79065668737021', 152.46)]"
      ]
     },
     "execution_count": 158,
     "metadata": {},
     "output_type": "execute_result"
    }
   ],
   "source": [
    "tcn_rev.take(5)"
   ]
  },
  {
   "cell_type": "code",
   "execution_count": 159,
   "metadata": {
    "collapsed": false
   },
   "outputs": [
    {
     "data": {
      "text/plain": [
       "[(u'79062005698500', u'T'),\n",
       " (u'79062005924069', u'T'),\n",
       " (u'79065668570385', u'T'),\n",
       " (u'79065668737021', u'T'),\n",
       " (u'79062006192650', u'T')]"
      ]
     },
     "execution_count": 159,
     "metadata": {},
     "output_type": "execute_result"
    }
   ],
   "source": [
    "channels.take(5)"
   ]
  },
  {
   "cell_type": "code",
   "execution_count": 160,
   "metadata": {
    "collapsed": true
   },
   "outputs": [],
   "source": [
    "channel_with_rev = channels.leftOuterJoin(tcn_rev)"
   ]
  },
  {
   "cell_type": "code",
   "execution_count": 168,
   "metadata": {
    "collapsed": false
   },
   "outputs": [
    {
     "data": {
      "text/plain": [
       "[(u'V', 843207.13), (u'T', 83637221.2200021)]"
      ]
     },
     "execution_count": 168,
     "metadata": {},
     "output_type": "execute_result"
    }
   ],
   "source": [
    "channel_with_rev.map(lambda x: x[1]).reduceByKey(lambda x,y: x+y).top(2)"
   ]
  },
  {
   "cell_type": "code",
   "execution_count": null,
   "metadata": {
    "collapsed": true
   },
   "outputs": [],
   "source": []
  }
 ],
 "metadata": {
  "kernelspec": {
   "display_name": "PySpark",
   "language": "python",
   "name": "pyspark"
  },
  "language_info": {
   "codemirror_mode": {
    "name": "ipython",
    "version": 2
   },
   "file_extension": ".py",
   "mimetype": "text/x-python",
   "name": "python",
   "nbconvert_exporter": "python",
   "pygments_lexer": "ipython2",
   "version": "2.7.11"
  }
 },
 "nbformat": 4,
 "nbformat_minor": 0
}
