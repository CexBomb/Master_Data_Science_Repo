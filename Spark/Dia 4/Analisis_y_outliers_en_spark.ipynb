{
 "cells": [
  {
   "cell_type": "code",
   "execution_count": 1,
   "metadata": {
    "collapsed": true
   },
   "outputs": [],
   "source": [
    "data = sc.textFile('/home/dsc/Data/spark/sales_segments.csv.gz')"
   ]
  },
  {
   "cell_type": "code",
   "execution_count": 2,
   "metadata": {
    "collapsed": false
   },
   "outputs": [
    {
     "data": {
      "text/plain": [
       "u'rloc^departure_date_seg^booking_date^freq_flyer_flag^creator_office_id^creator_iata_number^creator_gds_code^creator_city_code^creator_lat^creator_lon^creator_country_code^creator_continent_code^creator_channel_code^booking_status_code^cabin_code^booking_class_code^pos_office_id^pos_iata_number^pos_gds_code^pos_city_code^pos_lat^pos_lon^pos_country_code^pos_continent_code^pos_channel_code^board_point_seg^board_lat^board_lon^board_country_code^board_continent_code^off_point_seg^off_lat^off_lon^off_country_code^off_continent_code^num_legs^distance_seg^route^network^airline_code^flight_number^flight_type^revenue_source^estimated_flag^usage_board_point_seg^usage_off_point_seg^usage_flight_number^usage_date^non_currency_type^bookings_seg^rpk_seg^revenue_amount_seg^currency_code^fuel_surcharge_amount_seg^fuel_surcharge_currency_code^emd_count^emd_amount^emd_currency_code^total_outliers'"
      ]
     },
     "execution_count": 2,
     "metadata": {},
     "output_type": "execute_result"
    }
   ],
   "source": [
    "data.first()"
   ]
  },
  {
   "cell_type": "code",
   "execution_count": 3,
   "metadata": {
    "collapsed": false
   },
   "outputs": [
    {
     "data": {
      "text/plain": [
       "[u'revenue_amount_seg', u'33.56', u'306.00']"
      ]
     },
     "execution_count": 3,
     "metadata": {},
     "output_type": "execute_result"
    }
   ],
   "source": [
    "data.map(lambda l: l.split('^')[51]).take(3)"
   ]
  },
  {
   "cell_type": "code",
   "execution_count": null,
   "metadata": {
    "collapsed": true
   },
   "outputs": [],
   "source": [
    "#eliminamos el header"
   ]
  },
  {
   "cell_type": "code",
   "execution_count": 4,
   "metadata": {
    "collapsed": true
   },
   "outputs": [],
   "source": [
    "header = data.first()"
   ]
  },
  {
   "cell_type": "code",
   "execution_count": 5,
   "metadata": {
    "collapsed": true
   },
   "outputs": [],
   "source": [
    "lines = data.filter(lambda line: line != header)"
   ]
  },
  {
   "cell_type": "code",
   "execution_count": 6,
   "metadata": {
    "collapsed": false
   },
   "outputs": [
    {
     "data": {
      "text/plain": [
       "u'59GS9Y^2013-12-21^2013-09-05^false^RUNHS3103^66200201^1A^RUN^-20.90083^55.53715^RE^Africa^Travel Agent^HK^Y^N^RUNHS3103^66200201^1A^RUN^-20.90083^55.53715^RE^Africa^Travel Agent^ZYR^50.8348^4.33653^BE^Europe^CDG^49.01278^2.55^FR^Europe^0^239.573363253866^CDG-ZYR^Europe^UU^5901^I^LIFT^false^ZYR^CDG^5901^2013-12-21^^1^239^33.56^EUR^7.30^EUR^0^0.00^^7.3'"
      ]
     },
     "execution_count": 6,
     "metadata": {},
     "output_type": "execute_result"
    }
   ],
   "source": [
    "lines.first()"
   ]
  },
  {
   "cell_type": "code",
   "execution_count": null,
   "metadata": {
    "collapsed": true
   },
   "outputs": [],
   "source": [
    "#sacamos los campos que nos interesan"
   ]
  },
  {
   "cell_type": "code",
   "execution_count": 13,
   "metadata": {
    "collapsed": true
   },
   "outputs": [],
   "source": [
    "fields = ['bookings_seg', 'revenue_amount_seg', 'fuel_surcharge_amount_seg']"
   ]
  },
  {
   "cell_type": "code",
   "execution_count": 14,
   "metadata": {
    "collapsed": false
   },
   "outputs": [
    {
     "data": {
      "text/plain": [
       "[49, 51, 53]"
      ]
     },
     "execution_count": 14,
     "metadata": {},
     "output_type": "execute_result"
    }
   ],
   "source": [
    "[header.split('^').index(field) for field in fields]"
   ]
  },
  {
   "cell_type": "code",
   "execution_count": 15,
   "metadata": {
    "collapsed": true
   },
   "outputs": [],
   "source": [
    "def average_fare_tax(line):\n",
    "    elems = line.split('^')\n",
    "    bookings = float(elems[49])\n",
    "    rev = float(elems[51])\n",
    "    tax = float(elems[53])\n",
    "    \n",
    "    av_rev = rev / bookings\n",
    "    av_tax = tax / bookings\n",
    "    \n",
    "    return (av_rev, av_tax)"
   ]
  },
  {
   "cell_type": "code",
   "execution_count": 16,
   "metadata": {
    "collapsed": false
   },
   "outputs": [
    {
     "data": {
      "text/plain": [
       "(33.56, 7.3)"
      ]
     },
     "execution_count": 16,
     "metadata": {},
     "output_type": "execute_result"
    }
   ],
   "source": [
    "average_fare_tax(lines.first())"
   ]
  },
  {
   "cell_type": "code",
   "execution_count": 17,
   "metadata": {
    "collapsed": true
   },
   "outputs": [],
   "source": [
    "simple = lines.map(average_fare_tax)"
   ]
  },
  {
   "cell_type": "code",
   "execution_count": 19,
   "metadata": {
    "collapsed": false
   },
   "outputs": [
    {
     "data": {
      "text/plain": [
       "[(33.56, 7.3), (61.2, 25.5), (71.86842105263158, 12.31578947368421)]"
      ]
     },
     "execution_count": 19,
     "metadata": {},
     "output_type": "execute_result"
    }
   ],
   "source": [
    "simple.take(3)"
   ]
  },
  {
   "cell_type": "code",
   "execution_count": null,
   "metadata": {
    "collapsed": true
   },
   "outputs": [],
   "source": [
    "#Kmeans clustering"
   ]
  },
  {
   "cell_type": "code",
   "execution_count": 21,
   "metadata": {
    "collapsed": false
   },
   "outputs": [],
   "source": [
    "from pyspark.mllib.clustering import KMeans, KMeansModel"
   ]
  },
  {
   "cell_type": "code",
   "execution_count": 22,
   "metadata": {
    "collapsed": true
   },
   "outputs": [],
   "source": [
    "clusters = KMeans.train(simple, 10)"
   ]
  },
  {
   "cell_type": "code",
   "execution_count": 23,
   "metadata": {
    "collapsed": true
   },
   "outputs": [],
   "source": [
    "clusters.save(sc,'clusters')"
   ]
  },
  {
   "cell_type": "code",
   "execution_count": 24,
   "metadata": {
    "collapsed": false
   },
   "outputs": [
    {
     "data": {
      "text/plain": [
       "[array([ 109.0339497 ,   63.70834282]),\n",
       " array([  8.77500428e+05,   3.03020000e+01]),\n",
       " array([  3.46736736e+05,   1.02778125e+02]),\n",
       " array([  1.12648224e+05,   2.12891489e+01]),\n",
       " array([  6.15206951e+05,   2.97312500e+01]),\n",
       " array([  1.39215574e+06,   3.27400000e+01]),\n",
       " array([ 17017.06404697,     87.99088939]),\n",
       " array([  5.02409789e+04,   3.25942361e+01]),\n",
       " array([ 429.22751871,  184.7775527 ]),\n",
       " array([ 1516.91592787,   209.38205557])]"
      ]
     },
     "execution_count": 24,
     "metadata": {},
     "output_type": "execute_result"
    }
   ],
   "source": [
    "clusters.centers"
   ]
  },
  {
   "cell_type": "code",
   "execution_count": 27,
   "metadata": {
    "collapsed": false
   },
   "outputs": [
    {
     "data": {
      "text/plain": [
       "0"
      ]
     },
     "execution_count": 27,
     "metadata": {},
     "output_type": "execute_result"
    }
   ],
   "source": [
    "clusters.predict((33.56, 7.3))"
   ]
  },
  {
   "cell_type": "code",
   "execution_count": 30,
   "metadata": {
    "collapsed": true
   },
   "outputs": [],
   "source": [
    "bycluster = simple.map(lambda point: (clusters.predict(point), point))"
   ]
  },
  {
   "cell_type": "code",
   "execution_count": 31,
   "metadata": {
    "collapsed": false
   },
   "outputs": [
    {
     "data": {
      "text/plain": [
       "[(0, (33.56, 7.3)),\n",
       " (0, (61.2, 25.5)),\n",
       " (0, (71.86842105263158, 12.31578947368421))]"
      ]
     },
     "execution_count": 31,
     "metadata": {},
     "output_type": "execute_result"
    }
   ],
   "source": [
    "bycluster.take(3)"
   ]
  },
  {
   "cell_type": "code",
   "execution_count": null,
   "metadata": {
    "collapsed": true
   },
   "outputs": [],
   "source": [
    "#calcular media y sigma de cada punto"
   ]
  },
  {
   "cell_type": "code",
   "execution_count": 32,
   "metadata": {
    "collapsed": false
   },
   "outputs": [
    {
     "data": {
      "text/plain": [
       "PythonRDD[120] at RDD at PythonRDD.scala:43"
      ]
     },
     "execution_count": 32,
     "metadata": {},
     "output_type": "execute_result"
    }
   ],
   "source": [
    "bycluster.cache()"
   ]
  },
  {
   "cell_type": "code",
   "execution_count": null,
   "metadata": {
    "collapsed": true
   },
   "outputs": [],
   "source": [
    "#means = bycluster.reduceByKey(calc_avg_reduce)"
   ]
  },
  {
   "cell_type": "code",
   "execution_count": 33,
   "metadata": {
    "collapsed": true
   },
   "outputs": [],
   "source": [
    "bycluster_withones = simple.map(lambda (x,y): (clusters.predict((x,y)), (x,y,1)))"
   ]
  },
  {
   "cell_type": "code",
   "execution_count": 34,
   "metadata": {
    "collapsed": false
   },
   "outputs": [
    {
     "data": {
      "text/plain": [
       "[(0, (33.56, 7.3, 1)),\n",
       " (0, (61.2, 25.5, 1)),\n",
       " (0, (71.86842105263158, 12.31578947368421, 1))]"
      ]
     },
     "execution_count": 34,
     "metadata": {},
     "output_type": "execute_result"
    }
   ],
   "source": [
    "bycluster_withones.take(3)"
   ]
  },
  {
   "cell_type": "code",
   "execution_count": 39,
   "metadata": {
    "collapsed": false
   },
   "outputs": [
    {
     "data": {
      "text/plain": [
       "PythonRDD[132] at RDD at PythonRDD.scala:43"
      ]
     },
     "execution_count": 39,
     "metadata": {},
     "output_type": "execute_result"
    }
   ],
   "source": [
    "bycluster_withones.cache()"
   ]
  },
  {
   "cell_type": "code",
   "execution_count": 35,
   "metadata": {
    "collapsed": true
   },
   "outputs": [],
   "source": [
    "def calc_avg_reduce(acc, p):\n",
    "    (rev_p, tax_p, c) = p\n",
    "    (rev_ac, tax_ac, c_acc) = acc\n",
    "    \n",
    "    result = (rev_p + rev_ac, tax_p + tax_ac, c + c_acc)\n",
    "    \n",
    "    return result"
   ]
  },
  {
   "cell_type": "code",
   "execution_count": 37,
   "metadata": {
    "collapsed": false
   },
   "outputs": [],
   "source": [
    "avs = bycluster_withones.reduceByKey(calc_avg_reduce)"
   ]
  },
  {
   "cell_type": "code",
   "execution_count": 38,
   "metadata": {
    "collapsed": false
   },
   "outputs": [
    {
     "data": {
      "text/plain": [
       "[(0, (118179717.4017657, 69052198.6209513, 1083880)),\n",
       " (1, (8775004.28, 303.02, 10)),\n",
       " (2, (5547787.77, 1644.45, 16))]"
      ]
     },
     "execution_count": 38,
     "metadata": {},
     "output_type": "execute_result"
    }
   ],
   "source": [
    "avs.take(3)"
   ]
  },
  {
   "cell_type": "code",
   "execution_count": null,
   "metadata": {
    "collapsed": true
   },
   "outputs": [],
   "source": [
    "#hacemos un join para asignar a cada punto la media de su grupo."
   ]
  },
  {
   "cell_type": "code",
   "execution_count": 44,
   "metadata": {
    "collapsed": true
   },
   "outputs": [],
   "source": [
    "def medias(clust):\n",
    "    rev_t, tax_t, count = clust\n",
    "    return (rev_t / count, tax_t / count, count)"
   ]
  },
  {
   "cell_type": "code",
   "execution_count": 45,
   "metadata": {
    "collapsed": false
   },
   "outputs": [
    {
     "data": {
      "text/plain": [
       "[(0, (109.03394970085776, 63.70834282480652, 1083880)),\n",
       " (1, (877500.428, 30.302, 10)),\n",
       " (2, (346736.735625, 102.778125, 16))]"
      ]
     },
     "execution_count": 45,
     "metadata": {},
     "output_type": "execute_result"
    }
   ],
   "source": [
    "avs.mapValues(medias).take(3)"
   ]
  },
  {
   "cell_type": "code",
   "execution_count": 46,
   "metadata": {
    "collapsed": true
   },
   "outputs": [],
   "source": [
    "averages = avs.mapValues(medias)"
   ]
  },
  {
   "cell_type": "code",
   "execution_count": null,
   "metadata": {
    "collapsed": true
   },
   "outputs": [],
   "source": [
    "#Esto esta mal"
   ]
  },
  {
   "cell_type": "code",
   "execution_count": 73,
   "metadata": {
    "collapsed": false
   },
   "outputs": [],
   "source": [
    "#simple.join(averages).take(3)"
   ]
  },
  {
   "cell_type": "code",
   "execution_count": null,
   "metadata": {
    "collapsed": true
   },
   "outputs": [],
   "source": [
    "#Así mejor"
   ]
  },
  {
   "cell_type": "code",
   "execution_count": 47,
   "metadata": {
    "collapsed": false
   },
   "outputs": [
    {
     "data": {
      "text/plain": [
       "[(0, ((33.56, 7.3, 1), (109.03394970085776, 63.70834282480652, 1083880))),\n",
       " (0, ((61.2, 25.5, 1), (109.03394970085776, 63.70834282480652, 1083880))),\n",
       " (0,\n",
       "  ((71.86842105263158, 12.31578947368421, 1),\n",
       "   (109.03394970085776, 63.70834282480652, 1083880)))]"
      ]
     },
     "execution_count": 47,
     "metadata": {},
     "output_type": "execute_result"
    }
   ],
   "source": [
    "bycluster_withones.join(averages).take(3)"
   ]
  },
  {
   "cell_type": "code",
   "execution_count": 48,
   "metadata": {
    "collapsed": true
   },
   "outputs": [],
   "source": [
    "def sq_diffs(p_with_cluster_mean):\n",
    "    \n",
    "    ((rev, tax, n),(av_rev, av_tax, n_cl)) = p_with_cluster_mean\n",
    "    \n",
    "    rev_sqdiff = (rev - av_rev) ** 2\n",
    "    tax_sqdiff = (tax - av_tax) ** 2\n",
    "    \n",
    "    return (rev_sqdiff, tax_sqdiff, 1)"
   ]
  },
  {
   "cell_type": "code",
   "execution_count": 49,
   "metadata": {
    "collapsed": true
   },
   "outputs": [],
   "source": [
    "points_w_means_sqdiffs = bycluster_withones.join(averages).mapValues(sq_diffs)"
   ]
  },
  {
   "cell_type": "code",
   "execution_count": 50,
   "metadata": {
    "collapsed": false
   },
   "outputs": [
    {
     "data": {
      "text/plain": [
       "[(0, (5696.317083447607, 3181.901140240902, 1)),\n",
       " (0, (2288.08674398419, 1459.877461417944, 1)),\n",
       " (0, (1381.2765197021213, 2641.1945399479528, 1))]"
      ]
     },
     "execution_count": 50,
     "metadata": {},
     "output_type": "execute_result"
    }
   ],
   "source": [
    "points_w_means_sqdiffs.take(3)"
   ]
  },
  {
   "cell_type": "code",
   "execution_count": 53,
   "metadata": {
    "collapsed": true
   },
   "outputs": [],
   "source": [
    "total_sqdiffs = points_w_means_sqdiffs.reduceByKey(calc_avg_reduce)"
   ]
  },
  {
   "cell_type": "code",
   "execution_count": 54,
   "metadata": {
    "collapsed": false
   },
   "outputs": [
    {
     "data": {
      "text/plain": [
       "[(0, (5876003118.069857, 5449599804.500944, 1083880)),\n",
       " (8, (9036820149.117517, 1235284075.3588262, 354044)),\n",
       " (2, (41281701393.02079, 191010.53404375003, 16))]"
      ]
     },
     "execution_count": 54,
     "metadata": {},
     "output_type": "execute_result"
    }
   ],
   "source": [
    "total_sqdiffs.take(3)"
   ]
  },
  {
   "cell_type": "code",
   "execution_count": 55,
   "metadata": {
    "collapsed": true
   },
   "outputs": [],
   "source": [
    "from math import sqrt\n",
    "def stdevs(sqdiffs_percluster):\n",
    "    (sqd_rev_total, sqd_tax_total, n_cl) = sqdiffs_percluster\n",
    "    \n",
    "    std_rev = sqrt(sqd_rev_total / n_cl)\n",
    "    std_tax = sqrt(sqd_tax_total / n_cl)\n",
    "    \n",
    "    return (std_rev, std_tax)"
   ]
  },
  {
   "cell_type": "code",
   "execution_count": 57,
   "metadata": {
    "collapsed": false
   },
   "outputs": [
    {
     "data": {
      "text/plain": [
       "[(0, (73.62925521403366, 70.90742332561464)),\n",
       " (8, (159.76410106484028, 59.068344890455705)),\n",
       " (2, (50794.74714046522, 109.26187980139449)),\n",
       " (4, (49736.26150524646, 1.442501624782446)),\n",
       " (6, (5850.329017210933, 84.6638736432238)),\n",
       " (1, (47658.199670890375, 1.7160000000000006)),\n",
       " (3, (21865.59108696715, 65.48987338739448)),\n",
       " (9, (581.6406112916662, 62.88919766934884)),\n",
       " (5, (0.0, 0.0)),\n",
       " (7, (9752.495674914668, 38.94671868675312))]"
      ]
     },
     "execution_count": 57,
     "metadata": {},
     "output_type": "execute_result"
    }
   ],
   "source": [
    "total_sqdiffs.mapValues(stdevs).take(11)"
   ]
  },
  {
   "cell_type": "code",
   "execution_count": 58,
   "metadata": {
    "collapsed": true
   },
   "outputs": [],
   "source": [
    "stds_clusters = total_sqdiffs.mapValues(stdevs)"
   ]
  },
  {
   "cell_type": "code",
   "execution_count": 59,
   "metadata": {
    "collapsed": true
   },
   "outputs": [],
   "source": [
    "cluster_stats = averages.join(stds_clusters)"
   ]
  },
  {
   "cell_type": "code",
   "execution_count": 62,
   "metadata": {
    "collapsed": false
   },
   "outputs": [
    {
     "data": {
      "text/plain": [
       "[(0,\n",
       "  ((109.03394970085776, 63.70834282480652, 1083880),\n",
       "   (73.62925521403366, 70.90742332561464))),\n",
       " (9,\n",
       "  ((1516.9159278705047, 209.38205557371586, 20977),\n",
       "   (581.6406112916662, 62.88919766934884))),\n",
       " (3,\n",
       "  ((112648.22446808493, 21.289148936170214, 94),\n",
       "   (21865.59108696715, 65.48987338739448)))]"
      ]
     },
     "execution_count": 62,
     "metadata": {},
     "output_type": "execute_result"
    }
   ],
   "source": [
    "cluster_stats.take(3)"
   ]
  },
  {
   "cell_type": "code",
   "execution_count": 65,
   "metadata": {
    "collapsed": false
   },
   "outputs": [],
   "source": [
    "full = bycluster.join(cluster_stats)"
   ]
  },
  {
   "cell_type": "code",
   "execution_count": 66,
   "metadata": {
    "collapsed": false
   },
   "outputs": [
    {
     "data": {
      "text/plain": [
       "[(0,\n",
       "  ((33.56, 7.3),\n",
       "   ((109.03394970085776, 63.70834282480652, 1083880),\n",
       "    (73.62925521403366, 70.90742332561464)))),\n",
       " (0,\n",
       "  ((61.2, 25.5),\n",
       "   ((109.03394970085776, 63.70834282480652, 1083880),\n",
       "    (73.62925521403366, 70.90742332561464)))),\n",
       " (0,\n",
       "  ((71.86842105263158, 12.31578947368421),\n",
       "   ((109.03394970085776, 63.70834282480652, 1083880),\n",
       "    (73.62925521403366, 70.90742332561464))))]"
      ]
     },
     "execution_count": 66,
     "metadata": {},
     "output_type": "execute_result"
    }
   ],
   "source": [
    "full.take(3)"
   ]
  },
  {
   "cell_type": "code",
   "execution_count": 75,
   "metadata": {
    "collapsed": true
   },
   "outputs": [],
   "source": [
    "def zscore(p_w_stats):\n",
    "    \n",
    "    (p, stats) = p_w_stats\n",
    "    rev, tax = p\n",
    "    means, stdevs = stats\n",
    "    (rev_m, tax_m, _) = means\n",
    "    (rev_std, tax_std) = stdevs\n",
    "    \n",
    "    \n",
    "    if rev_std == 0:\n",
    "        return rev, tax, 3000, True \n",
    "        \n",
    "    zscore_rev = (rev - rev_m) / rev_std\n",
    "    zscore_tax = (tax - rev_m) / tax_std\n",
    "    \n",
    "    zscore = sqrt(zscore_rev ** 2 + zscore_tax ** 2)\n",
    "    outlier = zscore > 3\n",
    "    \n",
    "    return rev, tax, zscore, outlier"
   ]
  },
  {
   "cell_type": "code",
   "execution_count": 70,
   "metadata": {
    "collapsed": false
   },
   "outputs": [
    {
     "data": {
      "text/plain": [
       "(33.56, 7.3, 1.7632990805720967, False)"
      ]
     },
     "execution_count": 70,
     "metadata": {},
     "output_type": "execute_result"
    }
   ],
   "source": [
    "zscore(full.first()[1])"
   ]
  },
  {
   "cell_type": "code",
   "execution_count": 76,
   "metadata": {
    "collapsed": true
   },
   "outputs": [],
   "source": [
    "outliers = full.mapValues(zscore)"
   ]
  },
  {
   "cell_type": "code",
   "execution_count": 72,
   "metadata": {
    "collapsed": false
   },
   "outputs": [
    {
     "data": {
      "text/plain": [
       "[(0, (33.56, 7.3, 1.7632990805720967, False)),\n",
       " (0, (61.2, 25.5, 1.34532815723209, False)),\n",
       " (0, (71.86842105263158, 12.31578947368421, 1.454407516454938, False))]"
      ]
     },
     "execution_count": 72,
     "metadata": {},
     "output_type": "execute_result"
    }
   ],
   "source": [
    "outliers.take(3)"
   ]
  },
  {
   "cell_type": "code",
   "execution_count": 77,
   "metadata": {
    "collapsed": true
   },
   "outputs": [],
   "source": [
    "outliers.saveAsTextFile('outliers')"
   ]
  },
  {
   "cell_type": "code",
   "execution_count": null,
   "metadata": {
    "collapsed": true
   },
   "outputs": [],
   "source": []
  }
 ],
 "metadata": {
  "kernelspec": {
   "display_name": "PySpark",
   "language": "python",
   "name": "pyspark"
  },
  "language_info": {
   "codemirror_mode": {
    "name": "ipython",
    "version": 2
   },
   "file_extension": ".py",
   "mimetype": "text/x-python",
   "name": "python",
   "nbconvert_exporter": "python",
   "pygments_lexer": "ipython2",
   "version": "2.7.10"
  }
 },
 "nbformat": 4,
 "nbformat_minor": 0
}
