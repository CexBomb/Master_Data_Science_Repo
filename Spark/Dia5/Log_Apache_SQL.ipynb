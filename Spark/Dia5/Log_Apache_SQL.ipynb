{
 "cells": [
  {
   "cell_type": "code",
   "execution_count": 1,
   "metadata": {
    "collapsed": false
   },
   "outputs": [
    {
     "ename": "SyntaxError",
     "evalue": "invalid syntax (<ipython-input-1-cb5ecfedc3b4>, line 1)",
     "output_type": "error",
     "traceback": [
      "\u001b[1;36m  File \u001b[1;32m\"<ipython-input-1-cb5ecfedc3b4>\"\u001b[1;36m, line \u001b[1;32m1\u001b[0m\n\u001b[1;33m    127.0.0.1 ####This is the IP address (or host name, if available) of the client (remote host) which made the request to the server.\u001b[0m\n\u001b[1;37m          ^\u001b[0m\n\u001b[1;31mSyntaxError\u001b[0m\u001b[1;31m:\u001b[0m invalid syntax\n"
     ]
    }
   ],
   "source": [
    "127.0.0.1 ####This is the IP address (or host name, if available) of the client (remote host) which made the request to the server.\n",
    "\n",
    "- ####The \"hyphen\" in the output indicates that the requested piece of information (user identity from remote machine) is not available.\n",
    "\n",
    "- ####The \"hyphen\" in the output indicates that the requested piece of information (user identity from local logon) is not available.\n",
    "\n",
    "[01/Aug/1995:00:00:01 -0400] ####The time that the server finished processing the request. The format is: [day/month/year:hour:minute:second timezone]\n",
    "\n",
    "    ####day = 2 digits\n",
    "    ####month = 3 letters\n",
    "    ####year = 4 digits\n",
    "    ####hour = 2 digits\n",
    "    ####minute = 2 digits\n",
    "    ####second = 2 digits\n",
    "    ####zone = (+ | -) 4 digits\n",
    "\n",
    "\"GET /images/launch-logo.gif HTTP/1.0\" ####This is the first line of the request string from the client. It consists of a three components: the request method (e.g., GET, POST, etc.), the endpoint (a Uniform Resource Identifier), and the client protocol version.\n",
    "\n",
    "200 ####This is the status code that the server sends back to the client. This information is very valuable, because it reveals whether the request resulted in a successful response (codes beginning in 2), a redirection (codes beginning in 3), an error caused by the client (codes beginning in 4), or an error in the server (codes beginning in 5). The full list of possible status codes can be found in the HTTP specification (RFC 2616 section 10).\n",
    "\n",
    "1839 ####The last entry indicates the size of the object returned to the client, not including the response headers. If no content was returned to the client, this value will be \"-\" (or sometimes 0).\n",
    "\n"
   ]
  },
  {
   "cell_type": "code",
   "execution_count": 2,
   "metadata": {
    "collapsed": true
   },
   "outputs": [],
   "source": [
    "logtest = 'in24.inetnebr.com - - [01/Aug/1995:00:00:01 -0400] \"GET /shuttle/missions/sts-68/news/sts-68-mcc-05.txt HTTP/1.0\" 200 1839'"
   ]
  },
  {
   "cell_type": "code",
   "execution_count": 45,
   "metadata": {
    "collapsed": false
   },
   "outputs": [],
   "source": [
    "import re\n",
    "import datetime\n",
    "from pyspark.sql import Row, SQLContext"
   ]
  },
  {
   "cell_type": "code",
   "execution_count": 26,
   "metadata": {
    "collapsed": true
   },
   "outputs": [],
   "source": [
    "REGEXPAPACHE = '^(\\S+) (\\S+) (\\S+) \\[([\\w:/]+\\s[+\\-]\\d{4})\\] \"(\\S+) (\\S+)\\s*(\\S*)\\s*\" (\\d{3}) (\\S+)'\n",
    "m = re.search(REGEXPAPACHE, logtest)"
   ]
  },
  {
   "cell_type": "code",
   "execution_count": 27,
   "metadata": {
    "collapsed": false
   },
   "outputs": [
    {
     "data": {
      "text/plain": [
       "'1839'"
      ]
     },
     "execution_count": 27,
     "metadata": {},
     "output_type": "execute_result"
    }
   ],
   "source": [
    "m.group(9)"
   ]
  },
  {
   "cell_type": "code",
   "execution_count": 28,
   "metadata": {
    "collapsed": false
   },
   "outputs": [],
   "source": [
    "apachelogRDD = sc.textFile('./apache.access.log.PROJECT')"
   ]
  },
  {
   "cell_type": "code",
   "execution_count": 29,
   "metadata": {
    "collapsed": true
   },
   "outputs": [],
   "source": [
    "def parseTime(dateText):\n",
    "    return datetime.datetime()"
   ]
  },
  {
   "cell_type": "code",
   "execution_count": 30,
   "metadata": {
    "collapsed": false
   },
   "outputs": [],
   "source": [
    "def parseline(logline):\n",
    "    match = re.search(REGEXPAPACHE, logline)\n",
    "    \n",
    "    #if not match skip\n",
    "    if match is None:\n",
    "        return (logline,0)\n",
    "    \n",
    "    #Get size info as number\n",
    "    size_field = match.group(9)\n",
    "    if size_field == '-':\n",
    "        size_field = 0\n",
    "    else:\n",
    "        size_field = long(size_field)\n",
    "    \n",
    "    return (Row(\n",
    "        host = match.group(1),\n",
    "        client = match.group(2),\n",
    "        userinfo = match.group(3),\n",
    "        date_time = match.group(4),\n",
    "        method = match.group(5),\n",
    "        endpoint = match.group(6),\n",
    "        protocol = match.group(7),\n",
    "        response_code = match.group(8),\n",
    "        content_size = size_field\n",
    "            \n",
    "        ), 1)"
   ]
  },
  {
   "cell_type": "code",
   "execution_count": 31,
   "metadata": {
    "collapsed": true
   },
   "outputs": [],
   "source": [
    "month_map = {'Jan': 1, 'Feb': 2, 'Mar':3, 'Apr':4, 'May':5, 'Jun':6, 'Jul':7,\n",
    "    'Aug':8,  'Sep': 9, 'Oct':10, 'Nov': 11, 'Dec': 12}\n",
    "\n",
    "def parse_apache_time(s):\n",
    "    \"\"\" Convert Apache time format into a Python datetime object\n",
    "    Args:\n",
    "        s (str): date and time in Apache time format\n",
    "    Returns:\n",
    "        datetime: datetime object (ignore timezone for now)\n",
    "    \"\"\"\n",
    "    return datetime.datetime(int(s[7:11]),\n",
    "                             month_map[s[3:6]],\n",
    "                             int(s[0:2]),\n",
    "                             int(s[12:14]),\n",
    "                             int(s[15:17]),\n",
    "                             int(s[18:20]))"
   ]
  },
  {
   "cell_type": "code",
   "execution_count": 38,
   "metadata": {
    "collapsed": false
   },
   "outputs": [],
   "source": [
    "apacheParsedLogRDD = apachelogRDD.map(lambda e: parseline(e))"
   ]
  },
  {
   "cell_type": "code",
   "execution_count": 39,
   "metadata": {
    "collapsed": false
   },
   "outputs": [
    {
     "data": {
      "text/plain": [
       "[(Row(client=u'-', content_size=1839L, date_time=u'01/Aug/1995:00:00:01 -0400', endpoint=u'/shuttle/missions/sts-68/news/sts-68-mcc-05.txt', host=u'in24.inetnebr.com', method=u'GET', protocol=u'HTTP/1.0', response_code=u'200', userinfo=u'-'),\n",
       "  1),\n",
       " (Row(client=u'-', content_size=0L, date_time=u'01/Aug/1995:00:00:07 -0400', endpoint=u'/', host=u'uplherc.upl.com', method=u'GET', protocol=u'HTTP/1.0', response_code=u'304', userinfo=u'-'),\n",
       "  1),\n",
       " (Row(client=u'-', content_size=0L, date_time=u'01/Aug/1995:00:00:08 -0400', endpoint=u'/images/ksclogo-medium.gif', host=u'uplherc.upl.com', method=u'GET', protocol=u'HTTP/1.0', response_code=u'304', userinfo=u'-'),\n",
       "  1),\n",
       " (Row(client=u'-', content_size=0L, date_time=u'01/Aug/1995:00:00:08 -0400', endpoint=u'/images/MOSAIC-logosmall.gif', host=u'uplherc.upl.com', method=u'GET', protocol=u'HTTP/1.0', response_code=u'304', userinfo=u'-'),\n",
       "  1),\n",
       " (Row(client=u'-', content_size=0L, date_time=u'01/Aug/1995:00:00:08 -0400', endpoint=u'/images/USA-logosmall.gif', host=u'uplherc.upl.com', method=u'GET', protocol=u'HTTP/1.0', response_code=u'304', userinfo=u'-'),\n",
       "  1),\n",
       " (Row(client=u'-', content_size=1713L, date_time=u'01/Aug/1995:00:00:09 -0400', endpoint=u'/images/launch-logo.gif', host=u'ix-esc-ca2-07.ix.netcom.com', method=u'GET', protocol=u'HTTP/1.0', response_code=u'200', userinfo=u'-'),\n",
       "  1),\n",
       " (Row(client=u'-', content_size=0L, date_time=u'01/Aug/1995:00:00:10 -0400', endpoint=u'/images/WORLD-logosmall.gif', host=u'uplherc.upl.com', method=u'GET', protocol=u'HTTP/1.0', response_code=u'304', userinfo=u'-'),\n",
       "  1),\n",
       " (Row(client=u'-', content_size=1687L, date_time=u'01/Aug/1995:00:00:10 -0400', endpoint=u'/history/skylab/skylab.html', host=u'slppp6.intermind.net', method=u'GET', protocol=u'HTTP/1.0', response_code=u'200', userinfo=u'-'),\n",
       "  1),\n",
       " (Row(client=u'-', content_size=11853L, date_time=u'01/Aug/1995:00:00:10 -0400', endpoint=u'/images/launchmedium.gif', host=u'piweba4y.prodigy.com', method=u'GET', protocol=u'HTTP/1.0', response_code=u'200', userinfo=u'-'),\n",
       "  1),\n",
       " (Row(client=u'-', content_size=9202L, date_time=u'01/Aug/1995:00:00:11 -0400', endpoint=u'/history/skylab/skylab-small.gif', host=u'slppp6.intermind.net', method=u'GET', protocol=u'HTTP/1.0', response_code=u'200', userinfo=u'-'),\n",
       "  1)]"
      ]
     },
     "execution_count": 39,
     "metadata": {},
     "output_type": "execute_result"
    }
   ],
   "source": [
    "apacheParsedLogRDD.take(10)"
   ]
  },
  {
   "cell_type": "code",
   "execution_count": 42,
   "metadata": {
    "collapsed": false
   },
   "outputs": [],
   "source": [
    "goodLogRDD = apacheParsedLogRDD.filter(lambda s: s[1]==1).map(lambda e: e[0])"
   ]
  },
  {
   "cell_type": "code",
   "execution_count": 43,
   "metadata": {
    "collapsed": false
   },
   "outputs": [
    {
     "data": {
      "text/plain": [
       "[Row(client=u'-', content_size=1839L, date_time=u'01/Aug/1995:00:00:01 -0400', endpoint=u'/shuttle/missions/sts-68/news/sts-68-mcc-05.txt', host=u'in24.inetnebr.com', method=u'GET', protocol=u'HTTP/1.0', response_code=u'200', userinfo=u'-'),\n",
       " Row(client=u'-', content_size=0L, date_time=u'01/Aug/1995:00:00:07 -0400', endpoint=u'/', host=u'uplherc.upl.com', method=u'GET', protocol=u'HTTP/1.0', response_code=u'304', userinfo=u'-'),\n",
       " Row(client=u'-', content_size=0L, date_time=u'01/Aug/1995:00:00:08 -0400', endpoint=u'/images/ksclogo-medium.gif', host=u'uplherc.upl.com', method=u'GET', protocol=u'HTTP/1.0', response_code=u'304', userinfo=u'-')]"
      ]
     },
     "execution_count": 43,
     "metadata": {},
     "output_type": "execute_result"
    }
   ],
   "source": [
    "goodLogRDD.take(3)"
   ]
  },
  {
   "cell_type": "code",
   "execution_count": 44,
   "metadata": {
    "collapsed": false
   },
   "outputs": [
    {
     "data": {
      "text/plain": [
       "u'1.5.2'"
      ]
     },
     "execution_count": 44,
     "metadata": {},
     "output_type": "execute_result"
    }
   ],
   "source": [
    "sc.version"
   ]
  },
  {
   "cell_type": "code",
   "execution_count": 46,
   "metadata": {
    "collapsed": true
   },
   "outputs": [],
   "source": [
    "sqlContext = SQLContext(sc)"
   ]
  },
  {
   "cell_type": "code",
   "execution_count": 47,
   "metadata": {
    "collapsed": true
   },
   "outputs": [],
   "source": [
    "schemaLog = sqlContext.createDataFrame(goodLogRDD)"
   ]
  },
  {
   "cell_type": "code",
   "execution_count": 49,
   "metadata": {
    "collapsed": true
   },
   "outputs": [],
   "source": [
    "schemaLog.registerTempTable(\"logs\")"
   ]
  },
  {
   "cell_type": "code",
   "execution_count": 50,
   "metadata": {
    "collapsed": false
   },
   "outputs": [],
   "source": [
    "result = sqlContext.sql(\"SELECT * FROM logs LIMIT 1\")"
   ]
  },
  {
   "cell_type": "code",
   "execution_count": 51,
   "metadata": {
    "collapsed": false
   },
   "outputs": [
    {
     "data": {
      "text/plain": [
       "[Row(client=u'-', content_size=1839, date_time=u'01/Aug/1995:00:00:01 -0400', endpoint=u'/shuttle/missions/sts-68/news/sts-68-mcc-05.txt', host=u'in24.inetnebr.com', method=u'GET', protocol=u'HTTP/1.0', response_code=u'200', userinfo=u'-')]"
      ]
     },
     "execution_count": 51,
     "metadata": {},
     "output_type": "execute_result"
    }
   ],
   "source": [
    "result.collect()"
   ]
  },
  {
   "cell_type": "code",
   "execution_count": 66,
   "metadata": {
    "collapsed": false
   },
   "outputs": [],
   "source": [
    "result = sqlContext.sql(\"SELECT host,COUNT(*) as total FROM logs GROUP BY host ORDER BY total DESC LIMIT 10\")"
   ]
  },
  {
   "cell_type": "code",
   "execution_count": 67,
   "metadata": {
    "collapsed": false
   },
   "outputs": [
    {
     "data": {
      "text/plain": [
       "[Row(host=u'edams.ksc.nasa.gov', total=1013),\n",
       " Row(host=u'piweba5y.prodigy.com', total=871),\n",
       " Row(host=u'piweba3y.prodigy.com', total=824),\n",
       " Row(host=u'163.205.156.16', total=748),\n",
       " Row(host=u'www-a2.proxy.aol.com', total=746),\n",
       " Row(host=u'piweba4y.prodigy.com', total=702),\n",
       " Row(host=u'www-d3.proxy.aol.com', total=659),\n",
       " Row(host=u'www-relay.pa-x.dec.com', total=657),\n",
       " Row(host=u'www-b4.proxy.aol.com', total=656),\n",
       " Row(host=u'news.ti.com', total=655)]"
      ]
     },
     "execution_count": 67,
     "metadata": {},
     "output_type": "execute_result"
    }
   ],
   "source": [
    "result.collect()"
   ]
  },
  {
   "cell_type": "code",
   "execution_count": null,
   "metadata": {
    "collapsed": true
   },
   "outputs": [],
   "source": []
  }
 ],
 "metadata": {
  "kernelspec": {
   "display_name": "PySpark",
   "language": "python",
   "name": "pyspark"
  },
  "language_info": {
   "codemirror_mode": {
    "name": "ipython",
    "version": 2
   },
   "file_extension": ".py",
   "mimetype": "text/x-python",
   "name": "python",
   "nbconvert_exporter": "python",
   "pygments_lexer": "ipython2",
   "version": "2.7.10"
  }
 },
 "nbformat": 4,
 "nbformat_minor": 0
}
